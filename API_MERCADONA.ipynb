{
  "cells": [
    {
      "cell_type": "markdown",
      "metadata": {
        "id": "view-in-github",
        "colab_type": "text"
      },
      "source": [
        "<a href=\"https://colab.research.google.com/github/PauSanchoBeneyto/Mercadona_Pontia/blob/main/API_MERCADONA.ipynb\" target=\"_parent\"><img src=\"https://colab.research.google.com/assets/colab-badge.svg\" alt=\"Open In Colab\"/></a>"
      ]
    },
    {
      "cell_type": "code",
      "execution_count": 26,
      "metadata": {
        "id": "AOMXYIOEMmIe"
      },
      "outputs": [],
      "source": [
        "import requests as req\n",
        "import pandas as pd\n",
        "from datetime import datetime\n",
        "from bs4 import BeautifulSoup as bs"
      ]
    },
    {
      "cell_type": "code",
      "execution_count": 27,
      "metadata": {
        "id": "81hN3k0vqIxk"
      },
      "outputs": [],
      "source": [
        "#categoría\n",
        "categorias='https://tienda.mercadona.es/api/categories/'\n",
        "#tipo_categoria\n",
        "url='https://tienda.mercadona.es/api/categories/112/'\n",
        "#productos\n",
        "productos='https://tienda.mercadona.es/api/products/'"
      ]
    },
    {
      "cell_type": "code",
      "execution_count": 28,
      "metadata": {
        "colab": {
          "base_uri": "https://localhost:8080/",
          "height": 140
        },
        "id": "cZ2qWC1z88Z2",
        "outputId": "db59930c-9ac1-44d9-b997-c5a586d7000a"
      },
      "outputs": [
        {
          "output_type": "display_data",
          "data": {
            "text/plain": [
              "'{\"next\":null,\"count\":26,\"results\":[{\"id\":12,\"name\":\"Aceite, especias y salsas\",\"order\":7,\"layout\":2,\"published\":true,\"categories\":[{\"id\":112,\"name\":\"Aceite, vinagre y sal\",\"order\":7,\"layout\":1,\"published\":true,\"is_extended\":false},{\"id\":115,\"name\":\"Especias\",\"order\":7,\"layout\":1,\"published\":true,\"is_extended\":false},{\"id\":116,\"name\":\"Mayonesa, ketchup y mostaza\",\"order\":7,\"layout\":1,\"published\":true,\"is_extended\":false},{\"id\":117,\"name\":\"Otras salsas\",\"order\":7,\"layout\":1,\"published\":true,\"is_extended\":false}],\"is_extended\":false},{\"id\":18,\"name\":\"Agua y refrescos\",\"order\":8,\"layout\":2,\"published\":true,\"categories\":[{\"id\":156,\"name\":\"Agua\",\"order\":8,\"layout\":1,\"published\":true,\"is_extended\":false},{\"id\":163,\"name\":\"Isotónico y energético\",\"order\":8,\"layout\":1,\"published\":true,\"is_extended\":false},{\"id\":158,\"name\":\"Refresco de cola\",\"order\":8,\"layout\":1,\"published\":true,\"is_extended\":false},{\"id\":159,\"name\":\"Refresco de naranja y de limón\",\"order\":8,\"layout\":1,\"published\":true,\"is_extended\":false},{\"id\":161,\"name\":\"Tónica y bitter\",\"order\":8,\"layout\":1,\"published\":true,\"is_extended\":false},{\"id\":162,\"name\":\"Refresco de té y sin gas\",\"order\":8,\"layout\":1,\"published\":true,\"is_extended\":false}],\"is_extended\":false},{\"id\":15,\"name\":\"Aperitivos\",\"order\":9,\"layout\":2,\"published\":true,\"categories\":[{\"id\":135,\"name\":\"Aceitunas y encurtidos\",\"order\":9,\"layout\":1,\"published\":true,\"is_extended\":false},{\"id\":133,\"name\":\"Frutos secos y fruta desecada\",\"order\":9,\"layout\":1,\"published\":true,\"is_extended\":false},{\"id\":132,\"name\":\"Patatas fritas y snacks\",\"order\":9,\"layout\":1,\"published\":true,\"is_extended\":false}],\"is_extended\":false},{\"id\":13,\"name\":\"Arroz, legumbres y pasta\",\"order\":10,\"layout\":2,\"published\":true,\"categories\":[{\"id\":118,\"name\":\"Arroz\",\"order\":10,\"layout\":1,\"published\":true,\"is_extended\":false},{\"id\":121,\"name\":\"Legumbres\",\"order\":10,\"layout\":1,\"published\":true,\"is_extended\":false},{\"id\":120,\"name\":\"Pasta y fideos\",\"order\":10,\"layout\":1,\"published\":true,\"is_extended\":false}],\"is_extended\":false},{\"id\":9,\"name\":\"Azúcar, caramelos y chocolate\",\"order\":11,\"layout\":2,\"published\":true,\"categories\":[{\"id\":89,\"name\":\"Azúcar y edulcorante\",\"order\":11,\"layout\":1,\"published\":true,\"is_extended\":false},{\"id\":95,\"name\":\"Chicles y caramelos\",\"order\":11,\"layout\":1,\"published\":true,\"is_extended\":false},{\"id\":92,\"name\":\"Chocolate\",\"order\":11,\"layout\":1,\"published\":true,\"is_extended\":false},{\"id\":97,\"name\":\"Golosinas\",\"order\":11,\"layout\":1,\"published\":true,\"is_extended\":false},{\"id\":90,\"name\":\"Mermelada y miel\",\"order\":11,\"layout\":1,\"published\":true,\"is_extended\":false}],\"is_extended\":false},{\"id\":24,\"name\":\"Bebé\",\"order\":14,\"layout\":2,\"published\":true,\"categories\":[{\"id\":216,\"name\":\"Alimentación infantil\",\"order\":14,\"layout\":1,\"published\":true,\"is_extended\":false},{\"id\":219,\"name\":\"Biberón y chupete\",\"order\":14,\"layout\":1,\"published\":true,\"is_extended\":false},{\"id\":218,\"name\":\"Higiene y cuidado\",\"order\":14,\"layout\":1,\"published\":true,\"is_extended\":false},{\"id\":217,\"name\":\"Toallitas y pañales\",\"order\":14,\"layout\":1,\"published\":true,\"is_extended\":false}],\"is_extended\":false},{\"id\":19,\"name\":\"Bodega\",\"order\":15,\"layout\":2,\"published\":true,\"categories\":[{\"id\":164,\"name\":\"Cerveza\",\"order\":15,\"layout\":1,\"published\":true,\"is_extended\":false},{\"id\":166,\"name\":\"Cerveza sin alcohol\",\"order\":15,\"layout\":1,\"published\":true,\"is_extended\":false},{\"id\":181,\"name\":\"Licores\",\"order\":15,\"layout\":1,\"published\":true,\"is_extended\":false},{\"id\":174,\"name\":\"Sidra y cava\",\"order\":15,\"layout\":1,\"published\":true,\"is_extended\":false},{\"id\":168,\"name\":\"Tinto de verano y sangría\",\"order\":15,\"layout\":1,\"published\":true,\"is_extended\":false},{\"id\":170,\"name\":\"Vino blanco\",\"order\":15,\"layout\":1,\"published\":true,\"is_extended\":false},{\"id\":173,\"name\":\"Vino lambrusco y espumoso\",\"order\":15,\"layout\":1,\"published\":true,\"is_extended\":false},{\"id\":171,\"name\":\"Vino rosado\",\"order\":15,\"layout\":1,\"published\":true,\"is_extended\":false},{\"id\":169,\"name\":\"Vino tinto\",\"order\":15,\"layout\":1,\"published\":true,\"is_extended\":false}],\"is_extended\":false},{\"id\":8,\"name\":\"Cacao, café e infusiones\",\"order\":16,\"layout\":2,\"published\":true,\"categories\":[{\"id\":86,\"name\":\"Cacao soluble y chocolate a la taza\",\"order\":16,\"layout\":1,\"published\":true,\"is_extended\":false},{\"id\":81,\"name\":\"Café cápsula y monodosis\",\"order\":16,\"layout\":1,\"published\":true,\"is_extended\":false},{\"id\":83,\"name\":\"Café molido y en grano\",\"order\":16,\"layout\":1,\"published\":true,\"is_extended\":false},{\"id\":84,\"name\":\"Café soluble y otras bebidas\",\"order\":16,\"layout\":1,\"published\":true,\"is_extended\":false},{\"id\":88,\"name\":\"Té e infusiones\",\"order\":16,\"layout\":1,\"published\":true,\"is_extended\":false}],\"is_extended\":false},{\"id\":3,\"name\":\"Carne\",\"order\":17,\"layout\":2,\"published\":true,\"categories\":[{\"id\":46,\"name\":\"Arreglos\",\"order\":17,\"layout\":1,\"published\":true,\"is_extended\":false},{\"id\":38,\"name\":\"Aves y pollo\",\"order\":17,\"layout\":1,\"published\":true,\"is_extended\":false},{\"id\":47,\"name\":\"Carne congelada\",\"order\":17,\"layout\":1,\"published\":true,\"is_extended\":false},{\"id\":37,\"name\":\"Cerdo\",\"order\":17,\"layout\":1,\"published\":true,\"is_extended\":false},{\"id\":42,\"name\":\"Conejo y cordero\",\"order\":17,\"layout\":1,\"published\":true,\"is_extended\":false},{\"id\":43,\"name\":\"Embutido\",\"order\":17,\"layout\":1,\"published\":true,\"is_extended\":false},{\"id\":44,\"name\":\"Hamburguesas y picadas\",\"order\":17,\"layout\":1,\"published\":true,\"is_extended\":false},{\"id\":40,\"name\":\"Vacuno\",\"order\":17,\"layout\":1,\"published\":true,\"is_extended\":false},{\"id\":45,\"name\":\"Empanados y elaborados\",\"order\":17,\"layout\":1,\"published\":true,\"is_extended\":false}],\"is_extended\":false},{\"id\":7,\"name\":\"Cereales y galletas\",\"order\":18,\"layout\":2,\"published\":true,\"categories\":[{\"id\":78,\"name\":\"Cereales\",\"order\":18,\"layout\":1,\"published\":true,\"is_extended\":false},{\"id\":80,\"name\":\"Galletas\",\"order\":18,\"layout\":1,\"published\":true,\"is_extended\":false},{\"id\":79,\"name\":\"Tortitas\",\"order\":18,\"layout\":1,\"published\":true,\"is_extended\":false}],\"is_extended\":false},{\"id\":4,\"name\":\"Charcutería y quesos\",\"order\":159,\"layout\":2,\"published\":true,\"categories\":[{\"id\":48,\"name\":\"Aves y jamón cocido\",\"order\":159,\"layout\":1,\"published\":true,\"is_extended\":false},{\"id\":52,\"name\":\"Bacón y salchichas\",\"order\":159,\"layout\":1,\"published\":true,\"is_extended\":false},{\"id\":49,\"name\":\"Chopped y mortadela\",\"order\":159,\"layout\":1,\"published\":true,\"is_extended\":false},{\"id\":51,\"name\":\"Embutido curado\",\"order\":159,\"layout\":1,\"published\":true,\"is_extended\":false},{\"id\":50,\"name\":\"Jamón serrano\",\"order\":159,\"layout\":1,\"published\":true,\"is_extended\":false},{\"id\":58,\"name\":\"Paté y sobrasada\",\"order\":159,\"layout\":1,\"published\":true,\"is_extended\":false},{\"id\":54,\"name\":\"Queso curado, semicurado y tierno\",\"order\":159,\"layout\":1,\"published\":true,\"is_extended\":false},{\"id\":56,\"name\":\"Queso lonchas, rallado y en porciones\",\"order\":159,\"layout\":1,\"published\":true,\"is_extended\":false},{\"id\":53,\"name\":\"Queso untable y fresco\",\"order\":159,\"layout\":1,\"published\":true,\"is_extended\":false}],\"is_extended\":false},{\"id\":17,\"name\":\"Congelados\",\"order\":213,\"layout\":2,\"published\":true,\"categories\":[{\"id\":147,\"name\":\"Arroz y pasta\",\"order\":213,\"layout\":1,\"published\":true,\"is_extended\":false},{\"id\":148,\"name\":\"Carne\",\"order\":213,\"layout\":1,\"published\":true,\"is_extended\":false},{\"id\":154,\"name\":\"Helados\",\"order\":213,\"layout\":1,\"published\":true,\"is_extended\":false},{\"id\":155,\"name\":\"Hielo\",\"order\":213,\"layout\":1,\"published\":true,\"is_extended\":false},{\"id\":150,\"name\":\"Marisco\",\"order\":213,\"layout\":1,\"published\":true,\"is_extended\":false},{\"id\":149,\"name\":\"Pescado\",\"order\":213,\"layout\":1,\"published\":true,\"is_extended\":false},{\"id\":151,\"name\":\"Pizzas\",\"order\":213,\"layout\":1,\"published\":true,\"is_extended\":false},{\"id\":884,\"name\":\"Rebozados\",\"order\":213,\"layout\":2,\"published\":true,\"is_extended\":false},{\"id\":152,\"name\":\"Tartas y churros\",\"order\":213,\"layout\":1,\"published\":true,\"is_extended\":false},{\"id\":145,\"name\":\"Verdura\",\"order\":213,\"layout\":1,\"published\":true,\"is_extended\":false}],\"is_extended\":false},{\"id\":14,\"name\":\"Conservas, caldos y cremas\",\"order\":215,\"layout\":2,\"published\":true,\"categories\":[{\"id\":122,\"name\":\"Atún y otras conservas de pescado\",\"order\":215,\"layout\":1,\"published\":true,\"is_extended\":false},{\"id\":123,\"name\":\"Berberechos y mejillones\",\"order\":215,\"layout\":1,\"published\":true,\"is_extended\":false},{\"id\":127,\"name\":\"Conservas de verdura y frutas\",\"order\":215,\"layout\":1,\"published\":true,\"is_extended\":false},{\"id\":130,\"name\":\"Gazpacho y cremas\",\"order\":215,\"layout\":1,\"published\":true,\"is_extended\":false},{\"id\":129,\"name\":\"Sopa y caldo\",\"order\":215,\"layout\":1,\"published\":true,\"is_extended\":false},{\"id\":126,\"name\":\"Tomate\",\"order\":215,\"layout\":1,\"published\":true,\"is_extended\":false}],\"is_extended\":false},{\"id\":21,\"name\":\"Cuidado del cabello\",\"order\":238,\"layout\":2,\"published\":true,\"categories\":[{\"id\":201,\"name\":\"Acondicionador y mascarilla\",\"order\":238,\"layout\":1,\"published\":true,\"is_extended\":false},{\"id\":199,\"name\":\"Champú\",\"order\":238,\"layout\":1,\"published\":true,\"is_extended\":false},{\"id\":203,\"name\":\"Coloración cabello\",\"order\":238,\"layout\":1,\"published\":true,\"is_extended\":false},{\"id\":202,\"name\":\"Fijación cabello\",\"order\":238,\"layout\":1,\"published\":true,\"is_extended\":false}],\"is_extended\":false},{\"id\":20,\"name\":\"Cuidado facial y corporal\",\"order\":241,\"layout\":2,\"published\":true,\"categories\":[{\"id\":192,\"name\":\"Afeitado y cuidado para hombre\",\"order\":241,\"layout\":1,\"published\":true,\"is_extended\":false},{\"id\":189,\"name\":\"Cuidado corporal\",\"order\":241,\"layout\":1,\"published\":true,\"is_extended\":false},{\"id\":185,\"name\":\"Cuidado e higiene facial\",\"order\":241,\"layout\":1,\"published\":true,\"is_extended\":false},{\"id\":191,\"name\":\"Depilación\",\"order\":241,\"layout\":1,\"published\":true,\"is_extended\":false},{\"id\":188,\"name\":\"Desodorante\",\"order\":241,\"layout\":1,\"published\":true,\"is_extended\":false},{\"id\":187,\"name\":\"Gel y jabón de manos\",\"order\":241,\"layout\":1,\"published\":true,\"is_extended\":false},{\"id\":186,\"name\":\"Higiene bucal\",\"order\":241,\"layout\":1,\"published\":true,\"is_extended\":false},{\"id\":190,\"name\":\"Higiene íntima\",\"order\":241,\"layout\":1,\"published\":true,\"is_extended\":false},{\"id\":194,\"name\":\"Manicura y pedicura\",\"order\":241,\"layout\":1,\"published\":true,\"is_extended\":false},{\"id\":196,\"name\":\"Perfume y colonia\",\"order\":241,\"layout\":1,\"published\":true,\"is_extended\":false},{\"id\":198,\"name\":\"Protector solar y aftersun\",\"order\":241,\"layout\":1,\"published\":true,\"is_extended\":false}],\"is_extended\":false},{\"id\":23,\"name\":\"Fitoterapia y parafarmacia\",\"order\":303,\"layout\":2,\"published\":true,\"categories\":[{\"id\":213,\"name\":\"Fitoterapia\",\"order\":303,\"layout\":1,\"published\":true,\"is_extended\":false},{\"id\":214,\"name\":\"Parafarmacia\",\"order\":303,\"layout\":1,\"published\":true,\"is_extended\":false}],\"is_extended\":false},{\"id\":1,\"name\":\"Fruta y verdura\",\"order\":304,\"layout\":2,\"published\":true,\"categories\":[{\"id\":27,\"name\":\"Fruta\",\"order\":304,\"layout\":1,\"published\":true,\"is_extended\":false},{\"id\":28,\"name\":\"Lechuga y ensalada preparada\",\"order\":304,\"layout\":1,\"published\":true,\"is_extended\":false},{\"id\":29,\"name\":\"Verdura\",\"order\":304,\"layout\":1,\"published\":true,\"is_extended\":false}],\"is_extended\":false},{\"id\":6,\"name\":\"Huevos, leche y mantequilla\",\"order\":371,\"layout\":2,\"published\":true,\"categories\":[{\"id\":77,\"name\":\"Huevos\",\"order\":371,\"layout\":1,\"published\":true,\"is_extended\":false},{\"id\":72,\"name\":\"Leche y bebidas vegetales\",\"order\":371,\"layout\":1,\"published\":true,\"is_extended\":false},{\"id\":75,\"name\":\"Mantequilla y margarina\",\"order\":371,\"layout\":1,\"published\":true,\"is_extended\":false}],\"is_extended\":false},{\"id\":26,\"name\":\"Limpieza y hogar\",\"order\":372,\"layout\":2,\"published\":true,\"categories\":[{\"id\":226,\"name\":\"Detergente y suavizante ropa\",\"order\":372,\"layout\":1,\"published\":true,\"is_extended\":false},{\"id\":237,\"name\":\"Estropajo, bayeta y guantes\",\"order\":372,\"layout\":1,\"published\":true,\"is_extended\":false},{\"id\":241,\"name\":\"Insecticida y ambientador\",\"order\":372,\"layout\":1,\"published\":true,\"is_extended\":false},{\"id\":234,\"name\":\"Lejía y líquidos fuertes\",\"order\":372,\"layout\":1,\"published\":true,\"is_extended\":false},{\"id\":235,\"name\":\"Limpiacristales\",\"order\":372,\"layout\":1,\"published\":true,\"is_extended\":false},{\"id\":233,\"name\":\"Limpiahogar y friegasuelos\",\"order\":372,\"layout\":1,\"published\":true,\"is_extended\":false},{\"id\":231,\"name\":\"Limpieza baño y WC\",\"order\":372,\"layout\":1,\"published\":true,\"is_extended\":false},{\"id\":230,\"name\":\"Limpieza cocina\",\"order\":372,\"layout\":1,\"published\":true,\"is_extended\":false},{\"id\":232,\"name\":\"Limpieza muebles y multiusos\",\"order\":372,\"layout\":1,\"published\":true,\"is_extended\":false},{\"id\":229,\"name\":\"Limpieza vajilla\",\"order\":372,\"layout\":1,\"published\":true,\"is_extended\":false},{\"id\":243,\"name\":\"Menaje y conservación de alimentos\",\"order\":372,\"layout\":1,\"published\":true,\"is_extended\":false},{\"id\":238,\"name\":\"Papel higiénico y celulosa\",\"order\":372,\"layout\":1,\"published\":true,\"is_extended\":false},{\"id\":239,\"name\":\"Pilas y bolsas de basura\",\"order\":372,\"layout\":1,\"published\":true,\"is_extended\":false},{\"id\":244,\"name\":\"Utensilios de limpieza y calzado\",\"order\":372,\"layout\":1,\"published\":true,\"is_extended\":false}],\"is_extended\":false},{\"id\":22,\"name\":\"Maquillaje\",\"order\":419,\"layout\":2,\"published\":true,\"categories\":[{\"id\":206,\"name\":\"Bases de maquillaje y corrector\",\"order\":419,\"layout\":1,\"published\":true,\"is_extended\":false},{\"id\":207,\"name\":\"Colorete y polvos\",\"order\":419,\"layout\":1,\"published\":true,\"is_extended\":false},{\"id\":208,\"name\":\"Labios\",\"order\":419,\"layout\":1,\"published\":true,\"is_extended\":false},{\"id\":210,\"name\":\"Ojos\",\"order\":419,\"layout\":1,\"published\":true,\"is_extended\":false},{\"id\":212,\"name\":\"Pinceles y brochas\",\"order\":419,\"layout\":1,\"published\":true,\"is_extended\":false}],\"is_extended\":false},{\"id\":2,\"name\":\"Marisco y pescado\",\"order\":439,\"layout\":2,\"published\":true,\"categories\":[{\"id\":32,\"name\":\"Marisco\",\"order\":439,\"layout\":1,\"published\":true,\"is_extended\":false},{\"id\":34,\"name\":\"Pescado congelado\",\"order\":439,\"layout\":1,\"published\":true,\"is_extended\":false},{\"id\":31,\"name\":\"Pescado fresco\",\"order\":439,\"layout\":1,\"published\":true,\"is_extended\":false},{\"id\":36,\"name\":\"Salazones y ahumados\",\"order\":439,\"layout\":1,\"published\":true,\"is_extended\":false},{\"id\":789,\"name\":\"Sushi\",\"order\":439,\"layout\":2,\"published\":true,\"is_extended\":false}],\"is_extended\":false},{\"id\":25,\"name\":\"Mascotas\",\"order\":440,\"layout\":2,\"published\":true,\"categories\":[{\"id\":222,\"name\":\"Gato\",\"order\":440,\"layout\":1,\"published\":true,\"is_extended\":false},{\"id\":221,\"name\":\"Perro\",\"order\":440,\"layout\":1,\"published\":true,\"is_extended\":false},{\"id\":225,\"name\":\"Otros\",\"order\":440,\"layout\":1,\"published\":true,\"is_extended\":false}],\"is_extended\":false},{\"id\":5,\"name\":\"Panadería y pastelería\",\"order\":512,\"layout\":2,\"published\":true,\"categories\":[{\"id\":65,\"name\":\"Bollería de horno\",\"order\":512,\"layout\":1,\"published\":true,\"is_extended\":false},{\"id\":66,\"name\":\"Bollería envasada\",\"order\":512,\"layout\":1,\"published\":true,\"is_extended\":false},{\"id\":69,\"name\":\"Harina y preparado repostería\",\"order\":512,\"layout\":1,\"published\":true,\"is_extended\":false},{\"id\":59,\"name\":\"Pan de horno\",\"order\":512,\"layout\":1,\"published\":true,\"is_extended\":false},{\"id\":60,\"name\":\"Pan de molde y otras especialidades\",\"order\":512,\"layout\":1,\"published\":true,\"is_extended\":false},{\"id\":62,\"name\":\"Pan tostado y rallado\",\"order\":512,\"layout\":1,\"published\":true,\"is_extended\":false},{\"id\":64,\"name\":\"Picos, rosquilletas y picatostes\",\"order\":512,\"layout\":1,\"published\":true,\"is_extended\":false},{\"id\":68,\"name\":\"Tartas y pasteles\",\"order\":512,\"layout\":1,\"published\":true,\"is_extended\":false},{\"id\":71,\"name\":\"Velas y decoración\",\"order\":512,\"layout\":1,\"published\":true,\"is_extended\":false}],\"is_extended\":false},{\"id\":16,\"name\":\"Pizzas y platos preparados\",\"order\":594,\"layout\":2,\"published\":true,\"categories\":[{\"id\":897,\"name\":\"Listo para Comer\",\"order\":594,\"layout\":1,\"published\":true,\"is_extended\":false},{\"id\":138,\"name\":\"Pizzas\",\"order\":594,\"layout\":1,\"published\":true,\"is_extended\":false},{\"id\":140,\"name\":\"Platos preparados calientes\",\"order\":594,\"layout\":1,\"published\":true,\"is_extended\":false},{\"id\":142,\"name\":\"Platos preparados fríos\",\"order\":594,\"layout\":1,\"published\":true,\"is_extended\":false}],\"is_extended\":false},{\"id\":11,\"name\":\"Postres y yogures\",\"order\":595,\"layout\":2,\"published\":true,\"categories\":[{\"id\":105,\"name\":\"Bífidus\",\"order\":595,\"layout\":1,\"published\":true,\"is_extended\":false},{\"id\":110,\"name\":\"Flan y natillas\",\"order\":595,\"layout\":1,\"published\":true,\"is_extended\":false},{\"id\":111,\"name\":\"Gelatina y otros postres\",\"order\":595,\"layout\":1,\"published\":true,\"is_extended\":false},{\"id\":106,\"name\":\"Postres de soja\",\"order\":595,\"layout\":1,\"published\":true,\"is_extended\":false},{\"id\":103,\"name\":\"Yogures desnatados\",\"order\":595,\"layout\":1,\"published\":true,\"is_extended\":false},{\"id\":109,\"name\":\"Yogures griegos\",\"order\":595,\"layout\":1,\"published\":true,\"is_extended\":false},{\"id\":108,\"name\":\"Yogures líquidos\",\"order\":595,\"layout\":1,\"published\":true,\"is_extended\":false},{\"id\":104,\"name\":\"Yogures naturales y sabores\",\"order\":595,\"layout\":1,\"published\":true,\"is_extended\":false},{\"id\":107,\"name\":\"Yogures y postres infantiles\",\"order\":595,\"layout\":1,\"published\":true,\"is_extended\":false}],\"is_extended\":false},{\"id\":10,\"name\":\"Zumos\",\"order\":790,\"layout\":2,\"published\":true,\"categories\":[{\"id\":99,\"name\":\"Fruta variada\",\"order\":790,\"layout\":1,\"published\":true,\"is_extended\":false},{\"id\":100,\"name\":\"Melocotón y piña\",\"order\":790,\"layout\":1,\"published\":true,\"is_extended\":false},{\"id\":143,\"name\":\"Naranja\",\"order\":790,\"layout\":1,\"published\":true,\"is_extended\":false},{\"id\":98,\"name\":\"Tomate y otros sabores\",\"order\":790,\"layout\":1,\"published\":true,\"is_extended\":false}],\"is_extended\":false}],\"previous\":null}'"
            ],
            "application/vnd.google.colaboratory.intrinsic+json": {
              "type": "string"
            }
          },
          "metadata": {}
        }
      ],
      "source": [
        "#para ver el desglose en https://jsonviewer.stack.hu/\n",
        "r_cat = req.get(categorias)\n",
        "display(r_cat.text)"
      ]
    },
    {
      "cell_type": "code",
      "execution_count": 29,
      "metadata": {
        "colab": {
          "base_uri": "https://localhost:8080/",
          "height": 140
        },
        "id": "8OzOBG3w-DHF",
        "outputId": "1d66747e-29cb-46a0-fad5-b908dcfda072"
      },
      "outputs": [
        {
          "output_type": "display_data",
          "data": {
            "text/plain": [
              "'{\"id\":112,\"name\":\"Aceite, vinagre y sal\",\"order\":7,\"layout\":1,\"published\":true,\"categories\":[{\"id\":420,\"name\":\"Aceite de oliva\",\"order\":7,\"layout\":2,\"products\":[{\"id\":\"4240\",\"slug\":\"aceite-oliva-04o-hacendado-botella\",\"limit\":999,\"badges\":{\"is_water\":false,\"requires_age_check\":false},\"packaging\":\"Botella\",\"published\":true,\"share_url\":\"https://tienda.mercadona.es/product/4240/aceite-oliva-04o-hacendado-botella\",\"thumbnail\":\"https://prod-mercadona.imgix.net/images/1a84cd7052b68873985104ac24b87043.jpg?fit=crop&h=300&w=300\",\"categories\":[{\"id\":12,\"name\":\"Aceite, especias y salsas\",\"level\":0,\"order\":7}],\"display_name\":\"Aceite de oliva 0,4º Hacendado\",\"unavailable_from\":null,\"price_instructions\":{\"iva\":5,\"is_new\":false,\"is_pack\":false,\"pack_size\":null,\"unit_name\":null,\"unit_size\":1.0,\"bulk_price\":\"8.95\",\"unit_price\":\"8.95\",\"approx_size\":false,\"size_format\":\"l\",\"total_units\":null,\"unit_selector\":true,\"bunch_selector\":false,\"drained_weight\":null,\"selling_method\":0,\"price_decreased\":false,\"reference_price\":\"8.950\",\"min_bunch_amount\":1.0,\"reference_format\":\"L\",\"previous_unit_price\":\"        9.25\",\"increment_bunch_amount\":1.0},\"unavailable_weekdays\":[]},{\"id\":\"4717\",\"slug\":\"aceite-oliva-virgen-extra-hacendado-garrafa\",\"limit\":999,\"badges\":{\"is_water\":false,\"requires_age_check\":false},\"packaging\":\"Garrafa\",\"published\":true,\"share_url\":\"https://tienda.mercadona.es/product/4717/aceite-oliva-virgen-extra-hacendado-garrafa\",\"thumbnail\":\"https://prod-mercadona.imgix.net/images/c6ce7821078acb0f45c45ef2b36ee4c6.jpg?fit=crop&h=300&w=300\",\"categories\":[{\"id\":12,\"name\":\"Aceite, especias y salsas\",\"level\":0,\"order\":7}],\"display_name\":\"Aceite de oliva virgen extra Hacendado\",\"unavailable_from\":null,\"price_instructions\":{\"iva\":5,\"is_new\":false,\"is_pack\":false,\"pack_size\":null,\"unit_name\":null,\"unit_size\":3.0,\"bulk_price\":\"9.85\",\"unit_price\":\"29.55\",\"approx_size\":false,\"size_format\":\"l\",\"total_units\":null,\"unit_selector\":true,\"bunch_selector\":false,\"drained_weight\":null,\"selling_method\":0,\"price_decreased\":false,\"reference_price\":\"9.850\",\"min_bunch_amount\":1.0,\"reference_format\":\"L\",\"previous_unit_price\":null,\"increment_bunch_amount\":1.0},\"unavailable_weekdays\":[]},{\"id\":\"4740\",\"slug\":\"aceite-oliva-virgen-extra-hacendado-botella\",\"limit\":999,\"badges\":{\"is_water\":false,\"requires_age_check\":false},\"packaging\":\"Botella\",\"published\":true,\"share_url\":\"https://tienda.mercadona.es/product/4740/aceite-oliva-virgen-extra-hacendado-botella\",\"thumbnail\":\"https://prod-mercadona.imgix.net/images/bed0b39f9e3a67b1f6bfb8f4f04e5694.jpg?fit=crop&h=300&w=300\",\"categories\":[{\"id\":12,\"name\":\"Aceite, especias y salsas\",\"level\":0,\"order\":7}],\"display_name\":\"Aceite de oliva virgen extra Hacendado\",\"unavailable_from\":null,\"price_instructions\":{\"iva\":5,\"is_new\":false,\"is_pack\":false,\"pack_size\":null,\"unit_name\":null,\"unit_size\":1.0,\"bulk_price\":\"9.90\",\"unit_price\":\"9.90\",\"approx_size\":false,\"size_format\":\"l\",\"total_units\":null,\"unit_selector\":true,\"bunch_selector\":false,\"drained_weight\":null,\"selling_method\":0,\"price_decreased\":false,\"reference_price\":\"9.900\",\"min_bunch_amount\":1.0,\"reference_format\":\"L\",\"previous_unit_price\":null,\"increment_bunch_amount\":1.0},\"unavailable_weekdays\":[]},{\"id\":\"4706\",\"slug\":\"aceite-oliva-virgen-extra-hacendado-gran-seleccion-botella\",\"limit\":999,\"badges\":{\"is_water\":false,\"requires_age_check\":false},\"packaging\":\"Botella\",\"published\":true,\"share_url\":\"https://tienda.mercadona.es/product/4706/aceite-oliva-virgen-extra-hacendado-gran-seleccion-botella\",\"thumbnail\":\"https://prod-mercadona.imgix.net/images/ca971ebf519d62b535e1d0ad05ebd394.jpg?fit=crop&h=300&w=300\",\"categories\":[{\"id\":12,\"name\":\"Aceite, especias y salsas\",\"level\":0,\"order\":7}],\"display_name\":\"Aceite de oliva virgen extra Hacendado Gran Selección\",\"unavailable_from\":null,\"price_instructions\":{\"iva\":5,\"is_new\":false,\"is_pack\":false,\"pack_size\":null,\"unit_name\":null,\"unit_size\":0.75,\"bulk_price\":\"10.80\",\"unit_price\":\"8.10\",\"approx_size\":false,\"size_format\":\"l\",\"total_units\":null,\"unit_selector\":true,\"bunch_selector\":false,\"drained_weight\":null,\"selling_method\":0,\"price_decreased\":false,\"reference_price\":\"10.800\",\"min_bunch_amount\":1.0,\"reference_format\":\"L\",\"previous_unit_price\":null,\"increment_bunch_amount\":1.0},\"unavailable_weekdays\":[]},{\"id\":\"4640\",\"slug\":\"aceite-oliva-1o-hacendado-botella\",\"limit\":999,\"badges\":{\"is_water\":false,\"requires_age_check\":false},\"packaging\":\"Botella\",\"published\":true,\"share_url\":\"https://tienda.mercadona.es/product/4640/aceite-oliva-1o-hacendado-botella\",\"thumbnail\":\"https://prod-mercadona.imgix.net/images/b57ae00beedb23ec86686fa3651fd448.jpg?fit=crop&h=300&w=300\",\"categories\":[{\"id\":12,\"name\":\"Aceite, especias y salsas\",\"level\":0,\"order\":7}],\"display_name\":\"Aceite de oliva 1º Hacendado\",\"unavailable_from\":null,\"price_instructions\":{\"iva\":5,\"is_new\":false,\"is_pack\":false,\"pack_size\":null,\"unit_name\":null,\"unit_size\":1.0,\"bulk_price\":\"8.95\",\"unit_price\":\"8.95\",\"approx_size\":false,\"size_format\":\"l\",\"total_units\":null,\"unit_selector\":true,\"bunch_selector\":false,\"drained_weight\":null,\"selling_method\":0,\"price_decreased\":false,\"reference_price\":\"8.950\",\"min_bunch_amount\":1.0,\"reference_format\":\"L\",\"previous_unit_price\":\"        9.25\",\"increment_bunch_amount\":1.0},\"unavailable_weekdays\":[]},{\"id\":\"4711\",\"slug\":\"aceite-oliva-virgen-hacendado-garrafa\",\"limit\":999,\"badges\":{\"is_water\":false,\"requires_age_check\":false},\"packaging\":\"Garrafa\",\"published\":true,\"share_url\":\"https://tienda.mercadona.es/product/4711/aceite-oliva-virgen-hacendado-garrafa\",\"thumbnail\":\"https://prod-mercadona.imgix.net/images/e58a263f9514576e38a96724b3104f9b.jpg?fit=crop&h=300&w=300\",\"categories\":[{\"id\":12,\"name\":\"Aceite, especias y salsas\",\"level\":0,\"order\":7}],\"display_name\":\"Aceite de oliva virgen Hacendado\",\"unavailable_from\":null,\"price_instructions\":{\"iva\":5,\"is_new\":false,\"is_pack\":false,\"pack_size\":null,\"unit_name\":null,\"unit_size\":3.0,\"bulk_price\":\"9.50\",\"unit_price\":\"28.50\",\"approx_size\":false,\"size_format\":\"l\",\"total_units\":null,\"unit_selector\":true,\"bunch_selector\":false,\"drained_weight\":null,\"selling_method\":0,\"price_decreased\":false,\"reference_price\":\"9.500\",\"min_bunch_amount\":1.0,\"reference_format\":\"L\",\"previous_unit_price\":null,\"increment_bunch_amount\":1.0},\"unavailable_weekdays\":[]},{\"id\":\"4749\",\"slug\":\"aceite-oliva-virgen-hacendado-botella\",\"limit\":999,\"badges\":{\"is_water\":false,\"requires_age_check\":false},\"packaging\":\"Botella\",\"published\":true,\"share_url\":\"https://tienda.mercadona.es/product/4749/aceite-oliva-virgen-hacendado-botella\",\"thumbnail\":\"https://prod-mercadona.imgix.net/images/7a14986c6a536dcd485b8bb8b8e24e33.jpg?fit=crop&h=300&w=300\",\"categories\":[{\"id\":12,\"name\":\"Aceite, especias y salsas\",\"level\":0,\"order\":7}],\"display_name\":\"Aceite de oliva virgen Hacendado\",\"unavailable_from\":null,\"price_instructions\":{\"iva\":5,\"is_new\":false,\"is_pack\":false,\"pack_size\":null,\"unit_name\":null,\"unit_size\":1.0,\"bulk_price\":\"9.55\",\"unit_price\":\"9.55\",\"approx_size\":false,\"size_format\":\"l\",\"total_units\":null,\"unit_selector\":true,\"bunch_selector\":false,\"drained_weight\":null,\"selling_method\":0,\"price_decreased\":false,\"reference_price\":\"9.550\",\"min_bunch_amount\":1.0,\"reference_format\":\"L\",\"previous_unit_price\":null,\"increment_bunch_amount\":1.0},\"unavailable_weekdays\":[]},{\"id\":\"4204\",\"slug\":\"aceite-oliva-suave-hacendado-garrafa\",\"limit\":999,\"badges\":{\"is_water\":false,\"requires_age_check\":false},\"packaging\":\"Garrafa\",\"published\":true,\"share_url\":\"https://tienda.mercadona.es/product/4204/aceite-oliva-suave-hacendado-garrafa\",\"thumbnail\":\"https://prod-mercadona.imgix.net/images/617bf49db3b4f79f5e311007e8cee4ab.jpg?fit=crop&h=300&w=300\",\"categories\":[{\"id\":12,\"name\":\"Aceite, especias y salsas\",\"level\":0,\"order\":7}],\"display_name\":\"Aceite de oliva suave Hacendado\",\"unavailable_from\":null,\"price_instructions\":{\"iva\":5,\"is_new\":false,\"is_pack\":false,\"pack_size\":null,\"unit_name\":null,\"unit_size\":3.0,\"bulk_price\":\"8.90\",\"unit_price\":\"26.70\",\"approx_size\":false,\"size_format\":\"l\",\"total_units\":null,\"unit_selector\":true,\"bunch_selector\":false,\"drained_weight\":null,\"selling_method\":0,\"price_decreased\":false,\"reference_price\":\"8.900\",\"min_bunch_amount\":1.0,\"reference_format\":\"L\",\"previous_unit_price\":\"       27.60\",\"increment_bunch_amount\":1.0},\"unavailable_weekdays\":[]},{\"id\":\"4609\",\"slug\":\"aceite-oliva-intenso-hacendado-garrafa\",\"limit\":999,\"badges\":{\"is_water\":false,\"requires_age_check\":false},\"packaging\":\"Garrafa\",\"published\":true,\"share_url\":\"https://tienda.mercadona.es/product/4609/aceite-oliva-intenso-hacendado-garrafa\",\"thumbnail\":\"https://prod-mercadona.imgix.net/images/bbfe2ec5cc49633c1e2d9988feb58932.jpg?fit=crop&h=300&w=300\",\"categories\":[{\"id\":12,\"name\":\"Aceite, especias y salsas\",\"level\":0,\"order\":7}],\"display_name\":\"Aceite de oliva intenso Hacendado\",\"unavailable_from\":null,\"price_instructions\":{\"iva\":5,\"is_new\":false,\"is_pack\":false,\"pack_size\":null,\"unit_name\":null,\"unit_size\":3.0,\"bulk_price\":\"8.90\",\"unit_price\":\"26.70\",\"approx_size\":false,\"size_format\":\"l\",\"total_units\":null,\"unit_selector\":true,\"bunch_selector\":false,\"drained_weight\":null,\"selling_method\":0,\"price_decreased\":false,\"reference_price\":\"8.900\",\"min_bunch_amount\":1.0,\"reference_format\":\"L\",\"previous_unit_price\":\"       27.60\",\"increment_bunch_amount\":1.0},\"unavailable_weekdays\":[]},{\"id\":\"4718\",\"slug\":\"aceite-oliva-virgen-extra-hacendado-spray\",\"limit\":999,\"badges\":{\"is_water\":false,\"requires_age_check\":false},\"packaging\":\"Spray\",\"published\":true,\"share_url\":\"https://tienda.mercadona.es/product/4718/aceite-oliva-virgen-extra-hacendado-spray\",\"thumbnail\":\"https://prod-mercadona.imgix.net/images/2dd497b89f607de5efde08d7b1585888.jpg?fit=crop&h=300&w=300\",\"categories\":[{\"id\":12,\"name\":\"Aceite, especias y salsas\",\"level\":0,\"order\":7}],\"display_name\":\"Aceite de oliva virgen extra Hacendado\",\"unavailable_from\":null,\"price_instructions\":{\"iva\":5,\"is_new\":false,\"is_pack\":false,\"pack_size\":null,\"unit_name\":null,\"unit_size\":0.2,\"bulk_price\":\"16.50\",\"unit_price\":\"3.30\",\"approx_size\":false,\"size_format\":\"l\",\"total_units\":null,\"unit_selector\":true,\"bunch_selector\":false,\"drained_weight\":null,\"selling_method\":0,\"price_decreased\":false,\"reference_price\":\"16.500\",\"min_bunch_amount\":1.0,\"reference_format\":\"L\",\"previous_unit_price\":null,\"increment_bunch_amount\":1.0},\"unavailable_weekdays\":[]},{\"id\":\"4850\",\"slug\":\"aceite-oliva-virgen-extra-picual-casa-juncal-botella\",\"limit\":999,\"badges\":{\"is_water\":false,\"requires_age_check\":false},\"packaging\":\"Botella\",\"published\":true,\"share_url\":\"https://tienda.mercadona.es/product/4850/aceite-oliva-virgen-extra-picual-casa-juncal-botella\",\"thumbnail\":\"https://prod-mercadona.imgix.net/images/57c541a2fdb98be59dd3c91185658181.jpg?fit=crop&h=300&w=300\",\"categories\":[{\"id\":12,\"name\":\"Aceite, especias y salsas\",\"level\":0,\"order\":7}],\"display_name\":\"Aceite de oliva virgen extra Picual Casa Juncal\",\"unavailable_from\":null,\"price_instructions\":{\"iva\":5,\"is_new\":false,\"is_pack\":false,\"pack_size\":null,\"unit_name\":null,\"unit_size\":0.5,\"bulk_price\":\"15.70\",\"unit_price\":\"7.85\",\"approx_size\":false,\"size_format\":\"l\",\"total_units\":null,\"unit_selector\":true,\"bunch_selector\":false,\"drained_weight\":null,\"selling_method\":0,\"price_decreased\":false,\"reference_price\":\"15.700\",\"min_bunch_amount\":1.0,\"reference_format\":\"L\",\"previous_unit_price\":null,\"increment_bunch_amount\":1.0},\"unavailable_weekdays\":[]}],\"published\":true,\"is_extended\":false},{\"id\":421,\"name\":\"Aceite de girasol, semillas y maíz\",\"order\":7,\"layout\":2,\"products\":[{\"id\":\"4041\",\"slug\":\"aceite-girasol-refinado-02o-hacendado-garrafa\",\"limit\":999,\"badges\":{\"is_water\":false,\"requires_age_check\":false},\"packaging\":\"Garrafa\",\"published\":true,\"share_url\":\"https://tienda.mercadona.es/product/4041/aceite-girasol-refinado-02o-hacendado-garrafa\",\"thumbnail\":\"https://prod-mercadona.imgix.net/images/8c16a9c5fe8126141815ce55e50cbcba.jpg?fit=crop&h=300&w=300\",\"categories\":[{\"id\":12,\"name\":\"Aceite, especias y salsas\",\"level\":0,\"order\":7}],\"display_name\":\"Aceite de girasol refinado 0,2º Hacendado\",\"unavailable_from\":null,\"price_instructions\":{\"iva\":5,\"is_new\":false,\"is_pack\":false,\"pack_size\":null,\"unit_name\":null,\"unit_size\":5.0,\"bulk_price\":\"1.35\",\"unit_price\":\"6.75\",\"approx_size\":false,\"size_format\":\"l\",\"total_units\":null,\"unit_selector\":true,\"bunch_selector\":false,\"drained_weight\":null,\"selling_method\":0,\"price_decreased\":false,\"reference_price\":\"1.350\",\"min_bunch_amount\":1.0,\"reference_format\":\"L\",\"previous_unit_price\":null,\"increment_bunch_amount\":1.0},\"unavailable_weekdays\":[]},{\"id\":\"4040\",\"slug\":\"aceite-girasol-refinado-02o-hacendado-botella\",\"limit\":999,\"badges\":{\"is_water\":false,\"requires_age_check\":false},\"packaging\":\"Botella\",\"published\":true,\"share_url\":\"https://tienda.mercadona.es/product/4040/aceite-girasol-refinado-02o-hacendado-botella\",\"thumbnail\":\"https://prod-mercadona.imgix.net/images/38334513c2db1608117eb6c2759439f2.jpg?fit=crop&h=300&w=300\",\"categories\":[{\"id\":12,\"name\":\"Aceite, especias y salsas\",\"level\":0,\"order\":7}],\"display_name\":\"Aceite de girasol refinado 0,2º Hacendado\",\"unavailable_from\":null,\"price_instructions\":{\"iva\":5,\"is_new\":false,\"is_pack\":false,\"pack_size\":null,\"unit_name\":null,\"unit_size\":1.0,\"bulk_price\":\"1.45\",\"unit_price\":\"1.45\",\"approx_size\":false,\"size_format\":\"l\",\"total_units\":null,\"unit_selector\":true,\"bunch_selector\":false,\"drained_weight\":null,\"selling_method\":0,\"price_decreased\":false,\"reference_price\":\"1.450\",\"min_bunch_amount\":1.0,\"reference_format\":\"L\",\"previous_unit_price\":null,\"increment_bunch_amount\":1.0},\"unavailable_weekdays\":[]},{\"id\":\"4193\",\"slug\":\"aceite-coco-virgen-hacendado-bote\",\"limit\":999,\"badges\":{\"is_water\":false,\"requires_age_check\":false},\"packaging\":\"Bote\",\"published\":true,\"share_url\":\"https://tienda.mercadona.es/product/4193/aceite-coco-virgen-hacendado-bote\",\"thumbnail\":\"https://prod-mercadona.imgix.net/images/4b73d0063a13ed91219d84e7dd70d22d.jpg?fit=crop&h=300&w=300\",\"categories\":[{\"id\":12,\"name\":\"Aceite, especias y salsas\",\"level\":0,\"order\":7}],\"display_name\":\"Aceite de coco virgen Hacendado\",\"unavailable_from\":null,\"price_instructions\":{\"iva\":10,\"is_new\":false,\"is_pack\":false,\"pack_size\":null,\"unit_name\":null,\"unit_size\":0.45,\"bulk_price\":\"9.78\",\"unit_price\":\"4.40\",\"approx_size\":false,\"size_format\":\"l\",\"total_units\":null,\"unit_selector\":true,\"bunch_selector\":false,\"drained_weight\":null,\"selling_method\":0,\"price_decreased\":false,\"reference_price\":\"9.778\",\"min_bunch_amount\":1.0,\"reference_format\":\"L\",\"previous_unit_price\":null,\"increment_bunch_amount\":1.0},\"unavailable_weekdays\":[]}],\"published\":true,\"is_extended\":false},{\"id\":422,\"name\":\"Vinagre y otros aderezos\",\"order\":7,\"layout\":2,\"products\":[{\"id\":\"4940\",\"slug\":\"vinagre-vino-blanco-hacendado-botella\",\"limit\":999,\"badges\":{\"is_water\":false,\"requires_age_check\":false},\"packaging\":\"Botella\",\"published\":true,\"share_url\":\"https://tienda.mercadona.es/product/4940/vinagre-vino-blanco-hacendado-botella\",\"thumbnail\":\"https://prod-mercadona.imgix.net/images/998aae3f62fda2b1e90ecd4e835357e3.jpg?fit=crop&h=300&w=300\",\"categories\":[{\"id\":12,\"name\":\"Aceite, especias y salsas\",\"level\":0,\"order\":7}],\"display_name\":\"Vinagre de vino blanco Hacendado\",\"unavailable_from\":null,\"price_instructions\":{\"iva\":10,\"is_new\":false,\"is_pack\":false,\"pack_size\":null,\"unit_name\":null,\"unit_size\":1.0,\"bulk_price\":\"0.75\",\"unit_price\":\"0.75\",\"approx_size\":false,\"size_format\":\"l\",\"total_units\":null,\"unit_selector\":true,\"bunch_selector\":false,\"drained_weight\":null,\"selling_method\":0,\"price_decreased\":false,\"reference_price\":\"0.750\",\"min_bunch_amount\":1.0,\"reference_format\":\"L\",\"previous_unit_price\":null,\"increment_bunch_amount\":1.0},\"unavailable_weekdays\":[]},{\"id\":\"4957\",\"slug\":\"vinagre-manzana-hacendado-botella\",\"limit\":999,\"badges\":{\"is_water\":false,\"requires_age_check\":false},\"packaging\":\"Botella\",\"published\":true,\"share_url\":\"https://tienda.mercadona.es/product/4957/vinagre-manzana-hacendado-botella\",\"thumbnail\":\"https://prod-mercadona.imgix.net/images/98d5a34a0d30798bbdc520993f63e542.jpg?fit=crop&h=300&w=300\",\"categories\":[{\"id\":12,\"name\":\"Aceite, especias y salsas\",\"level\":0,\"order\":7}],\"display_name\":\"Vinagre de manzana Hacendado\",\"unavailable_from\":null,\"price_instructions\":{\"iva\":10,\"is_new\":false,\"is_pack\":false,\"pack_size\":null,\"unit_name\":null,\"unit_size\":1.0,\"bulk_price\":\"0.90\",\"unit_price\":\"0.90\",\"approx_size\":false,\"size_format\":\"l\",\"total_units\":null,\"unit_selector\":true,\"bunch_selector\":false,\"drained_weight\":null,\"selling_method\":0,\"price_decreased\":false,\"reference_price\":\"0.900\",\"min_bunch_amount\":1.0,\"reference_format\":\"L\",\"previous_unit_price\":null,\"increment_bunch_amount\":1.0},\"unavailable_weekdays\":[]},{\"id\":\"4903\",\"slug\":\"limon-exprimido-hacendado-botella\",\"limit\":999,\"badges\":{\"is_water\":false,\"requires_age_check\":false},\"packaging\":\"Botella\",\"published\":true,\"share_url\":\"https://tienda.mercadona.es/product/4903/limon-exprimido-hacendado-botella\",\"thumbnail\":\"https://prod-mercadona.imgix.net/images/802d61bae30f424fa8315698f9f245db.jpg?fit=crop&h=300&w=300\",\"categories\":[{\"id\":12,\"name\":\"Aceite, especias y salsas\",\"level\":0,\"order\":7}],\"display_name\":\"Limón exprimido Hacendado\",\"unavailable_from\":null,\"price_instructions\":{\"iva\":10,\"is_new\":false,\"is_pack\":false,\"pack_size\":null,\"unit_name\":null,\"unit_size\":0.28,\"bulk_price\":\"3.57\",\"unit_price\":\"1.00\",\"approx_size\":false,\"size_format\":\"l\",\"total_units\":null,\"unit_selector\":true,\"bunch_selector\":false,\"drained_weight\":null,\"selling_method\":0,\"price_decreased\":false,\"reference_price\":\"3.572\",\"min_bunch_amount\":1.0,\"reference_format\":\"L\",\"previous_unit_price\":null,\"increment_bunch_amount\":1.0},\"unavailable_weekdays\":[]},{\"id\":\"4908\",\"slug\":\"crema-vinagre-balsamico-modena-hacendado-botella\",\"limit\":999,\"badges\":{\"is_water\":false,\"requires_age_check\":false},\"packaging\":\"Botella\",\"published\":true,\"share_url\":\"https://tienda.mercadona.es/product/4908/crema-vinagre-balsamico-modena-hacendado-botella\",\"thumbnail\":\"https://prod-mercadona.imgix.net/images/d23cb7535fe0a9e9e053713faff31b93.jpg?fit=crop&h=300&w=300\",\"categories\":[{\"id\":12,\"name\":\"Aceite, especias y salsas\",\"level\":0,\"order\":7}],\"display_name\":\"Crema de vinagre balsámico de Módena Hacendado\",\"unavailable_from\":null,\"price_instructions\":{\"iva\":10,\"is_new\":false,\"is_pack\":false,\"pack_size\":null,\"unit_name\":null,\"unit_size\":0.25,\"bulk_price\":\"7.00\",\"unit_price\":\"1.75\",\"approx_size\":false,\"size_format\":\"kg\",\"total_units\":null,\"unit_selector\":true,\"bunch_selector\":false,\"drained_weight\":null,\"selling_method\":0,\"price_decreased\":false,\"reference_price\":\"7.000\",\"min_bunch_amount\":1.0,\"reference_format\":\"kg\",\"previous_unit_price\":null,\"increment_bunch_amount\":1.0},\"unavailable_weekdays\":[]},{\"id\":\"13609\",\"slug\":\"vinagre-jerez-reserva-hacendado-botella\",\"limit\":999,\"badges\":{\"is_water\":false,\"requires_age_check\":false},\"packaging\":\"Botella\",\"published\":true,\"share_url\":\"https://tienda.mercadona.es/product/13609/vinagre-jerez-reserva-hacendado-botella\",\"thumbnail\":\"https://prod-mercadona.imgix.net/images/bfa0c4aabf80adf4cd9a390df6aa7184.jpg?fit=crop&h=300&w=300\",\"categories\":[{\"id\":12,\"name\":\"Aceite, especias y salsas\",\"level\":0,\"order\":7}],\"display_name\":\"Vinagre de Jerez reserva Hacendado\",\"unavailable_from\":null,\"price_instructions\":{\"iva\":10,\"is_new\":false,\"is_pack\":false,\"pack_size\":null,\"unit_name\":null,\"unit_size\":0.25,\"bulk_price\":\"8.00\",\"unit_price\":\"2.00\",\"approx_size\":false,\"size_format\":\"l\",\"total_units\":null,\"unit_selector\":true,\"bunch_selector\":false,\"drained_weight\":null,\"selling_method\":0,\"price_decreased\":false,\"reference_price\":\"8.000\",\"min_bunch_amount\":1.0,\"reference_format\":\"L\",\"previous_unit_price\":null,\"increment_bunch_amount\":1.0},\"unavailable_weekdays\":[]},{\"id\":\"4905\",\"slug\":\"reduccion-vinagre-pedro-ximenez-hacendado-botella\",\"limit\":999,\"badges\":{\"is_water\":false,\"requires_age_check\":false},\"packaging\":\"Botella\",\"published\":true,\"share_url\":\"https://tienda.mercadona.es/product/4905/reduccion-vinagre-pedro-ximenez-hacendado-botella\",\"thumbnail\":\"https://prod-mercadona.imgix.net/images/0f2f3566dedc310f8330782da97cff7b.jpg?fit=crop&h=300&w=300\",\"categories\":[{\"id\":12,\"name\":\"Aceite, especias y salsas\",\"level\":0,\"order\":7}],\"display_name\":\"Reducción de vinagre Pedro Ximénez Hacendado\",\"unavailable_from\":null,\"price_instructions\":{\"iva\":10,\"is_new\":false,\"is_pack\":false,\"pack_size\":null,\"unit_name\":null,\"unit_size\":0.3,\"bulk_price\":\"7.50\",\"unit_price\":\"2.25\",\"approx_size\":false,\"size_format\":\"kg\",\"total_units\":null,\"unit_selector\":true,\"bunch_selector\":false,\"drained_weight\":null,\"selling_method\":0,\"price_decreased\":false,\"reference_price\":\"7.500\",\"min_bunch_amount\":1.0,\"reference_format\":\"kg\",\"previous_unit_price\":null,\"increment_bunch_amount\":1.0},\"unavailable_weekdays\":[]},{\"id\":\"4962\",\"slug\":\"aceite-oliva-vinagre-sal-merry-5-monodosis-10-ml-aceite-oliva-virgen-extra-5-monodosis-10-ml-vinagre-jerez-5-monodosis-1-gr-sal-paquete\",\"limit\":999,\"badges\":{\"is_water\":false,\"requires_age_check\":false},\"packaging\":\"Paquete\",\"published\":true,\"share_url\":\"https://tienda.mercadona.es/product/4962/aceite-oliva-vinagre-sal-merry-5-monodosis-10-ml-aceite-oliva-virgen-extra-5-monodosis-10-ml-vinagre-jerez-5-monodosis-1-gr-sal-paquete\",\"thumbnail\":\"https://prod-mercadona.imgix.net/images/76415f87b3e97c28177c7d42b0beac62.jpg?fit=crop&h=300&w=300\",\"categories\":[{\"id\":12,\"name\":\"Aceite, especias y salsas\",\"level\":0,\"order\":7}],\"display_name\":\"Aceite de oliva, vinagre y sal Merry\",\"unavailable_from\":null,\"price_instructions\":{\"iva\":10,\"is_new\":false,\"is_pack\":true,\"pack_size\":0.01,\"unit_name\":\"monodosis\",\"unit_size\":0.1,\"bulk_price\":\"22.00\",\"unit_price\":\"2.20\",\"approx_size\":false,\"size_format\":\"l\",\"total_units\":15,\"unit_selector\":true,\"bunch_selector\":false,\"drained_weight\":null,\"selling_method\":0,\"price_decreased\":false,\"reference_price\":\"22.000\",\"min_bunch_amount\":1.0,\"reference_format\":\"L\",\"previous_unit_price\":null,\"increment_bunch_amount\":1.0},\"unavailable_weekdays\":[]},{\"id\":\"26496\",\"slug\":\"vinagre-balsamico-modena-hacendado-botella\",\"limit\":999,\"badges\":{\"is_water\":false,\"requires_age_check\":false},\"packaging\":\"Botella\",\"published\":true,\"share_url\":\"https://tienda.mercadona.es/product/26496/vinagre-balsamico-modena-hacendado-botella\",\"thumbnail\":\"https://prod-mercadona.imgix.net/images/f65c196d0aae6388f9e6852c381f8da4.jpg?fit=crop&h=300&w=300\",\"categories\":[{\"id\":12,\"name\":\"Aceite, especias y salsas\",\"level\":0,\"order\":7}],\"display_name\":\"Vinagre balsámico de Módena Hacendado\",\"unavailable_from\":null,\"price_instructions\":{\"iva\":10,\"is_new\":false,\"is_pack\":false,\"pack_size\":null,\"unit_name\":null,\"unit_size\":0.5,\"bulk_price\":\"4.90\",\"unit_price\":\"2.45\",\"approx_size\":false,\"size_format\":\"l\",\"total_units\":null,\"unit_selector\":true,\"bunch_selector\":false,\"drained_weight\":null,\"selling_method\":0,\"price_decreased\":false,\"reference_price\":\"4.900\",\"min_bunch_amount\":1.0,\"reference_format\":\"L\",\"previous_unit_price\":\"        2.50\",\"increment_bunch_amount\":1.0},\"unavailable_weekdays\":[]}],\"published\":true,\"is_extended\":false},{\"id\":424,\"name\":\"Sal y bicarbonato\",\"order\":7,\"layout\":2,\"products\":[{\"id\":\"19731\",\"slug\":\"sal-fina-hacendado-paquete\",\"limit\":999,\"badges\":{\"is_water\":false,\"requires_age_check\":false},\"packaging\":\"Paquete\",\"published\":true,\"share_url\":\"https://tienda.mercadona.es/product/19731/sal-fina-hacendado-paquete\",\"thumbnail\":\"https://prod-mercadona.imgix.net/images/5097b3d7450edab7c2d9586299f5f3b9.jpg?fit=crop&h=300&w=300\",\"categories\":[{\"id\":12,\"name\":\"Aceite, especias y salsas\",\"level\":0,\"order\":7}],\"display_name\":\"Sal fina Hacendado\",\"unavailable_from\":null,\"price_instructions\":{\"iva\":10,\"is_new\":false,\"is_pack\":false,\"pack_size\":null,\"unit_name\":null,\"unit_size\":1.0,\"bulk_price\":\"0.35\",\"unit_price\":\"0.35\",\"approx_size\":false,\"size_format\":\"kg\",\"total_units\":null,\"unit_selector\":true,\"bunch_selector\":false,\"drained_weight\":null,\"selling_method\":0,\"price_decreased\":false,\"reference_price\":\"0.350\",\"min_bunch_amount\":1.0,\"reference_format\":\"kg\",\"previous_unit_price\":null,\"increment_bunch_amount\":1.0},\"unavailable_weekdays\":[]},{\"id\":\"19715\",\"slug\":\"sal-fina-mesa-hacendado-bote\",\"limit\":999,\"badges\":{\"is_water\":false,\"requires_age_check\":false},\"packaging\":\"Bote\",\"published\":true,\"share_url\":\"https://tienda.mercadona.es/product/19715/sal-fina-mesa-hacendado-bote\",\"thumbnail\":\"https://prod-mercadona.imgix.net/images/32e154799c788a3227d8121ea493cab4.jpg?fit=crop&h=300&w=300\",\"categories\":[{\"id\":12,\"name\":\"Aceite, especias y salsas\",\"level\":0,\"order\":7}],\"display_name\":\"Sal fina de mesa Hacendado\",\"unavailable_from\":null,\"price_instructions\":{\"iva\":10,\"is_new\":false,\"is_pack\":false,\"pack_size\":null,\"unit_name\":null,\"unit_size\":0.25,\"bulk_price\":\"3.00\",\"unit_price\":\"0.75\",\"approx_size\":false,\"size_format\":\"kg\",\"total_units\":null,\"unit_selector\":true,\"bunch_selector\":false,\"drained_weight\":null,\"selling_method\":0,\"price_decreased\":false,\"reference_price\":\"3.000\",\"min_bunch_amount\":1.0,\"reference_format\":\"kg\",\"previous_unit_price\":null,\"increment_bunch_amount\":1.0},\"unavailable_weekdays\":[]},{\"id\":\"19732\",\"slug\":\"sal-yodada-fina-hacendado-paquete\",\"limit\":999,\"badges\":{\"is_water\":false,\"requires_age_check\":false},\"packaging\":\"Paquete\",\"published\":true,\"share_url\":\"https://tienda.mercadona.es/product/19732/sal-yodada-fina-hacendado-paquete\",\"thumbnail\":\"https://prod-mercadona.imgix.net/images/409a53c0327dff2c4b91e6b4c58efa42.jpg?fit=crop&h=300&w=300\",\"categories\":[{\"id\":12,\"name\":\"Aceite, especias y salsas\",\"level\":0,\"order\":7}],\"display_name\":\"Sal yodada fina Hacendado\",\"unavailable_from\":null,\"price_instructions\":{\"iva\":10,\"is_new\":false,\"is_pack\":false,\"pack_size\":null,\"unit_name\":null,\"unit_size\":1.0,\"bulk_price\":\"0.35\",\"unit_price\":\"0.35\",\"approx_size\":false,\"size_format\":\"kg\",\"total_units\":null,\"unit_selector\":true,\"bunch_selector\":false,\"drained_weight\":null,\"selling_method\":0,\"price_decreased\":false,\"reference_price\":\"0.350\",\"min_bunch_amount\":1.0,\"reference_format\":\"kg\",\"previous_unit_price\":null,\"increment_bunch_amount\":1.0},\"unavailable_weekdays\":[]},{\"id\":\"19733\",\"slug\":\"sal-gruesa-hacendado-paquete\",\"limit\":999,\"badges\":{\"is_water\":false,\"requires_age_check\":false},\"packaging\":\"Paquete\",\"published\":true,\"share_url\":\"https://tienda.mercadona.es/product/19733/sal-gruesa-hacendado-paquete\",\"thumbnail\":\"https://prod-mercadona.imgix.net/images/8b9798cc6f23201e8191711f58368727.jpg?fit=crop&h=300&w=300\",\"categories\":[{\"id\":12,\"name\":\"Aceite, especias y salsas\",\"level\":0,\"order\":7}],\"display_name\":\"Sal gruesa Hacendado\",\"unavailable_from\":null,\"price_instructions\":{\"iva\":10,\"is_new\":false,\"is_pack\":false,\"pack_size\":null,\"unit_name\":null,\"unit_size\":1.0,\"bulk_price\":\"0.35\",\"unit_price\":\"0.35\",\"approx_size\":false,\"size_format\":\"kg\",\"total_units\":null,\"unit_selector\":true,\"bunch_selector\":false,\"drained_weight\":null,\"selling_method\":0,\"price_decreased\":false,\"reference_price\":\"0.350\",\"min_bunch_amount\":1.0,\"reference_format\":\"kg\",\"previous_unit_price\":null,\"increment_bunch_amount\":1.0},\"unavailable_weekdays\":[]},{\"id\":\"29007\",\"slug\":\"bicarbonato-sodico-hacendado-paquete\",\"limit\":999,\"badges\":{\"is_water\":false,\"requires_age_check\":false},\"packaging\":\"Paquete\",\"published\":true,\"share_url\":\"https://tienda.mercadona.es/product/29007/bicarbonato-sodico-hacendado-paquete\",\"thumbnail\":\"https://prod-mercadona.imgix.net/images/ed1ebfa8c76af67dc21a385de31fc778.jpg?fit=crop&h=300&w=300\",\"categories\":[{\"id\":12,\"name\":\"Aceite, especias y salsas\",\"level\":0,\"order\":7}],\"display_name\":\"Bicarbonato sódico Hacendado\",\"unavailable_from\":null,\"price_instructions\":{\"iva\":10,\"is_new\":false,\"is_pack\":false,\"pack_size\":null,\"unit_name\":null,\"unit_size\":1.0,\"bulk_price\":\"1.50\",\"unit_price\":\"1.50\",\"approx_size\":false,\"size_format\":\"kg\",\"total_units\":null,\"unit_selector\":true,\"bunch_selector\":false,\"drained_weight\":null,\"selling_method\":0,\"price_decreased\":false,\"reference_price\":\"1.500\",\"min_bunch_amount\":1.0,\"reference_format\":\"kg\",\"previous_unit_price\":null,\"increment_bunch_amount\":1.0},\"unavailable_weekdays\":[]},{\"id\":\"29006\",\"slug\":\"bicarbonato-sodico-hacendado-bote\",\"limit\":999,\"badges\":{\"is_water\":false,\"requires_age_check\":false},\"packaging\":\"Bote\",\"published\":true,\"share_url\":\"https://tienda.mercadona.es/product/29006/bicarbonato-sodico-hacendado-bote\",\"thumbnail\":\"https://prod-mercadona.imgix.net/images/c7cd20b0038ee22bb7678fbebc26df3f.jpg?fit=crop&h=300&w=300\",\"categories\":[{\"id\":12,\"name\":\"Aceite, especias y salsas\",\"level\":0,\"order\":7}],\"display_name\":\"Bicarbonato sódico Hacendado\",\"unavailable_from\":null,\"price_instructions\":{\"iva\":10,\"is_new\":false,\"is_pack\":false,\"pack_size\":null,\"unit_name\":null,\"unit_size\":0.3,\"bulk_price\":\"3.67\",\"unit_price\":\"1.10\",\"approx_size\":false,\"size_format\":\"kg\",\"total_units\":null,\"unit_selector\":true,\"bunch_selector\":false,\"drained_weight\":null,\"selling_method\":0,\"price_decreased\":false,\"reference_price\":\"3.667\",\"min_bunch_amount\":1.0,\"reference_format\":\"kg\",\"previous_unit_price\":null,\"increment_bunch_amount\":1.0},\"unavailable_weekdays\":[]},{\"id\":\"19740\",\"slug\":\"sal-marina-escamas-polasal-bote\",\"limit\":999,\"badges\":{\"is_water\":false,\"requires_age_check\":false},\"packaging\":\"Bote\",\"published\":true,\"share_url\":\"https://tienda.mercadona.es/product/19740/sal-marina-escamas-polasal-bote\",\"thumbnail\":\"https://prod-mercadona.imgix.net/images/36bc3658a807997961ec5fda23dd948e.jpg?fit=crop&h=300&w=300\",\"categories\":[{\"id\":12,\"name\":\"Aceite, especias y salsas\",\"level\":0,\"order\":7}],\"display_name\":\"Sal marina en escamas Polasal\",\"unavailable_from\":null,\"price_instructions\":{\"iva\":10,\"is_new\":false,\"is_pack\":false,\"pack_size\":null,\"unit_name\":null,\"unit_size\":0.125,\"bulk_price\":\"16.00\",\"unit_price\":\"2.00\",\"approx_size\":false,\"size_format\":\"kg\",\"total_units\":null,\"unit_selector\":true,\"bunch_selector\":false,\"drained_weight\":null,\"selling_method\":0,\"price_decreased\":false,\"reference_price\":\"16.000\",\"min_bunch_amount\":1.0,\"reference_format\":\"kg\",\"previous_unit_price\":null,\"increment_bunch_amount\":1.0},\"unavailable_weekdays\":[]},{\"id\":\"19734\",\"slug\":\"sal-gruesa-hornear-hacendado-paquete\",\"limit\":999,\"badges\":{\"is_water\":false,\"requires_age_check\":false},\"packaging\":\"Paquete\",\"published\":true,\"share_url\":\"https://tienda.mercadona.es/product/19734/sal-gruesa-hornear-hacendado-paquete\",\"thumbnail\":\"https://prod-mercadona.imgix.net/images/c46d67d22d1cf40d537ab349322b8da2.jpg?fit=crop&h=300&w=300\",\"categories\":[{\"id\":12,\"name\":\"Aceite, especias y salsas\",\"level\":0,\"order\":7}],\"display_name\":\"Sal gruesa para hornear Hacendado\",\"unavailable_from\":null,\"price_instructions\":{\"iva\":10,\"is_new\":false,\"is_pack\":false,\"pack_size\":null,\"unit_name\":null,\"unit_size\":2.0,\"bulk_price\":\"0.55\",\"unit_price\":\"1.10\",\"approx_size\":false,\"size_format\":\"kg\",\"total_units\":null,\"unit_selector\":true,\"bunch_selector\":false,\"drained_weight\":null,\"selling_method\":0,\"price_decreased\":false,\"reference_price\":\"0.550\",\"min_bunch_amount\":1.0,\"reference_format\":\"kg\",\"previous_unit_price\":null,\"increment_bunch_amount\":1.0},\"unavailable_weekdays\":[]},{\"id\":\"34130\",\"slug\":\"sal-ajo-hacendado-bote\",\"limit\":999,\"badges\":{\"is_water\":false,\"requires_age_check\":false},\"packaging\":\"Bote\",\"published\":true,\"share_url\":\"https://tienda.mercadona.es/product/34130/sal-ajo-hacendado-bote\",\"thumbnail\":\"https://prod-mercadona.imgix.net/images/bd81680a3655bf89428f333254f34979.jpg?fit=crop&h=300&w=300\",\"categories\":[{\"id\":12,\"name\":\"Aceite, especias y salsas\",\"level\":0,\"order\":7}],\"display_name\":\"Sal de ajo Hacendado\",\"unavailable_from\":null,\"price_instructions\":{\"iva\":10,\"is_new\":false,\"is_pack\":false,\"pack_size\":null,\"unit_name\":null,\"unit_size\":0.13,\"bulk_price\":\"13.85\",\"unit_price\":\"1.80\",\"approx_size\":false,\"size_format\":\"kg\",\"total_units\":null,\"unit_selector\":true,\"bunch_selector\":false,\"drained_weight\":null,\"selling_method\":0,\"price_decreased\":false,\"reference_price\":\"13.847\",\"min_bunch_amount\":1.0,\"reference_format\":\"kg\",\"previous_unit_price\":null,\"increment_bunch_amount\":1.0},\"unavailable_weekdays\":[]},{\"id\":\"29016\",\"slug\":\"sal-frutas-sabor-limon-hacendado-bote\",\"limit\":999,\"badges\":{\"is_water\":false,\"requires_age_check\":false},\"packaging\":\"Bote\",\"published\":true,\"share_url\":\"https://tienda.mercadona.es/product/29016/sal-frutas-sabor-limon-hacendado-bote\",\"thumbnail\":\"https://prod-mercadona.imgix.net/images/5ba4d62436d14a7cc28378beb8629a46.jpg?fit=crop&h=300&w=300\",\"categories\":[{\"id\":12,\"name\":\"Aceite, especias y salsas\",\"level\":0,\"order\":7}],\"display_name\":\"Sal de frutas sabor limón Hacendado\",\"unavailable_from\":null,\"price_instructions\":{\"iva\":10,\"is_new\":false,\"is_pack\":false,\"pack_size\":null,\"unit_name\":null,\"unit_size\":0.25,\"bulk_price\":\"8.40\",\"unit_price\":\"2.10\",\"approx_size\":false,\"size_format\":\"kg\",\"total_units\":null,\"unit_selector\":true,\"bunch_selector\":false,\"drained_weight\":null,\"selling_method\":0,\"price_decreased\":false,\"reference_price\":\"8.400\",\"min_bunch_amount\":1.0,\"reference_format\":\"kg\",\"previous_unit_price\":null,\"increment_bunch_amount\":1.0},\"unavailable_weekdays\":[]},{\"id\":\"19713\",\"slug\":\"sal-60-menos-sodio-hacendado-bote\",\"limit\":999,\"badges\":{\"is_water\":false,\"requires_age_check\":false},\"packaging\":\"Bote\",\"published\":true,\"share_url\":\"https://tienda.mercadona.es/product/19713/sal-60-menos-sodio-hacendado-bote\",\"thumbnail\":\"https://prod-mercadona.imgix.net/images/94a6e7709ae88d33abaf61dc7bfaec2a.jpg?fit=crop&h=300&w=300\",\"categories\":[{\"id\":12,\"name\":\"Aceite, especias y salsas\",\"level\":0,\"order\":7}],\"display_name\":\"Sal 60% menos de sodio Hacendado\",\"unavailable_from\":null,\"price_instructions\":{\"iva\":10,\"is_new\":false,\"is_pack\":false,\"pack_size\":null,\"unit_name\":null,\"unit_size\":0.25,\"bulk_price\":\"9.20\",\"unit_price\":\"2.30\",\"approx_size\":false,\"size_format\":\"kg\",\"total_units\":null,\"unit_selector\":true,\"bunch_selector\":false,\"drained_weight\":null,\"selling_method\":0,\"price_decreased\":false,\"reference_price\":\"9.200\",\"min_bunch_amount\":1.0,\"reference_format\":\"kg\",\"previous_unit_price\":null,\"increment_bunch_amount\":1.0},\"unavailable_weekdays\":[]},{\"id\":\"19726\",\"slug\":\"preparado-salmon-ahumado-hacendado-bote\",\"limit\":999,\"badges\":{\"is_water\":false,\"requires_age_check\":false},\"packaging\":\"Bote\",\"published\":true,\"share_url\":\"https://tienda.mercadona.es/product/19726/preparado-salmon-ahumado-hacendado-bote\",\"thumbnail\":\"https://prod-mercadona.imgix.net/images/029c3c8e49b1d8f5bccae5a4c6283d47.jpg?fit=crop&h=300&w=300\",\"categories\":[{\"id\":12,\"name\":\"Aceite, especias y salsas\",\"level\":0,\"order\":7}],\"display_name\":\"Preparado para salmón ahumado Hacendado\",\"unavailable_from\":null,\"price_instructions\":{\"iva\":10,\"is_new\":false,\"is_pack\":false,\"pack_size\":null,\"unit_name\":null,\"unit_size\":0.75,\"bulk_price\":\"4.40\",\"unit_price\":\"3.30\",\"approx_size\":false,\"size_format\":\"kg\",\"total_units\":null,\"unit_selector\":true,\"bunch_selector\":false,\"drained_weight\":null,\"selling_method\":0,\"price_decreased\":false,\"reference_price\":\"4.400\",\"min_bunch_amount\":1.0,\"reference_format\":\"kg\",\"previous_unit_price\":null,\"increment_bunch_amount\":1.0},\"unavailable_weekdays\":[]},{\"id\":\"19701\",\"slug\":\"sal-rosa-himalaya-hacendado-bote\",\"limit\":999,\"badges\":{\"is_water\":false,\"requires_age_check\":false},\"packaging\":\"Bote\",\"published\":true,\"share_url\":\"https://tienda.mercadona.es/product/19701/sal-rosa-himalaya-hacendado-bote\",\"thumbnail\":\"https://prod-mercadona.imgix.net/images/e19be1d4b1c08ca7c7f65dc62a34cd74.jpg?fit=crop&h=300&w=300\",\"categories\":[{\"id\":12,\"name\":\"Aceite, especias y salsas\",\"level\":0,\"order\":7}],\"display_name\":\"Sal rosa del Himalaya Hacendado\",\"unavailable_from\":null,\"price_instructions\":{\"iva\":10,\"is_new\":false,\"is_pack\":false,\"pack_size\":null,\"unit_name\":null,\"unit_size\":0.25,\"bulk_price\":\"7.20\",\"unit_price\":\"1.80\",\"approx_size\":false,\"size_format\":\"kg\",\"total_units\":null,\"unit_selector\":true,\"bunch_selector\":false,\"drained_weight\":null,\"selling_method\":0,\"price_decreased\":false,\"reference_price\":\"7.200\",\"min_bunch_amount\":1.0,\"reference_format\":\"kg\",\"previous_unit_price\":null,\"increment_bunch_amount\":1.0},\"unavailable_weekdays\":[]}],\"published\":true,\"is_extended\":false}],\"is_extended\":false}'"
            ],
            "application/vnd.google.colaboratory.intrinsic+json": {
              "type": "string"
            }
          },
          "metadata": {}
        }
      ],
      "source": [
        "r_url = req.get(url)\n",
        "display(r_url.text)"
      ]
    },
    {
      "cell_type": "code",
      "execution_count": 30,
      "metadata": {
        "id": "_cYCSLNNqfaK"
      },
      "outputs": [],
      "source": [
        "cat=r_cat.json()\n",
        "url=r_url.json()\n",
        "#prod =req.get(productos).json()"
      ]
    },
    {
      "cell_type": "code",
      "execution_count": 38,
      "metadata": {
        "id": "59qRqr908UsU",
        "colab": {
          "base_uri": "https://localhost:8080/"
        },
        "outputId": "64eadcf7-99ec-47ca-b6e0-f02b4832bb4c"
      },
      "outputs": [
        {
          "output_type": "stream",
          "name": "stdout",
          "text": [
            "Lista de todos los IDs de categorías: [112, 115, 116, 117, 156, 163, 158, 159, 161, 162, 135, 133, 132, 118, 121, 120, 89, 95, 92, 97, 90, 216, 219, 218, 217, 164, 166, 181, 174, 168, 170, 173, 171, 169, 86, 81, 83, 84, 88, 46, 38, 47, 37, 42, 43, 44, 40, 45, 78, 80, 79, 48, 52, 49, 51, 50, 58, 54, 56, 53, 147, 148, 154, 155, 150, 149, 151, 884, 152, 145, 122, 123, 127, 130, 129, 126, 201, 199, 203, 202, 192, 189, 185, 191, 188, 187, 186, 190, 194, 196, 198, 213, 214, 27, 28, 29, 77, 72, 75, 226, 237, 241, 234, 235, 233, 231, 230, 232, 229, 243, 238, 239, 244, 206, 207, 208, 210, 212, 32, 34, 31, 36, 789, 222, 221, 225, 65, 66, 69, 59, 60, 62, 64, 68, 71, 897, 138, 140, 142, 105, 110, 111, 106, 103, 109, 108, 104, 107, 99, 100, 143, 98]\n"
          ]
        }
      ],
      "source": [
        "import json\n",
        "\n",
        "# Suponiendo que 'cat' contiene el JSON obtenido de la web\n",
        "# cat = r_cat.json()\n",
        "\n",
        "# Inicializar una lista para almacenar todos los IDs de categorías\n",
        "all_category_ids = []\n",
        "\n",
        "# Iterar sobre cada elemento en \"results\"\n",
        "for item in cat['results']:\n",
        "    # Acceder a la lista de categorías dentro del elemento actual\n",
        "    categories = item['categories']\n",
        "    # Iterar sobre las categorías y almacenar los IDs en la lista general\n",
        "    for category in categories:\n",
        "        category_id = category['id']\n",
        "        all_category_ids.append(category_id)\n",
        "\n",
        "# Imprimir la lista de todos los IDs de categorías\n",
        "print(\"Lista de todos los IDs de categorías:\", all_category_ids)"
      ]
    },
    {
      "cell_type": "code",
      "source": [
        "df_pro = pd.DataFrame()\n",
        "df=pd.DataFrame()"
      ],
      "metadata": {
        "id": "n3gjJE5xO4zK"
      },
      "execution_count": 40,
      "outputs": []
    },
    {
      "cell_type": "code",
      "execution_count": 41,
      "metadata": {
        "id": "pFlaLl_6kNwl"
      },
      "outputs": [],
      "source": [
        "for i in all_category_ids:\n",
        "  url = \"https://tienda.mercadona.es/api/categories/{}/\"\n",
        "  url=url.format(i)\n",
        "  response = req.get(url)\n",
        "  if response.status_code == 200:\n",
        "      categoria = response.json()\n",
        "      if 'categories' in categoria:\n",
        "          for cat_info in categoria['categories']:\n",
        "              if 'products' in cat_info:\n",
        "                  for product in cat_info['products']:\n",
        "                      product_id = product['id']\n",
        "                      product_name = product['display_name']\n",
        "                      product_price = product['price_instructions']['unit_price']\n",
        "                      i = categoria['id']\n",
        "                      c = categoria['name']\n",
        "                      id_2=cat_info['id']\n",
        "                      pro=cat_info['name']\n",
        "                      datos = {'ID_cat': [i], 'categoria': [c], 'ID_cat_2':[id_2],'cat_pro':[pro],'ID_pro': [product_id],'Nombre':[product_name],'Precio':[product_price]}\n",
        "                      df = pd.DataFrame(datos)\n",
        "                      df_pro = pd.concat([df_pro,df])\n"
      ]
    },
    {
      "cell_type": "code",
      "execution_count": 42,
      "metadata": {
        "id": "DK_qTARTkwPH"
      },
      "outputs": [],
      "source": [
        "df = df_pro.reset_index(drop=True)"
      ]
    },
    {
      "cell_type": "code",
      "execution_count": 43,
      "metadata": {
        "id": "X5M7TWWvjTIn"
      },
      "outputs": [],
      "source": [
        "# Obtener la fecha actual\n",
        "fecha_actual = datetime.today().strftime('%Y-%m-%d')  # Formato YYYY-MM-DD\n",
        "\n",
        "# Agregar una nueva columna con la fecha actual al DataFrame\n",
        "df['Fecha_actual'] = fecha_actual"
      ]
    },
    {
      "cell_type": "code",
      "execution_count": 44,
      "metadata": {
        "colab": {
          "base_uri": "https://localhost:8080/",
          "height": 424
        },
        "id": "cgcnG1DcjXUg",
        "outputId": "1807b5c9-ef34-4662-942a-3410ff650b46"
      },
      "outputs": [
        {
          "output_type": "execute_result",
          "data": {
            "text/plain": [
              "      ID_cat              categoria  ID_cat_2          cat_pro ID_pro  \\\n",
              "0        112  Aceite, vinagre y sal       420  Aceite de oliva   4240   \n",
              "1        112  Aceite, vinagre y sal       420  Aceite de oliva   4717   \n",
              "2        112  Aceite, vinagre y sal       420  Aceite de oliva   4740   \n",
              "3        112  Aceite, vinagre y sal       420  Aceite de oliva   4706   \n",
              "4        112  Aceite, vinagre y sal       420  Aceite de oliva   4640   \n",
              "...      ...                    ...       ...              ...    ...   \n",
              "2300     130      Gazpacho y cremas       472    Cremas y puré  60308   \n",
              "2301     130      Gazpacho y cremas       472    Cremas y puré  23264   \n",
              "2302     130      Gazpacho y cremas       472    Cremas y puré  35662   \n",
              "2303     130      Gazpacho y cremas       472    Cremas y puré  35661   \n",
              "2304     130      Gazpacho y cremas       472    Cremas y puré  35870   \n",
              "\n",
              "                                                 Nombre Precio Fecha_actual  \n",
              "0                        Aceite de oliva 0,4º Hacendado   8.95   2024-04-25  \n",
              "1                Aceite de oliva virgen extra Hacendado  29.55   2024-04-25  \n",
              "2                Aceite de oliva virgen extra Hacendado   9.90   2024-04-25  \n",
              "3     Aceite de oliva virgen extra Hacendado Gran Se...   8.10   2024-04-25  \n",
              "4                          Aceite de oliva 1º Hacendado   8.95   2024-04-25  \n",
              "...                                                 ...    ...          ...  \n",
              "2300                        Crema de verduras Hacendado   1.10   2024-04-25  \n",
              "2301                 Puré de patatas Hacendado en copos   2.00   2024-04-25  \n",
              "2302             Crema de setas Starlux con champiñones   1.60   2024-04-25  \n",
              "2303      Crema de calabacín Starlux con queso de cabra   1.50   2024-04-25  \n",
              "2304                       Crema de calabacín Hacendado   1.70   2024-04-25  \n",
              "\n",
              "[2305 rows x 8 columns]"
            ],
            "text/html": [
              "\n",
              "  <div id=\"df-6e2420ad-daa4-4050-88d2-8b287d5858c1\" class=\"colab-df-container\">\n",
              "    <div>\n",
              "<style scoped>\n",
              "    .dataframe tbody tr th:only-of-type {\n",
              "        vertical-align: middle;\n",
              "    }\n",
              "\n",
              "    .dataframe tbody tr th {\n",
              "        vertical-align: top;\n",
              "    }\n",
              "\n",
              "    .dataframe thead th {\n",
              "        text-align: right;\n",
              "    }\n",
              "</style>\n",
              "<table border=\"1\" class=\"dataframe\">\n",
              "  <thead>\n",
              "    <tr style=\"text-align: right;\">\n",
              "      <th></th>\n",
              "      <th>ID_cat</th>\n",
              "      <th>categoria</th>\n",
              "      <th>ID_cat_2</th>\n",
              "      <th>cat_pro</th>\n",
              "      <th>ID_pro</th>\n",
              "      <th>Nombre</th>\n",
              "      <th>Precio</th>\n",
              "      <th>Fecha_actual</th>\n",
              "    </tr>\n",
              "  </thead>\n",
              "  <tbody>\n",
              "    <tr>\n",
              "      <th>0</th>\n",
              "      <td>112</td>\n",
              "      <td>Aceite, vinagre y sal</td>\n",
              "      <td>420</td>\n",
              "      <td>Aceite de oliva</td>\n",
              "      <td>4240</td>\n",
              "      <td>Aceite de oliva 0,4º Hacendado</td>\n",
              "      <td>8.95</td>\n",
              "      <td>2024-04-25</td>\n",
              "    </tr>\n",
              "    <tr>\n",
              "      <th>1</th>\n",
              "      <td>112</td>\n",
              "      <td>Aceite, vinagre y sal</td>\n",
              "      <td>420</td>\n",
              "      <td>Aceite de oliva</td>\n",
              "      <td>4717</td>\n",
              "      <td>Aceite de oliva virgen extra Hacendado</td>\n",
              "      <td>29.55</td>\n",
              "      <td>2024-04-25</td>\n",
              "    </tr>\n",
              "    <tr>\n",
              "      <th>2</th>\n",
              "      <td>112</td>\n",
              "      <td>Aceite, vinagre y sal</td>\n",
              "      <td>420</td>\n",
              "      <td>Aceite de oliva</td>\n",
              "      <td>4740</td>\n",
              "      <td>Aceite de oliva virgen extra Hacendado</td>\n",
              "      <td>9.90</td>\n",
              "      <td>2024-04-25</td>\n",
              "    </tr>\n",
              "    <tr>\n",
              "      <th>3</th>\n",
              "      <td>112</td>\n",
              "      <td>Aceite, vinagre y sal</td>\n",
              "      <td>420</td>\n",
              "      <td>Aceite de oliva</td>\n",
              "      <td>4706</td>\n",
              "      <td>Aceite de oliva virgen extra Hacendado Gran Se...</td>\n",
              "      <td>8.10</td>\n",
              "      <td>2024-04-25</td>\n",
              "    </tr>\n",
              "    <tr>\n",
              "      <th>4</th>\n",
              "      <td>112</td>\n",
              "      <td>Aceite, vinagre y sal</td>\n",
              "      <td>420</td>\n",
              "      <td>Aceite de oliva</td>\n",
              "      <td>4640</td>\n",
              "      <td>Aceite de oliva 1º Hacendado</td>\n",
              "      <td>8.95</td>\n",
              "      <td>2024-04-25</td>\n",
              "    </tr>\n",
              "    <tr>\n",
              "      <th>...</th>\n",
              "      <td>...</td>\n",
              "      <td>...</td>\n",
              "      <td>...</td>\n",
              "      <td>...</td>\n",
              "      <td>...</td>\n",
              "      <td>...</td>\n",
              "      <td>...</td>\n",
              "      <td>...</td>\n",
              "    </tr>\n",
              "    <tr>\n",
              "      <th>2300</th>\n",
              "      <td>130</td>\n",
              "      <td>Gazpacho y cremas</td>\n",
              "      <td>472</td>\n",
              "      <td>Cremas y puré</td>\n",
              "      <td>60308</td>\n",
              "      <td>Crema de verduras Hacendado</td>\n",
              "      <td>1.10</td>\n",
              "      <td>2024-04-25</td>\n",
              "    </tr>\n",
              "    <tr>\n",
              "      <th>2301</th>\n",
              "      <td>130</td>\n",
              "      <td>Gazpacho y cremas</td>\n",
              "      <td>472</td>\n",
              "      <td>Cremas y puré</td>\n",
              "      <td>23264</td>\n",
              "      <td>Puré de patatas Hacendado en copos</td>\n",
              "      <td>2.00</td>\n",
              "      <td>2024-04-25</td>\n",
              "    </tr>\n",
              "    <tr>\n",
              "      <th>2302</th>\n",
              "      <td>130</td>\n",
              "      <td>Gazpacho y cremas</td>\n",
              "      <td>472</td>\n",
              "      <td>Cremas y puré</td>\n",
              "      <td>35662</td>\n",
              "      <td>Crema de setas Starlux con champiñones</td>\n",
              "      <td>1.60</td>\n",
              "      <td>2024-04-25</td>\n",
              "    </tr>\n",
              "    <tr>\n",
              "      <th>2303</th>\n",
              "      <td>130</td>\n",
              "      <td>Gazpacho y cremas</td>\n",
              "      <td>472</td>\n",
              "      <td>Cremas y puré</td>\n",
              "      <td>35661</td>\n",
              "      <td>Crema de calabacín Starlux con queso de cabra</td>\n",
              "      <td>1.50</td>\n",
              "      <td>2024-04-25</td>\n",
              "    </tr>\n",
              "    <tr>\n",
              "      <th>2304</th>\n",
              "      <td>130</td>\n",
              "      <td>Gazpacho y cremas</td>\n",
              "      <td>472</td>\n",
              "      <td>Cremas y puré</td>\n",
              "      <td>35870</td>\n",
              "      <td>Crema de calabacín Hacendado</td>\n",
              "      <td>1.70</td>\n",
              "      <td>2024-04-25</td>\n",
              "    </tr>\n",
              "  </tbody>\n",
              "</table>\n",
              "<p>2305 rows × 8 columns</p>\n",
              "</div>\n",
              "    <div class=\"colab-df-buttons\">\n",
              "\n",
              "  <div class=\"colab-df-container\">\n",
              "    <button class=\"colab-df-convert\" onclick=\"convertToInteractive('df-6e2420ad-daa4-4050-88d2-8b287d5858c1')\"\n",
              "            title=\"Convert this dataframe to an interactive table.\"\n",
              "            style=\"display:none;\">\n",
              "\n",
              "  <svg xmlns=\"http://www.w3.org/2000/svg\" height=\"24px\" viewBox=\"0 -960 960 960\">\n",
              "    <path d=\"M120-120v-720h720v720H120Zm60-500h600v-160H180v160Zm220 220h160v-160H400v160Zm0 220h160v-160H400v160ZM180-400h160v-160H180v160Zm440 0h160v-160H620v160ZM180-180h160v-160H180v160Zm440 0h160v-160H620v160Z\"/>\n",
              "  </svg>\n",
              "    </button>\n",
              "\n",
              "  <style>\n",
              "    .colab-df-container {\n",
              "      display:flex;\n",
              "      gap: 12px;\n",
              "    }\n",
              "\n",
              "    .colab-df-convert {\n",
              "      background-color: #E8F0FE;\n",
              "      border: none;\n",
              "      border-radius: 50%;\n",
              "      cursor: pointer;\n",
              "      display: none;\n",
              "      fill: #1967D2;\n",
              "      height: 32px;\n",
              "      padding: 0 0 0 0;\n",
              "      width: 32px;\n",
              "    }\n",
              "\n",
              "    .colab-df-convert:hover {\n",
              "      background-color: #E2EBFA;\n",
              "      box-shadow: 0px 1px 2px rgba(60, 64, 67, 0.3), 0px 1px 3px 1px rgba(60, 64, 67, 0.15);\n",
              "      fill: #174EA6;\n",
              "    }\n",
              "\n",
              "    .colab-df-buttons div {\n",
              "      margin-bottom: 4px;\n",
              "    }\n",
              "\n",
              "    [theme=dark] .colab-df-convert {\n",
              "      background-color: #3B4455;\n",
              "      fill: #D2E3FC;\n",
              "    }\n",
              "\n",
              "    [theme=dark] .colab-df-convert:hover {\n",
              "      background-color: #434B5C;\n",
              "      box-shadow: 0px 1px 3px 1px rgba(0, 0, 0, 0.15);\n",
              "      filter: drop-shadow(0px 1px 2px rgba(0, 0, 0, 0.3));\n",
              "      fill: #FFFFFF;\n",
              "    }\n",
              "  </style>\n",
              "\n",
              "    <script>\n",
              "      const buttonEl =\n",
              "        document.querySelector('#df-6e2420ad-daa4-4050-88d2-8b287d5858c1 button.colab-df-convert');\n",
              "      buttonEl.style.display =\n",
              "        google.colab.kernel.accessAllowed ? 'block' : 'none';\n",
              "\n",
              "      async function convertToInteractive(key) {\n",
              "        const element = document.querySelector('#df-6e2420ad-daa4-4050-88d2-8b287d5858c1');\n",
              "        const dataTable =\n",
              "          await google.colab.kernel.invokeFunction('convertToInteractive',\n",
              "                                                    [key], {});\n",
              "        if (!dataTable) return;\n",
              "\n",
              "        const docLinkHtml = 'Like what you see? Visit the ' +\n",
              "          '<a target=\"_blank\" href=https://colab.research.google.com/notebooks/data_table.ipynb>data table notebook</a>'\n",
              "          + ' to learn more about interactive tables.';\n",
              "        element.innerHTML = '';\n",
              "        dataTable['output_type'] = 'display_data';\n",
              "        await google.colab.output.renderOutput(dataTable, element);\n",
              "        const docLink = document.createElement('div');\n",
              "        docLink.innerHTML = docLinkHtml;\n",
              "        element.appendChild(docLink);\n",
              "      }\n",
              "    </script>\n",
              "  </div>\n",
              "\n",
              "\n",
              "<div id=\"df-d93f1495-c9fa-49c8-80fd-a3951e16544d\">\n",
              "  <button class=\"colab-df-quickchart\" onclick=\"quickchart('df-d93f1495-c9fa-49c8-80fd-a3951e16544d')\"\n",
              "            title=\"Suggest charts\"\n",
              "            style=\"display:none;\">\n",
              "\n",
              "<svg xmlns=\"http://www.w3.org/2000/svg\" height=\"24px\"viewBox=\"0 0 24 24\"\n",
              "     width=\"24px\">\n",
              "    <g>\n",
              "        <path d=\"M19 3H5c-1.1 0-2 .9-2 2v14c0 1.1.9 2 2 2h14c1.1 0 2-.9 2-2V5c0-1.1-.9-2-2-2zM9 17H7v-7h2v7zm4 0h-2V7h2v10zm4 0h-2v-4h2v4z\"/>\n",
              "    </g>\n",
              "</svg>\n",
              "  </button>\n",
              "\n",
              "<style>\n",
              "  .colab-df-quickchart {\n",
              "      --bg-color: #E8F0FE;\n",
              "      --fill-color: #1967D2;\n",
              "      --hover-bg-color: #E2EBFA;\n",
              "      --hover-fill-color: #174EA6;\n",
              "      --disabled-fill-color: #AAA;\n",
              "      --disabled-bg-color: #DDD;\n",
              "  }\n",
              "\n",
              "  [theme=dark] .colab-df-quickchart {\n",
              "      --bg-color: #3B4455;\n",
              "      --fill-color: #D2E3FC;\n",
              "      --hover-bg-color: #434B5C;\n",
              "      --hover-fill-color: #FFFFFF;\n",
              "      --disabled-bg-color: #3B4455;\n",
              "      --disabled-fill-color: #666;\n",
              "  }\n",
              "\n",
              "  .colab-df-quickchart {\n",
              "    background-color: var(--bg-color);\n",
              "    border: none;\n",
              "    border-radius: 50%;\n",
              "    cursor: pointer;\n",
              "    display: none;\n",
              "    fill: var(--fill-color);\n",
              "    height: 32px;\n",
              "    padding: 0;\n",
              "    width: 32px;\n",
              "  }\n",
              "\n",
              "  .colab-df-quickchart:hover {\n",
              "    background-color: var(--hover-bg-color);\n",
              "    box-shadow: 0 1px 2px rgba(60, 64, 67, 0.3), 0 1px 3px 1px rgba(60, 64, 67, 0.15);\n",
              "    fill: var(--button-hover-fill-color);\n",
              "  }\n",
              "\n",
              "  .colab-df-quickchart-complete:disabled,\n",
              "  .colab-df-quickchart-complete:disabled:hover {\n",
              "    background-color: var(--disabled-bg-color);\n",
              "    fill: var(--disabled-fill-color);\n",
              "    box-shadow: none;\n",
              "  }\n",
              "\n",
              "  .colab-df-spinner {\n",
              "    border: 2px solid var(--fill-color);\n",
              "    border-color: transparent;\n",
              "    border-bottom-color: var(--fill-color);\n",
              "    animation:\n",
              "      spin 1s steps(1) infinite;\n",
              "  }\n",
              "\n",
              "  @keyframes spin {\n",
              "    0% {\n",
              "      border-color: transparent;\n",
              "      border-bottom-color: var(--fill-color);\n",
              "      border-left-color: var(--fill-color);\n",
              "    }\n",
              "    20% {\n",
              "      border-color: transparent;\n",
              "      border-left-color: var(--fill-color);\n",
              "      border-top-color: var(--fill-color);\n",
              "    }\n",
              "    30% {\n",
              "      border-color: transparent;\n",
              "      border-left-color: var(--fill-color);\n",
              "      border-top-color: var(--fill-color);\n",
              "      border-right-color: var(--fill-color);\n",
              "    }\n",
              "    40% {\n",
              "      border-color: transparent;\n",
              "      border-right-color: var(--fill-color);\n",
              "      border-top-color: var(--fill-color);\n",
              "    }\n",
              "    60% {\n",
              "      border-color: transparent;\n",
              "      border-right-color: var(--fill-color);\n",
              "    }\n",
              "    80% {\n",
              "      border-color: transparent;\n",
              "      border-right-color: var(--fill-color);\n",
              "      border-bottom-color: var(--fill-color);\n",
              "    }\n",
              "    90% {\n",
              "      border-color: transparent;\n",
              "      border-bottom-color: var(--fill-color);\n",
              "    }\n",
              "  }\n",
              "</style>\n",
              "\n",
              "  <script>\n",
              "    async function quickchart(key) {\n",
              "      const quickchartButtonEl =\n",
              "        document.querySelector('#' + key + ' button');\n",
              "      quickchartButtonEl.disabled = true;  // To prevent multiple clicks.\n",
              "      quickchartButtonEl.classList.add('colab-df-spinner');\n",
              "      try {\n",
              "        const charts = await google.colab.kernel.invokeFunction(\n",
              "            'suggestCharts', [key], {});\n",
              "      } catch (error) {\n",
              "        console.error('Error during call to suggestCharts:', error);\n",
              "      }\n",
              "      quickchartButtonEl.classList.remove('colab-df-spinner');\n",
              "      quickchartButtonEl.classList.add('colab-df-quickchart-complete');\n",
              "    }\n",
              "    (() => {\n",
              "      let quickchartButtonEl =\n",
              "        document.querySelector('#df-d93f1495-c9fa-49c8-80fd-a3951e16544d button');\n",
              "      quickchartButtonEl.style.display =\n",
              "        google.colab.kernel.accessAllowed ? 'block' : 'none';\n",
              "    })();\n",
              "  </script>\n",
              "</div>\n",
              "    </div>\n",
              "  </div>\n"
            ],
            "application/vnd.google.colaboratory.intrinsic+json": {
              "type": "dataframe",
              "variable_name": "df",
              "summary": "{\n  \"name\": \"df\",\n  \"rows\": 2305,\n  \"fields\": [\n    {\n      \"column\": \"ID_cat\",\n      \"properties\": {\n        \"dtype\": \"number\",\n        \"std\": 98,\n        \"min\": 37,\n        \"max\": 884,\n        \"num_unique_values\": 74,\n        \"samples\": [\n          156,\n          155,\n          92\n        ],\n        \"semantic_type\": \"\",\n        \"description\": \"\"\n      }\n    },\n    {\n      \"column\": \"categoria\",\n      \"properties\": {\n        \"dtype\": \"category\",\n        \"num_unique_values\": 74,\n        \"samples\": [\n          \"Agua\",\n          \"Hielo\",\n          \"Chocolate\"\n        ],\n        \"semantic_type\": \"\",\n        \"description\": \"\"\n      }\n    },\n    {\n      \"column\": \"ID_cat_2\",\n      \"properties\": {\n        \"dtype\": \"number\",\n        \"std\": 165,\n        \"min\": 280,\n        \"max\": 894,\n        \"num_unique_values\": 201,\n        \"samples\": [\n          594,\n          842,\n          544\n        ],\n        \"semantic_type\": \"\",\n        \"description\": \"\"\n      }\n    },\n    {\n      \"column\": \"cat_pro\",\n      \"properties\": {\n        \"dtype\": \"category\",\n        \"num_unique_values\": 196,\n        \"samples\": [\n          \"Galletas integrales y digestive\",\n          \"C\\u00e1psulas compatibles Dolce gusto\",\n          \"Salsas orientales\"\n        ],\n        \"semantic_type\": \"\",\n        \"description\": \"\"\n      }\n    },\n    {\n      \"column\": \"ID_pro\",\n      \"properties\": {\n        \"dtype\": \"string\",\n        \"num_unique_values\": 2233,\n        \"samples\": [\n          \"86547\",\n          \"60015\",\n          \"50360\"\n        ],\n        \"semantic_type\": \"\",\n        \"description\": \"\"\n      }\n    },\n    {\n      \"column\": \"Nombre\",\n      \"properties\": {\n        \"dtype\": \"string\",\n        \"num_unique_values\": 1976,\n        \"samples\": [\n          \"Verdura para paella Hacendado ultracongelada\",\n          \"Filete de salm\\u00f3n rosado salvaje con piel Hacendado ultracongelado\",\n          \"Pomada del pa\\u00f1al sin perfume Deliplus\"\n        ],\n        \"semantic_type\": \"\",\n        \"description\": \"\"\n      }\n    },\n    {\n      \"column\": \"Precio\",\n      \"properties\": {\n        \"dtype\": \"category\",\n        \"num_unique_values\": 516,\n        \"samples\": [\n          \"2.83\",\n          \"8.48\",\n          \"11.53\"\n        ],\n        \"semantic_type\": \"\",\n        \"description\": \"\"\n      }\n    },\n    {\n      \"column\": \"Fecha_actual\",\n      \"properties\": {\n        \"dtype\": \"object\",\n        \"num_unique_values\": 1,\n        \"samples\": [\n          \"2024-04-25\"\n        ],\n        \"semantic_type\": \"\",\n        \"description\": \"\"\n      }\n    }\n  ]\n}"
            }
          },
          "metadata": {},
          "execution_count": 44
        }
      ],
      "source": [
        "df"
      ]
    },
    {
      "cell_type": "markdown",
      "source": [
        "BUSCAR UN RODUCTO PARA VER SI COINCIDE EN LA WEB"
      ],
      "metadata": {
        "id": "akTdG2cdN0MH"
      }
    },
    {
      "cell_type": "code",
      "source": [
        "nombre_buscado = 'Sal gruesa Hacendado'\n",
        "\n",
        "fila = df.loc[df['Nombre'] == nombre_buscado]\n",
        "\n",
        "if not fila.empty:\n",
        "    print(\"Se encontró el nombre en el DataFrame:\")\n",
        "    print(fila)\n",
        "else:\n",
        "    print(\"El nombre no se encontró en el DataFrame.\")"
      ],
      "metadata": {
        "colab": {
          "base_uri": "https://localhost:8080/"
        },
        "id": "CxN3aJumc7y8",
        "outputId": "262530df-f904-4773-ebaa-d5dc55333f23"
      },
      "execution_count": 45,
      "outputs": [
        {
          "output_type": "stream",
          "name": "stdout",
          "text": [
            "Se encontró el nombre en el DataFrame:\n",
            "    ID_cat              categoria  ID_cat_2            cat_pro ID_pro  \\\n",
            "25     112  Aceite, vinagre y sal       424  Sal y bicarbonato  19733   \n",
            "\n",
            "                  Nombre Precio Fecha_actual  \n",
            "25  Sal gruesa Hacendado   0.35   2024-04-25  \n"
          ]
        }
      ]
    },
    {
      "cell_type": "code",
      "source": [
        "valores_unicos = df['cat_pro'].unique()"
      ],
      "metadata": {
        "id": "mZHZt01JGcy1"
      },
      "execution_count": 46,
      "outputs": []
    },
    {
      "cell_type": "code",
      "source": [
        "valores_unicos"
      ],
      "metadata": {
        "id": "87OlH-UtGhye",
        "colab": {
          "base_uri": "https://localhost:8080/"
        },
        "outputId": "5bc0da06-99be-4d46-dd35-cdffb779cd5c"
      },
      "execution_count": 48,
      "outputs": [
        {
          "output_type": "execute_result",
          "data": {
            "text/plain": [
              "array(['Aceite de oliva', 'Aceite de girasol, semillas y maíz',\n",
              "       'Vinagre y otros aderezos', 'Sal y bicarbonato', 'Hierbas',\n",
              "       'Colorante y pimentón', 'Pimienta', 'Otras especias',\n",
              "       'Sazonadores', 'Mayonesa', 'Ketchup', 'Mostaza', 'Allioli',\n",
              "       'Tomate frito', 'Salsas para carnes', 'Salsas para pasta',\n",
              "       'Salsas orientales', 'Otras salsas', 'Agua sin gas',\n",
              "       'Agua con gas', 'Gaseosa', 'Isotónico', 'Energético',\n",
              "       'Cola clásica', 'Cola zero', 'Cola sin cafeína', 'Limón',\n",
              "       'Lima limón', 'Naranja', 'Tónica y bitter', 'Té',\n",
              "       'Otros refrescos sin gas', 'Aceitunas verdes', 'Aceitunas negras',\n",
              "       'Cóctel y banderillas', 'Pepinillos y otros encurtidos',\n",
              "       'Frutos secos', 'Cocktails', 'Fruta desecada', 'Patatas fritas',\n",
              "       'Snacks', 'Arroz', 'Garbanzos', 'Alubias', 'Lentejas y otros',\n",
              "       'Fideos', 'Macarrones, pajaritas y hélices',\n",
              "       'Spaghetti y tallarines', 'Pasta rellena', 'Lasaña y canelones',\n",
              "       'Fideos orientales', 'Azúcar', 'Edulcorante y otros', 'Chicles',\n",
              "       'Caramelos', 'Chocolate negro', 'Chocolate con leche',\n",
              "       'Chocolate blanco', 'Chocolatinas', 'Bombones', 'Cremas de untar',\n",
              "       'Golosinas', 'Mermelada', 'Miel', 'Confitura y otros',\n",
              "       'Tarritos salados', 'Tarritos de fruta', 'Yogures y postres',\n",
              "       'Leche', 'Leche en polvo', 'Papillas', 'Biberón', 'Chupete',\n",
              "       'Champú y jabón', 'Aceite y crema', 'Colonia', 'Accesorios',\n",
              "       'Toallitas', 'Pañal talla de 0 a 3', 'Pañal talla de 4 a XL',\n",
              "       'Bañador y braguita', 'Cerveza lata', 'Cerveza botella y botellín',\n",
              "       'Combinado de cerveza', 'Vermouth y aperitivos', 'Ginebra',\n",
              "       'Brandy', 'Whisky', 'Ron', 'Cremas', 'Vodka', 'Anís',\n",
              "       'Otros licores', 'Licores sin alcohol', 'Sidra', 'Cava brut',\n",
              "       'Cava semi seco', 'Tinto de verano y sangría',\n",
              "       'Vino blanco de mesa', 'Rioja y otras denominaciones', 'Rueda',\n",
              "       'Vinos semidulces', 'Vinos dulces y mosto',\n",
              "       'Vino lambrusco y espumoso', 'Vino rosado', 'Vino tinto de mesa',\n",
              "       'Rioja', 'Castilla la Mancha', 'Ribera del Duero',\n",
              "       'Otros vinos tintos', 'Cacao soluble', 'Chocolate a la taza',\n",
              "       'Cápsulas compatibles Nespresso',\n",
              "       'Cápsulas compatibles Dolce gusto', 'Cápsulas compatibles Tassimo',\n",
              "       'Monodosis', 'Café molido', 'Café en grano', 'Café soluble',\n",
              "       'Bebidas frías', 'Otros', 'Infusiones', 'Arreglos',\n",
              "       'Pavo y otras aves', 'Pollo', 'Carne congelada', 'Cerdo', 'Conejo',\n",
              "       'Cordero', 'Embutido', 'Hamburguesas', 'Picadas y otros', 'Vacuno',\n",
              "       'Empanados y rebozados congelados', 'Empanados y elaborados',\n",
              "       'Cereales', 'Cereales integrales y muesli', 'Barritas de cereales',\n",
              "       'Galletas desayuno', 'Galletas integrales y digestive',\n",
              "       'Con chocolate y rellenas', 'Galletas surtidas', 'Tortitas',\n",
              "       'Pavo y otros', 'Jamón cocido', 'Bacón', 'Salchichas', 'Chopped',\n",
              "       'Mortadela', 'Salchichón', 'Chorizo', 'Lomo y otros',\n",
              "       'Jamón serrano', 'Paté', 'Sobrasada', 'Queso curado',\n",
              "       'Queso semicurado', 'Queso tierno', 'Queso lonchas',\n",
              "       'Queso rallado', 'Queso en porciones', 'Queso untable',\n",
              "       'Queso fresco', 'Queso roquefort, camembert y cabra', 'Pasta',\n",
              "       'Carne', 'Cucuruchos', 'Granizados y helados de hielo', 'Tarrinas',\n",
              "       'Barras de helado y barquillos', 'Hielo', 'Marisco',\n",
              "       'Marisco de concha y otros', 'Pescado', 'Pizzas', 'Base de pizza',\n",
              "       'Carne rebozada', 'Pescado rebozado', 'Verdura rebozada y otros',\n",
              "       'Tartas', 'Tartas infantiles', 'Churros', 'Fruta', 'Verdura',\n",
              "       'Patatas', 'Atún', 'Bonito', 'Caballa y melva', 'Sardinas',\n",
              "       'Otras conservas de pescado', 'Berberechos y almejas',\n",
              "       'Mejillones', 'Conservas verdura', 'Conservas fruta',\n",
              "       'Gazpacho y salmorejo', 'Cremas y puré'], dtype=object)"
            ]
          },
          "metadata": {},
          "execution_count": 48
        }
      ]
    }
  ],
  "metadata": {
    "colab": {
      "provenance": [],
      "authorship_tag": "ABX9TyNeWL05JtznF8xAJ9t7OZFY",
      "include_colab_link": true
    },
    "kernelspec": {
      "display_name": "Python 3",
      "name": "python3"
    },
    "language_info": {
      "name": "python"
    }
  },
  "nbformat": 4,
  "nbformat_minor": 0
}