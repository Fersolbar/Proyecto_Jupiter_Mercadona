{
  "cells": [
    {
      "cell_type": "markdown",
      "metadata": {
        "id": "view-in-github",
        "colab_type": "text"
      },
      "source": [
        "<a href=\"https://colab.research.google.com/github/PauSanchoBeneyto/Mercadona_Pontia/blob/main/API_MERCADONAv3.ipynb\" target=\"_parent\"><img src=\"https://colab.research.google.com/assets/colab-badge.svg\" alt=\"Open In Colab\"/></a>"
      ]
    },
    {
      "cell_type": "code",
      "execution_count": 233,
      "metadata": {
        "id": "AOMXYIOEMmIe"
      },
      "outputs": [],
      "source": [
        "import requests as req\n",
        "import pandas as pd\n",
        "from datetime import datetime\n",
        "from bs4 import BeautifulSoup as bs"
      ]
    },
    {
      "cell_type": "code",
      "execution_count": 234,
      "metadata": {
        "id": "81hN3k0vqIxk"
      },
      "outputs": [],
      "source": [
        "#categoría\n",
        "categorias='https://tienda.mercadona.es/api/categories/'\n",
        "#tipo_categoria\n",
        "url='https://tienda.mercadona.es/api/categories/65/'\n",
        "#productos\n",
        "productos='https://tienda.mercadona.es/api/products/'"
      ]
    },
    {
      "cell_type": "code",
      "execution_count": 235,
      "metadata": {
        "colab": {
          "base_uri": "https://localhost:8080/",
          "height": 143
        },
        "id": "cZ2qWC1z88Z2",
        "outputId": "bb41edda-91d6-4367-ec8c-7cd65455bc33"
      },
      "outputs": [
        {
          "output_type": "display_data",
          "data": {
            "text/plain": [
              "'{\"next\":null,\"count\":26,\"results\":[{\"id\":12,\"name\":\"Aceite, especias y salsas\",\"order\":7,\"layout\":2,\"published\":true,\"categories\":[{\"id\":112,\"name\":\"Aceite, vinagre y sal\",\"order\":7,\"layout\":1,\"published\":true,\"is_extended\":false},{\"id\":115,\"name\":\"Especias\",\"order\":7,\"layout\":1,\"published\":true,\"is_extended\":false},{\"id\":116,\"name\":\"Mayonesa, ketchup y mostaza\",\"order\":7,\"layout\":1,\"published\":true,\"is_extended\":false},{\"id\":117,\"name\":\"Otras salsas\",\"order\":7,\"layout\":1,\"published\":true,\"is_extended\":false}],\"is_extended\":false},{\"id\":18,\"name\":\"Agua y refrescos\",\"order\":8,\"layout\":2,\"published\":true,\"categories\":[{\"id\":156,\"name\":\"Agua\",\"order\":8,\"layout\":1,\"published\":true,\"is_extended\":false},{\"id\":163,\"name\":\"Isotónico y energético\",\"order\":8,\"layout\":1,\"published\":true,\"is_extended\":false},{\"id\":158,\"name\":\"Refresco de cola\",\"order\":8,\"layout\":1,\"published\":true,\"is_extended\":false},{\"id\":159,\"name\":\"Refresco de naranja y de limón\",\"order\":8,\"layout\":1,\"published\":true,\"is_extended\":false},{\"id\":161,\"name\":\"Tónica y bitter\",\"order\":8,\"layout\":1,\"published\":true,\"is_extended\":false},{\"id\":162,\"name\":\"Refresco de té y sin gas\",\"order\":8,\"layout\":1,\"published\":true,\"is_extended\":false}],\"is_extended\":false},{\"id\":15,\"name\":\"Aperitivos\",\"order\":9,\"layout\":2,\"published\":true,\"categories\":[{\"id\":135,\"name\":\"Aceitunas y encurtidos\",\"order\":9,\"layout\":1,\"published\":true,\"is_extended\":false},{\"id\":133,\"name\":\"Frutos secos y fruta desecada\",\"order\":9,\"layout\":1,\"published\":true,\"is_extended\":false},{\"id\":132,\"name\":\"Patatas fritas y snacks\",\"order\":9,\"layout\":1,\"published\":true,\"is_extended\":false}],\"is_extended\":false},{\"id\":13,\"name\":\"Arroz, legumbres y pasta\",\"order\":10,\"layout\":2,\"published\":true,\"categories\":[{\"id\":118,\"name\":\"Arroz\",\"order\":10,\"layout\":1,\"published\":true,\"is_extended\":false},{\"id\":121,\"name\":\"Legumbres\",\"order\":10,\"layout\":1,\"published\":true,\"is_extended\":false},{\"id\":120,\"name\":\"Pasta y fideos\",\"order\":10,\"layout\":1,\"published\":true,\"is_extended\":false}],\"is_extended\":false},{\"id\":9,\"name\":\"Azúcar, caramelos y chocolate\",\"order\":11,\"layout\":2,\"published\":true,\"categories\":[{\"id\":89,\"name\":\"Azúcar y edulcorante\",\"order\":11,\"layout\":1,\"published\":true,\"is_extended\":false},{\"id\":95,\"name\":\"Chicles y caramelos\",\"order\":11,\"layout\":1,\"published\":true,\"is_extended\":false},{\"id\":92,\"name\":\"Chocolate\",\"order\":11,\"layout\":1,\"published\":true,\"is_extended\":false},{\"id\":97,\"name\":\"Golosinas\",\"order\":11,\"layout\":1,\"published\":true,\"is_extended\":false},{\"id\":90,\"name\":\"Mermelada y miel\",\"order\":11,\"layout\":1,\"published\":true,\"is_extended\":false}],\"is_extended\":false},{\"id\":24,\"name\":\"Bebé\",\"order\":14,\"layout\":2,\"published\":true,\"categories\":[{\"id\":216,\"name\":\"Alimentación infantil\",\"order\":14,\"layout\":1,\"published\":true,\"is_extended\":false},{\"id\":219,\"name\":\"Biberón y chupete\",\"order\":14,\"layout\":1,\"published\":true,\"is_extended\":false},{\"id\":218,\"name\":\"Higiene y cuidado\",\"order\":14,\"layout\":1,\"published\":true,\"is_extended\":false},{\"id\":217,\"name\":\"Toallitas y pañales\",\"order\":14,\"layout\":1,\"published\":true,\"is_extended\":false}],\"is_extended\":false},{\"id\":19,\"name\":\"Bodega\",\"order\":15,\"layout\":2,\"published\":true,\"categories\":[{\"id\":164,\"name\":\"Cerveza\",\"order\":15,\"layout\":1,\"published\":true,\"is_extended\":false},{\"id\":166,\"name\":\"Cerveza sin alcohol\",\"order\":15,\"layout\":1,\"published\":true,\"is_extended\":false},{\"id\":181,\"name\":\"Licores\",\"order\":15,\"layout\":1,\"published\":true,\"is_extended\":false},{\"id\":174,\"name\":\"Sidra y cava\",\"order\":15,\"layout\":1,\"published\":true,\"is_extended\":false},{\"id\":168,\"name\":\"Tinto de verano y sangría\",\"order\":15,\"layout\":1,\"published\":true,\"is_extended\":false},{\"id\":170,\"name\":\"Vino blanco\",\"order\":15,\"layout\":1,\"published\":true,\"is_extended\":false},{\"id\":173,\"name\":\"Vino lambrusco y espumoso\",\"order\":15,\"layout\":1,\"published\":true,\"is_extended\":false},{\"id\":171,\"name\":\"Vino rosado\",\"order\":15,\"layout\":1,\"published\":true,\"is_extended\":false},{\"id\":169,\"name\":\"Vino tinto\",\"order\":15,\"layout\":1,\"published\":true,\"is_extended\":false}],\"is_extended\":false},{\"id\":8,\"name\":\"Cacao, café e infusiones\",\"order\":16,\"layout\":2,\"published\":true,\"categories\":[{\"id\":86,\"name\":\"Cacao soluble y chocolate a la taza\",\"order\":16,\"layout\":1,\"published\":true,\"is_extended\":false},{\"id\":81,\"name\":\"Café cápsula y monodosis\",\"order\":16,\"layout\":1,\"published\":true,\"is_extended\":false},{\"id\":83,\"name\":\"Café molido y en grano\",\"order\":16,\"layout\":1,\"published\":true,\"is_extended\":false},{\"id\":84,\"name\":\"Café soluble y otras bebidas\",\"order\":16,\"layout\":1,\"published\":true,\"is_extended\":false},{\"id\":88,\"name\":\"Té e infusiones\",\"order\":16,\"layout\":1,\"published\":true,\"is_extended\":false}],\"is_extended\":false},{\"id\":3,\"name\":\"Carne\",\"order\":17,\"layout\":2,\"published\":true,\"categories\":[{\"id\":46,\"name\":\"Arreglos\",\"order\":17,\"layout\":1,\"published\":true,\"is_extended\":false},{\"id\":38,\"name\":\"Aves y pollo\",\"order\":17,\"layout\":1,\"published\":true,\"is_extended\":false},{\"id\":47,\"name\":\"Carne congelada\",\"order\":17,\"layout\":1,\"published\":true,\"is_extended\":false},{\"id\":37,\"name\":\"Cerdo\",\"order\":17,\"layout\":1,\"published\":true,\"is_extended\":false},{\"id\":42,\"name\":\"Conejo y cordero\",\"order\":17,\"layout\":1,\"published\":true,\"is_extended\":false},{\"id\":43,\"name\":\"Embutido\",\"order\":17,\"layout\":1,\"published\":true,\"is_extended\":false},{\"id\":44,\"name\":\"Hamburguesas y picadas\",\"order\":17,\"layout\":1,\"published\":true,\"is_extended\":false},{\"id\":40,\"name\":\"Vacuno\",\"order\":17,\"layout\":1,\"published\":true,\"is_extended\":false},{\"id\":45,\"name\":\"Empanados y elaborados\",\"order\":17,\"layout\":1,\"published\":true,\"is_extended\":false}],\"is_extended\":false},{\"id\":7,\"name\":\"Cereales y galletas\",\"order\":18,\"layout\":2,\"published\":true,\"categories\":[{\"id\":78,\"name\":\"Cereales\",\"order\":18,\"layout\":1,\"published\":true,\"is_extended\":false},{\"id\":80,\"name\":\"Galletas\",\"order\":18,\"layout\":1,\"published\":true,\"is_extended\":false},{\"id\":79,\"name\":\"Tortitas\",\"order\":18,\"layout\":1,\"published\":true,\"is_extended\":false}],\"is_extended\":false},{\"id\":4,\"name\":\"Charcutería y quesos\",\"order\":159,\"layout\":2,\"published\":true,\"categories\":[{\"id\":48,\"name\":\"Aves y jamón cocido\",\"order\":159,\"layout\":1,\"published\":true,\"is_extended\":false},{\"id\":52,\"name\":\"Bacón y salchichas\",\"order\":159,\"layout\":1,\"published\":true,\"is_extended\":false},{\"id\":49,\"name\":\"Chopped y mortadela\",\"order\":159,\"layout\":1,\"published\":true,\"is_extended\":false},{\"id\":51,\"name\":\"Embutido curado\",\"order\":159,\"layout\":1,\"published\":true,\"is_extended\":false},{\"id\":50,\"name\":\"Jamón serrano\",\"order\":159,\"layout\":1,\"published\":true,\"is_extended\":false},{\"id\":58,\"name\":\"Paté y sobrasada\",\"order\":159,\"layout\":1,\"published\":true,\"is_extended\":false},{\"id\":54,\"name\":\"Queso curado, semicurado y tierno\",\"order\":159,\"layout\":1,\"published\":true,\"is_extended\":false},{\"id\":56,\"name\":\"Queso lonchas, rallado y en porciones\",\"order\":159,\"layout\":1,\"published\":true,\"is_extended\":false},{\"id\":53,\"name\":\"Queso untable y fresco\",\"order\":159,\"layout\":1,\"published\":true,\"is_extended\":false}],\"is_extended\":false},{\"id\":17,\"name\":\"Congelados\",\"order\":213,\"layout\":2,\"published\":true,\"categories\":[{\"id\":147,\"name\":\"Arroz y pasta\",\"order\":213,\"layout\":1,\"published\":true,\"is_extended\":false},{\"id\":148,\"name\":\"Carne\",\"order\":213,\"layout\":1,\"published\":true,\"is_extended\":false},{\"id\":154,\"name\":\"Helados\",\"order\":213,\"layout\":1,\"published\":true,\"is_extended\":false},{\"id\":155,\"name\":\"Hielo\",\"order\":213,\"layout\":1,\"published\":true,\"is_extended\":false},{\"id\":150,\"name\":\"Marisco\",\"order\":213,\"layout\":1,\"published\":true,\"is_extended\":false},{\"id\":149,\"name\":\"Pescado\",\"order\":213,\"layout\":1,\"published\":true,\"is_extended\":false},{\"id\":151,\"name\":\"Pizzas\",\"order\":213,\"layout\":1,\"published\":true,\"is_extended\":false},{\"id\":884,\"name\":\"Rebozados\",\"order\":213,\"layout\":2,\"published\":true,\"is_extended\":false},{\"id\":152,\"name\":\"Tartas y churros\",\"order\":213,\"layout\":1,\"published\":true,\"is_extended\":false},{\"id\":145,\"name\":\"Verdura\",\"order\":213,\"layout\":1,\"published\":true,\"is_extended\":false}],\"is_extended\":false},{\"id\":14,\"name\":\"Conservas, caldos y cremas\",\"order\":215,\"layout\":2,\"published\":true,\"categories\":[{\"id\":122,\"name\":\"Atún y otras conservas de pescado\",\"order\":215,\"layout\":1,\"published\":true,\"is_extended\":false},{\"id\":123,\"name\":\"Berberechos y mejillones\",\"order\":215,\"layout\":1,\"published\":true,\"is_extended\":false},{\"id\":127,\"name\":\"Conservas de verdura y frutas\",\"order\":215,\"layout\":1,\"published\":true,\"is_extended\":false},{\"id\":130,\"name\":\"Gazpacho y cremas\",\"order\":215,\"layout\":1,\"published\":true,\"is_extended\":false},{\"id\":129,\"name\":\"Sopa y caldo\",\"order\":215,\"layout\":1,\"published\":true,\"is_extended\":false},{\"id\":126,\"name\":\"Tomate\",\"order\":215,\"layout\":1,\"published\":true,\"is_extended\":false}],\"is_extended\":false},{\"id\":21,\"name\":\"Cuidado del cabello\",\"order\":238,\"layout\":2,\"published\":true,\"categories\":[{\"id\":201,\"name\":\"Acondicionador y mascarilla\",\"order\":238,\"layout\":1,\"published\":true,\"is_extended\":false},{\"id\":199,\"name\":\"Champú\",\"order\":238,\"layout\":1,\"published\":true,\"is_extended\":false},{\"id\":203,\"name\":\"Coloración cabello\",\"order\":238,\"layout\":1,\"published\":true,\"is_extended\":false},{\"id\":202,\"name\":\"Fijación cabello\",\"order\":238,\"layout\":1,\"published\":true,\"is_extended\":false}],\"is_extended\":false},{\"id\":20,\"name\":\"Cuidado facial y corporal\",\"order\":241,\"layout\":2,\"published\":true,\"categories\":[{\"id\":192,\"name\":\"Afeitado y cuidado para hombre\",\"order\":241,\"layout\":1,\"published\":true,\"is_extended\":false},{\"id\":189,\"name\":\"Cuidado corporal\",\"order\":241,\"layout\":1,\"published\":true,\"is_extended\":false},{\"id\":185,\"name\":\"Cuidado e higiene facial\",\"order\":241,\"layout\":1,\"published\":true,\"is_extended\":false},{\"id\":191,\"name\":\"Depilación\",\"order\":241,\"layout\":1,\"published\":true,\"is_extended\":false},{\"id\":188,\"name\":\"Desodorante\",\"order\":241,\"layout\":1,\"published\":true,\"is_extended\":false},{\"id\":187,\"name\":\"Gel y jabón de manos\",\"order\":241,\"layout\":1,\"published\":true,\"is_extended\":false},{\"id\":186,\"name\":\"Higiene bucal\",\"order\":241,\"layout\":1,\"published\":true,\"is_extended\":false},{\"id\":190,\"name\":\"Higiene íntima\",\"order\":241,\"layout\":1,\"published\":true,\"is_extended\":false},{\"id\":194,\"name\":\"Manicura y pedicura\",\"order\":241,\"layout\":1,\"published\":true,\"is_extended\":false},{\"id\":196,\"name\":\"Perfume y colonia\",\"order\":241,\"layout\":1,\"published\":true,\"is_extended\":false},{\"id\":198,\"name\":\"Protector solar y aftersun\",\"order\":241,\"layout\":1,\"published\":true,\"is_extended\":false}],\"is_extended\":false},{\"id\":23,\"name\":\"Fitoterapia y parafarmacia\",\"order\":303,\"layout\":2,\"published\":true,\"categories\":[{\"id\":213,\"name\":\"Fitoterapia\",\"order\":303,\"layout\":1,\"published\":true,\"is_extended\":false},{\"id\":214,\"name\":\"Parafarmacia\",\"order\":303,\"layout\":1,\"published\":true,\"is_extended\":false}],\"is_extended\":false},{\"id\":1,\"name\":\"Fruta y verdura\",\"order\":304,\"layout\":2,\"published\":true,\"categories\":[{\"id\":27,\"name\":\"Fruta\",\"order\":304,\"layout\":1,\"published\":true,\"is_extended\":false},{\"id\":28,\"name\":\"Lechuga y ensalada preparada\",\"order\":304,\"layout\":1,\"published\":true,\"is_extended\":false},{\"id\":29,\"name\":\"Verdura\",\"order\":304,\"layout\":1,\"published\":true,\"is_extended\":false}],\"is_extended\":false},{\"id\":6,\"name\":\"Huevos, leche y mantequilla\",\"order\":371,\"layout\":2,\"published\":true,\"categories\":[{\"id\":77,\"name\":\"Huevos\",\"order\":371,\"layout\":1,\"published\":true,\"is_extended\":false},{\"id\":72,\"name\":\"Leche y bebidas vegetales\",\"order\":371,\"layout\":1,\"published\":true,\"is_extended\":false},{\"id\":75,\"name\":\"Mantequilla y margarina\",\"order\":371,\"layout\":1,\"published\":true,\"is_extended\":false}],\"is_extended\":false},{\"id\":26,\"name\":\"Limpieza y hogar\",\"order\":372,\"layout\":2,\"published\":true,\"categories\":[{\"id\":226,\"name\":\"Detergente y suavizante ropa\",\"order\":372,\"layout\":1,\"published\":true,\"is_extended\":false},{\"id\":237,\"name\":\"Estropajo, bayeta y guantes\",\"order\":372,\"layout\":1,\"published\":true,\"is_extended\":false},{\"id\":241,\"name\":\"Insecticida y ambientador\",\"order\":372,\"layout\":1,\"published\":true,\"is_extended\":false},{\"id\":234,\"name\":\"Lejía y líquidos fuertes\",\"order\":372,\"layout\":1,\"published\":true,\"is_extended\":false},{\"id\":235,\"name\":\"Limpiacristales\",\"order\":372,\"layout\":1,\"published\":true,\"is_extended\":false},{\"id\":233,\"name\":\"Limpiahogar y friegasuelos\",\"order\":372,\"layout\":1,\"published\":true,\"is_extended\":false},{\"id\":231,\"name\":\"Limpieza baño y WC\",\"order\":372,\"layout\":1,\"published\":true,\"is_extended\":false},{\"id\":230,\"name\":\"Limpieza cocina\",\"order\":372,\"layout\":1,\"published\":true,\"is_extended\":false},{\"id\":232,\"name\":\"Limpieza muebles y multiusos\",\"order\":372,\"layout\":1,\"published\":true,\"is_extended\":false},{\"id\":229,\"name\":\"Limpieza vajilla\",\"order\":372,\"layout\":1,\"published\":true,\"is_extended\":false},{\"id\":243,\"name\":\"Menaje y conservación de alimentos\",\"order\":372,\"layout\":1,\"published\":true,\"is_extended\":false},{\"id\":238,\"name\":\"Papel higiénico y celulosa\",\"order\":372,\"layout\":1,\"published\":true,\"is_extended\":false},{\"id\":239,\"name\":\"Pilas y bolsas de basura\",\"order\":372,\"layout\":1,\"published\":true,\"is_extended\":false},{\"id\":244,\"name\":\"Utensilios de limpieza y calzado\",\"order\":372,\"layout\":1,\"published\":true,\"is_extended\":false}],\"is_extended\":false},{\"id\":22,\"name\":\"Maquillaje\",\"order\":419,\"layout\":2,\"published\":true,\"categories\":[{\"id\":206,\"name\":\"Bases de maquillaje y corrector\",\"order\":419,\"layout\":1,\"published\":true,\"is_extended\":false},{\"id\":207,\"name\":\"Colorete y polvos\",\"order\":419,\"layout\":1,\"published\":true,\"is_extended\":false},{\"id\":208,\"name\":\"Labios\",\"order\":419,\"layout\":1,\"published\":true,\"is_extended\":false},{\"id\":210,\"name\":\"Ojos\",\"order\":419,\"layout\":1,\"published\":true,\"is_extended\":false},{\"id\":212,\"name\":\"Pinceles y brochas\",\"order\":419,\"layout\":1,\"published\":true,\"is_extended\":false}],\"is_extended\":false},{\"id\":2,\"name\":\"Marisco y pescado\",\"order\":439,\"layout\":2,\"published\":true,\"categories\":[{\"id\":32,\"name\":\"Marisco\",\"order\":439,\"layout\":1,\"published\":true,\"is_extended\":false},{\"id\":34,\"name\":\"Pescado congelado\",\"order\":439,\"layout\":1,\"published\":true,\"is_extended\":false},{\"id\":31,\"name\":\"Pescado fresco\",\"order\":439,\"layout\":1,\"published\":true,\"is_extended\":false},{\"id\":36,\"name\":\"Salazones y ahumados\",\"order\":439,\"layout\":1,\"published\":true,\"is_extended\":false},{\"id\":789,\"name\":\"Sushi\",\"order\":439,\"layout\":2,\"published\":true,\"is_extended\":false}],\"is_extended\":false},{\"id\":25,\"name\":\"Mascotas\",\"order\":440,\"layout\":2,\"published\":true,\"categories\":[{\"id\":222,\"name\":\"Gato\",\"order\":440,\"layout\":1,\"published\":true,\"is_extended\":false},{\"id\":221,\"name\":\"Perro\",\"order\":440,\"layout\":1,\"published\":true,\"is_extended\":false},{\"id\":225,\"name\":\"Otros\",\"order\":440,\"layout\":1,\"published\":true,\"is_extended\":false}],\"is_extended\":false},{\"id\":5,\"name\":\"Panadería y pastelería\",\"order\":512,\"layout\":2,\"published\":true,\"categories\":[{\"id\":65,\"name\":\"Bollería de horno\",\"order\":512,\"layout\":1,\"published\":true,\"is_extended\":false},{\"id\":66,\"name\":\"Bollería envasada\",\"order\":512,\"layout\":1,\"published\":true,\"is_extended\":false},{\"id\":69,\"name\":\"Harina y preparado repostería\",\"order\":512,\"layout\":1,\"published\":true,\"is_extended\":false},{\"id\":59,\"name\":\"Pan de horno\",\"order\":512,\"layout\":1,\"published\":true,\"is_extended\":false},{\"id\":60,\"name\":\"Pan de molde y otras especialidades\",\"order\":512,\"layout\":1,\"published\":true,\"is_extended\":false},{\"id\":62,\"name\":\"Pan tostado y rallado\",\"order\":512,\"layout\":1,\"published\":true,\"is_extended\":false},{\"id\":64,\"name\":\"Picos, rosquilletas y picatostes\",\"order\":512,\"layout\":1,\"published\":true,\"is_extended\":false},{\"id\":68,\"name\":\"Tartas y pasteles\",\"order\":512,\"layout\":1,\"published\":true,\"is_extended\":false},{\"id\":71,\"name\":\"Velas y decoración\",\"order\":512,\"layout\":1,\"published\":true,\"is_extended\":false}],\"is_extended\":false},{\"id\":16,\"name\":\"Pizzas y platos preparados\",\"order\":594,\"layout\":2,\"published\":true,\"categories\":[{\"id\":897,\"name\":\"Listo para Comer\",\"order\":594,\"layout\":1,\"published\":true,\"is_extended\":false},{\"id\":138,\"name\":\"Pizzas\",\"order\":594,\"layout\":1,\"published\":true,\"is_extended\":false},{\"id\":140,\"name\":\"Platos preparados calientes\",\"order\":594,\"layout\":1,\"published\":true,\"is_extended\":false},{\"id\":142,\"name\":\"Platos preparados fríos\",\"order\":594,\"layout\":1,\"published\":true,\"is_extended\":false}],\"is_extended\":false},{\"id\":11,\"name\":\"Postres y yogures\",\"order\":595,\"layout\":2,\"published\":true,\"categories\":[{\"id\":105,\"name\":\"Bífidus\",\"order\":595,\"layout\":1,\"published\":true,\"is_extended\":false},{\"id\":110,\"name\":\"Flan y natillas\",\"order\":595,\"layout\":1,\"published\":true,\"is_extended\":false},{\"id\":111,\"name\":\"Gelatina y otros postres\",\"order\":595,\"layout\":1,\"published\":true,\"is_extended\":false},{\"id\":106,\"name\":\"Postres de soja\",\"order\":595,\"layout\":1,\"published\":true,\"is_extended\":false},{\"id\":103,\"name\":\"Yogures desnatados\",\"order\":595,\"layout\":1,\"published\":true,\"is_extended\":false},{\"id\":109,\"name\":\"Yogures griegos\",\"order\":595,\"layout\":1,\"published\":true,\"is_extended\":false},{\"id\":108,\"name\":\"Yogures líquidos\",\"order\":595,\"layout\":1,\"published\":true,\"is_extended\":false},{\"id\":104,\"name\":\"Yogures naturales y sabores\",\"order\":595,\"layout\":1,\"published\":true,\"is_extended\":false},{\"id\":107,\"name\":\"Yogures y postres infantiles\",\"order\":595,\"layout\":1,\"published\":true,\"is_extended\":false}],\"is_extended\":false},{\"id\":10,\"name\":\"Zumos\",\"order\":790,\"layout\":2,\"published\":true,\"categories\":[{\"id\":99,\"name\":\"Fruta variada\",\"order\":790,\"layout\":1,\"published\":true,\"is_extended\":false},{\"id\":100,\"name\":\"Melocotón y piña\",\"order\":790,\"layout\":1,\"published\":true,\"is_extended\":false},{\"id\":143,\"name\":\"Naranja\",\"order\":790,\"layout\":1,\"published\":true,\"is_extended\":false},{\"id\":98,\"name\":\"Tomate y otros sabores\",\"order\":790,\"layout\":1,\"published\":true,\"is_extended\":false}],\"is_extended\":false}],\"previous\":null}'"
            ],
            "application/vnd.google.colaboratory.intrinsic+json": {
              "type": "string"
            }
          },
          "metadata": {}
        }
      ],
      "source": [
        "#para ver el desglose en https://jsonviewer.stack.hu/\n",
        "r_cat = req.get(categorias)\n",
        "display(r_cat.text)"
      ]
    },
    {
      "cell_type": "code",
      "execution_count": 236,
      "metadata": {
        "colab": {
          "base_uri": "https://localhost:8080/",
          "height": 143
        },
        "id": "8OzOBG3w-DHF",
        "outputId": "6569108a-e418-4301-e4a9-ea0f000adae4"
      },
      "outputs": [
        {
          "output_type": "display_data",
          "data": {
            "text/plain": [
              "'{\"id\":65,\"name\":\"Bollería de horno\",\"order\":512,\"layout\":1,\"published\":true,\"categories\":[{\"id\":330,\"name\":\"Bollería dulce\",\"order\":512,\"layout\":2,\"products\":[{\"id\":\"84785\",\"slug\":\"berlina-cacao-paquete\",\"limit\":999,\"badges\":{\"is_water\":false,\"requires_age_check\":false},\"packaging\":\"Paquete\",\"published\":true,\"share_url\":\"https://tienda.mercadona.es/product/84785/berlina-cacao-paquete\",\"thumbnail\":\"https://prod-mercadona.imgix.net/images/59ea911cff1c1c0868030758825cc63b.jpg?fit=crop&h=300&w=300\",\"categories\":[{\"id\":5,\"name\":\"Panadería y pastelería\",\"level\":0,\"order\":512}],\"display_name\":\"Berlina al cacao\",\"unavailable_from\":null,\"price_instructions\":{\"iva\":10,\"is_new\":false,\"is_pack\":false,\"pack_size\":null,\"unit_name\":\"ud.\",\"unit_size\":0.24,\"bulk_price\":\"5.63\",\"unit_price\":\"1.35\",\"approx_size\":false,\"size_format\":\"kg\",\"total_units\":4,\"unit_selector\":true,\"bunch_selector\":false,\"drained_weight\":null,\"selling_method\":0,\"price_decreased\":false,\"reference_price\":\"5.625\",\"min_bunch_amount\":1.0,\"reference_format\":\"kg\",\"previous_unit_price\":null,\"increment_bunch_amount\":1.0},\"unavailable_weekdays\":[]},{\"id\":\"84692\",\"slug\":\"croissant-mantequilla-26-pieza\",\"limit\":999,\"badges\":{\"is_water\":false,\"requires_age_check\":false},\"packaging\":\"Pieza\",\"published\":true,\"share_url\":\"https://tienda.mercadona.es/product/84692/croissant-mantequilla-26-pieza\",\"thumbnail\":\"https://prod-mercadona.imgix.net/images/e550272414e4e41bb5a27cd8d0bfd239.jpg?fit=crop&h=300&w=300\",\"categories\":[{\"id\":5,\"name\":\"Panadería y pastelería\",\"level\":0,\"order\":512}],\"display_name\":\"Croissant de mantequilla 26%\",\"unavailable_from\":null,\"price_instructions\":{\"iva\":10,\"is_new\":false,\"is_pack\":false,\"pack_size\":null,\"unit_name\":null,\"unit_size\":0.05,\"bulk_price\":\"8.00\",\"unit_price\":\"0.40\",\"approx_size\":false,\"size_format\":\"kg\",\"total_units\":null,\"unit_selector\":true,\"bunch_selector\":false,\"drained_weight\":null,\"selling_method\":0,\"price_decreased\":false,\"reference_price\":\"8.000\",\"min_bunch_amount\":1.0,\"reference_format\":\"kg\",\"previous_unit_price\":null,\"increment_bunch_amount\":1.0},\"unavailable_weekdays\":[]},{\"id\":\"84710\",\"slug\":\"berlina-glace-paquete\",\"limit\":999,\"badges\":{\"is_water\":false,\"requires_age_check\":false},\"packaging\":\"Paquete\",\"published\":true,\"share_url\":\"https://tienda.mercadona.es/product/84710/berlina-glace-paquete\",\"thumbnail\":\"https://prod-mercadona.imgix.net/images/6b6e2a3db8d4d2f2764868e765c97b35.jpg?fit=crop&h=300&w=300\",\"categories\":[{\"id\":5,\"name\":\"Panadería y pastelería\",\"level\":0,\"order\":512}],\"display_name\":\"Berlina glacé\",\"unavailable_from\":null,\"price_instructions\":{\"iva\":10,\"is_new\":false,\"is_pack\":false,\"pack_size\":null,\"unit_name\":\"ud.\",\"unit_size\":0.2,\"bulk_price\":\"6.75\",\"unit_price\":\"1.35\",\"approx_size\":false,\"size_format\":\"kg\",\"total_units\":4,\"unit_selector\":true,\"bunch_selector\":false,\"drained_weight\":null,\"selling_method\":0,\"price_decreased\":false,\"reference_price\":\"6.750\",\"min_bunch_amount\":1.0,\"reference_format\":\"kg\",\"previous_unit_price\":null,\"increment_bunch_amount\":1.0},\"unavailable_weekdays\":[]},{\"id\":\"84458\",\"slug\":\"trenza-con-nueces-4-pieza\",\"limit\":999,\"badges\":{\"is_water\":false,\"requires_age_check\":false},\"packaging\":\"Pieza\",\"published\":true,\"share_url\":\"https://tienda.mercadona.es/product/84458/trenza-con-nueces-4-pieza\",\"thumbnail\":\"https://prod-mercadona.imgix.net/images/2090e9dd29531bf12755b989051994d9.jpg?fit=crop&h=300&w=300\",\"categories\":[{\"id\":5,\"name\":\"Panadería y pastelería\",\"level\":0,\"order\":512}],\"display_name\":\"Trenza con nueces 4%\",\"unavailable_from\":null,\"price_instructions\":{\"iva\":10,\"is_new\":false,\"is_pack\":false,\"pack_size\":null,\"unit_name\":null,\"unit_size\":0.08,\"bulk_price\":\"9.38\",\"unit_price\":\"0.75\",\"approx_size\":false,\"size_format\":\"kg\",\"total_units\":null,\"unit_selector\":true,\"bunch_selector\":false,\"drained_weight\":null,\"selling_method\":0,\"price_decreased\":false,\"reference_price\":\"9.375\",\"min_bunch_amount\":1.0,\"reference_format\":\"kg\",\"previous_unit_price\":null,\"increment_bunch_amount\":1.0},\"unavailable_weekdays\":[]},{\"id\":\"84654\",\"slug\":\"rosquillas-cacao-paquete\",\"limit\":999,\"badges\":{\"is_water\":false,\"requires_age_check\":false},\"packaging\":\"Paquete\",\"published\":true,\"share_url\":\"https://tienda.mercadona.es/product/84654/rosquillas-cacao-paquete\",\"thumbnail\":\"https://prod-mercadona.imgix.net/images/0db63e08895ab257ed20410b1845510b.jpg?fit=crop&h=300&w=300\",\"categories\":[{\"id\":5,\"name\":\"Panadería y pastelería\",\"level\":0,\"order\":512}],\"display_name\":\"Rosquillas al cacao\",\"unavailable_from\":null,\"price_instructions\":{\"iva\":10,\"is_new\":false,\"is_pack\":false,\"pack_size\":null,\"unit_name\":\"ud.\",\"unit_size\":0.182,\"bulk_price\":\"7.69\",\"unit_price\":\"1.40\",\"approx_size\":false,\"size_format\":\"kg\",\"total_units\":7,\"unit_selector\":true,\"bunch_selector\":false,\"drained_weight\":null,\"selling_method\":0,\"price_decreased\":false,\"reference_price\":\"7.693\",\"min_bunch_amount\":1.0,\"reference_format\":\"kg\",\"previous_unit_price\":null,\"increment_bunch_amount\":1.0},\"unavailable_weekdays\":[]},{\"id\":\"84629\",\"slug\":\"12-mini-croissants-mantequilla-bolsa\",\"limit\":999,\"badges\":{\"is_water\":false,\"requires_age_check\":false},\"packaging\":\"Bolsa\",\"published\":true,\"share_url\":\"https://tienda.mercadona.es/product/84629/12-mini-croissants-mantequilla-bolsa\",\"thumbnail\":\"https://prod-mercadona.imgix.net/images/55dfb0de5a832d479c76f2e25c653d4b.jpg?fit=crop&h=300&w=300\",\"categories\":[{\"id\":5,\"name\":\"Panadería y pastelería\",\"level\":0,\"order\":512}],\"display_name\":\"12 Mini croissants de mantequilla\",\"unavailable_from\":null,\"price_instructions\":{\"iva\":10,\"is_new\":false,\"is_pack\":false,\"pack_size\":null,\"unit_name\":\"ud.\",\"unit_size\":0.24,\"bulk_price\":\"7.71\",\"unit_price\":\"1.85\",\"approx_size\":false,\"size_format\":\"kg\",\"total_units\":12,\"unit_selector\":true,\"bunch_selector\":false,\"drained_weight\":null,\"selling_method\":0,\"price_decreased\":false,\"reference_price\":\"7.709\",\"min_bunch_amount\":1.0,\"reference_format\":\"kg\",\"previous_unit_price\":null,\"increment_bunch_amount\":1.0},\"unavailable_weekdays\":[]},{\"id\":\"84482\",\"slug\":\"pastel-crema-65-pieza\",\"limit\":999,\"badges\":{\"is_water\":false,\"requires_age_check\":false},\"packaging\":\"Pieza\",\"published\":true,\"share_url\":\"https://tienda.mercadona.es/product/84482/pastel-crema-65-pieza\",\"thumbnail\":\"https://prod-mercadona.imgix.net/images/f1ce580c3f8a149fd8ca04ada9e7e1bf.jpg?fit=crop&h=300&w=300\",\"categories\":[{\"id\":5,\"name\":\"Panadería y pastelería\",\"level\":0,\"order\":512}],\"display_name\":\"Pastel de crema 65%\",\"unavailable_from\":null,\"price_instructions\":{\"iva\":10,\"is_new\":false,\"is_pack\":false,\"pack_size\":null,\"unit_name\":null,\"unit_size\":0.05,\"bulk_price\":\"8.00\",\"unit_price\":\"0.40\",\"approx_size\":false,\"size_format\":\"kg\",\"total_units\":null,\"unit_selector\":true,\"bunch_selector\":false,\"drained_weight\":null,\"selling_method\":0,\"price_decreased\":false,\"reference_price\":\"8.000\",\"min_bunch_amount\":1.0,\"reference_format\":\"kg\",\"previous_unit_price\":null,\"increment_bunch_amount\":1.0},\"unavailable_weekdays\":[]},{\"id\":\"84688\",\"slug\":\"6-caracolas-rellenas-cacao-bolsa\",\"limit\":999,\"badges\":{\"is_water\":false,\"requires_age_check\":false},\"packaging\":\"Bolsa\",\"published\":true,\"share_url\":\"https://tienda.mercadona.es/product/84688/6-caracolas-rellenas-cacao-bolsa\",\"thumbnail\":\"https://prod-mercadona.imgix.net/images/448b70af6205b50bf11f7994c0eb52c7.jpg?fit=crop&h=300&w=300\",\"categories\":[{\"id\":5,\"name\":\"Panadería y pastelería\",\"level\":0,\"order\":512}],\"display_name\":\"6 Caracolas rellenas de cacao\",\"unavailable_from\":null,\"price_instructions\":{\"iva\":10,\"is_new\":false,\"is_pack\":false,\"pack_size\":null,\"unit_name\":\"ud.\",\"unit_size\":0.28,\"bulk_price\":\"5.82\",\"unit_price\":\"1.60\",\"approx_size\":false,\"size_format\":\"kg\",\"total_units\":6,\"unit_selector\":true,\"bunch_selector\":false,\"drained_weight\":null,\"selling_method\":0,\"price_decreased\":false,\"reference_price\":\"5.819\",\"min_bunch_amount\":1.0,\"reference_format\":\"kg\",\"previous_unit_price\":null,\"increment_bunch_amount\":1.0},\"unavailable_weekdays\":[]},{\"id\":\"84358\",\"slug\":\"ensaimada-pieza\",\"limit\":999,\"badges\":{\"is_water\":false,\"requires_age_check\":false},\"packaging\":\"Pieza\",\"published\":true,\"share_url\":\"https://tienda.mercadona.es/product/84358/ensaimada-pieza\",\"thumbnail\":\"https://prod-mercadona.imgix.net/images/e1ac736fda960bca0caa577c770337c5.jpg?fit=crop&h=300&w=300\",\"categories\":[{\"id\":5,\"name\":\"Panadería y pastelería\",\"level\":0,\"order\":512}],\"display_name\":\"Ensaimada\",\"unavailable_from\":null,\"price_instructions\":{\"iva\":10,\"is_new\":false,\"is_pack\":false,\"pack_size\":null,\"unit_name\":null,\"unit_size\":0.083,\"bulk_price\":\"13.25\",\"unit_price\":\"1.10\",\"approx_size\":false,\"size_format\":\"kg\",\"total_units\":null,\"unit_selector\":true,\"bunch_selector\":false,\"drained_weight\":null,\"selling_method\":0,\"price_decreased\":false,\"reference_price\":\"13.254\",\"min_bunch_amount\":1.0,\"reference_format\":\"kg\",\"previous_unit_price\":null,\"increment_bunch_amount\":1.0},\"unavailable_weekdays\":[]},{\"id\":\"84643\",\"slug\":\"napolitana-3-chocolates-29-pieza\",\"limit\":999,\"badges\":{\"is_water\":false,\"requires_age_check\":false},\"packaging\":\"Pieza\",\"published\":true,\"share_url\":\"https://tienda.mercadona.es/product/84643/napolitana-3-chocolates-29-pieza\",\"thumbnail\":\"https://prod-mercadona.imgix.net/images/7c8d86611b65326779fc8d57db73d146.jpg?fit=crop&h=300&w=300\",\"categories\":[{\"id\":5,\"name\":\"Panadería y pastelería\",\"level\":0,\"order\":512}],\"display_name\":\"Napolitana 3 chocolates 29%\",\"unavailable_from\":null,\"price_instructions\":{\"iva\":10,\"is_new\":false,\"is_pack\":false,\"pack_size\":null,\"unit_name\":null,\"unit_size\":0.085,\"bulk_price\":\"10.00\",\"unit_price\":\"0.85\",\"approx_size\":false,\"size_format\":\"kg\",\"total_units\":null,\"unit_selector\":true,\"bunch_selector\":false,\"drained_weight\":null,\"selling_method\":0,\"price_decreased\":false,\"reference_price\":\"10.000\",\"min_bunch_amount\":1.0,\"reference_format\":\"kg\",\"previous_unit_price\":null,\"increment_bunch_amount\":1.0},\"unavailable_weekdays\":[]},{\"id\":\"84663\",\"slug\":\"caracola-con-pasas-10-pieza\",\"limit\":999,\"badges\":{\"is_water\":false,\"requires_age_check\":false},\"packaging\":\"Pieza\",\"published\":true,\"share_url\":\"https://tienda.mercadona.es/product/84663/caracola-con-pasas-10-pieza\",\"thumbnail\":\"https://prod-mercadona.imgix.net/images/1a356cacaaf45ca0408c99dfc108ecf1.jpg?fit=crop&h=300&w=300\",\"categories\":[{\"id\":5,\"name\":\"Panadería y pastelería\",\"level\":0,\"order\":512}],\"display_name\":\"Caracola con pasas 10%\",\"unavailable_from\":null,\"price_instructions\":{\"iva\":10,\"is_new\":false,\"is_pack\":false,\"pack_size\":null,\"unit_name\":null,\"unit_size\":0.103,\"bulk_price\":\"7.77\",\"unit_price\":\"0.80\",\"approx_size\":false,\"size_format\":\"kg\",\"total_units\":null,\"unit_selector\":true,\"bunch_selector\":false,\"drained_weight\":null,\"selling_method\":0,\"price_decreased\":false,\"reference_price\":\"7.767\",\"min_bunch_amount\":1.0,\"reference_format\":\"kg\",\"previous_unit_price\":null,\"increment_bunch_amount\":1.0},\"unavailable_weekdays\":[]},{\"id\":\"84930\",\"slug\":\"bizcocho-chocolate-paquete\",\"limit\":999,\"badges\":{\"is_water\":false,\"requires_age_check\":false},\"packaging\":\"Paquete\",\"published\":true,\"share_url\":\"https://tienda.mercadona.es/product/84930/bizcocho-chocolate-paquete\",\"thumbnail\":\"https://prod-mercadona.imgix.net/images/2423994581e9d06e9687f538545c8aaa.jpg?fit=crop&h=300&w=300\",\"categories\":[{\"id\":5,\"name\":\"Panadería y pastelería\",\"level\":0,\"order\":512}],\"display_name\":\"Bizcocho de chocolate\",\"unavailable_from\":null,\"price_instructions\":{\"iva\":10,\"is_new\":false,\"is_pack\":false,\"pack_size\":null,\"unit_name\":null,\"unit_size\":0.8,\"bulk_price\":\"5.63\",\"unit_price\":\"4.50\",\"approx_size\":false,\"size_format\":\"kg\",\"total_units\":null,\"unit_selector\":true,\"bunch_selector\":false,\"drained_weight\":null,\"selling_method\":0,\"price_decreased\":false,\"reference_price\":\"5.625\",\"min_bunch_amount\":1.0,\"reference_format\":\"kg\",\"previous_unit_price\":null,\"increment_bunch_amount\":1.0},\"unavailable_weekdays\":[]},{\"id\":\"84684\",\"slug\":\"8-magdalenas-con-azucar-bolsa\",\"limit\":999,\"badges\":{\"is_water\":false,\"requires_age_check\":false},\"packaging\":\"Bolsa\",\"published\":true,\"share_url\":\"https://tienda.mercadona.es/product/84684/8-magdalenas-con-azucar-bolsa\",\"thumbnail\":\"https://prod-mercadona.imgix.net/images/63ddeced4dac01e19e0e8e7b32a60c91.jpg?fit=crop&h=300&w=300\",\"categories\":[{\"id\":5,\"name\":\"Panadería y pastelería\",\"level\":0,\"order\":512}],\"display_name\":\"8 Magdalenas con azúcar\",\"unavailable_from\":null,\"price_instructions\":{\"iva\":10,\"is_new\":false,\"is_pack\":false,\"pack_size\":null,\"unit_name\":\"ud.\",\"unit_size\":0.38,\"bulk_price\":\"7.63\",\"unit_price\":\"2.90\",\"approx_size\":false,\"size_format\":\"kg\",\"total_units\":8,\"unit_selector\":true,\"bunch_selector\":false,\"drained_weight\":null,\"selling_method\":0,\"price_decreased\":false,\"reference_price\":\"7.632\",\"min_bunch_amount\":1.0,\"reference_format\":\"kg\",\"previous_unit_price\":null,\"increment_bunch_amount\":1.0},\"unavailable_weekdays\":[]},{\"id\":\"84904\",\"slug\":\"bizcocho-con-azucar-moreno-nueces-bandeja\",\"limit\":999,\"badges\":{\"is_water\":false,\"requires_age_check\":false},\"packaging\":\"Bandeja\",\"published\":true,\"share_url\":\"https://tienda.mercadona.es/product/84904/bizcocho-con-azucar-moreno-nueces-bandeja\",\"thumbnail\":\"https://prod-mercadona.imgix.net/images/08f18d1b9b4fc3b4c4f90eead7702fcd.jpg?fit=crop&h=300&w=300\",\"categories\":[{\"id\":5,\"name\":\"Panadería y pastelería\",\"level\":0,\"order\":512}],\"display_name\":\"Bizcocho con azúcar moreno y nueces\",\"unavailable_from\":null,\"price_instructions\":{\"iva\":10,\"is_new\":false,\"is_pack\":false,\"pack_size\":null,\"unit_name\":null,\"unit_size\":0.43,\"bulk_price\":\"8.60\",\"unit_price\":\"3.70\",\"approx_size\":false,\"size_format\":\"kg\",\"total_units\":null,\"unit_selector\":true,\"bunch_selector\":false,\"drained_weight\":null,\"selling_method\":0,\"price_decreased\":false,\"reference_price\":\"8.605\",\"min_bunch_amount\":1.0,\"reference_format\":\"kg\",\"previous_unit_price\":null,\"increment_bunch_amount\":1.0},\"unavailable_weekdays\":[]},{\"id\":\"84900\",\"slug\":\"magdalenas-con-pepitas-chocolate-bolsa\",\"limit\":999,\"badges\":{\"is_water\":false,\"requires_age_check\":false},\"packaging\":\"Bolsa\",\"published\":true,\"share_url\":\"https://tienda.mercadona.es/product/84900/magdalenas-con-pepitas-chocolate-bolsa\",\"thumbnail\":\"https://prod-mercadona.imgix.net/images/3c8bd5218ec2ebc5b1050917a6715327.jpg?fit=crop&h=300&w=300\",\"categories\":[{\"id\":5,\"name\":\"Panadería y pastelería\",\"level\":0,\"order\":512}],\"display_name\":\"Magdalenas con pepitas de chocolate\",\"unavailable_from\":null,\"price_instructions\":{\"iva\":10,\"is_new\":false,\"is_pack\":false,\"pack_size\":null,\"unit_name\":\"ud.\",\"unit_size\":0.38,\"bulk_price\":\"7.89\",\"unit_price\":\"3.00\",\"approx_size\":false,\"size_format\":\"kg\",\"total_units\":8,\"unit_selector\":true,\"bunch_selector\":false,\"drained_weight\":null,\"selling_method\":0,\"price_decreased\":false,\"reference_price\":\"7.895\",\"min_bunch_amount\":1.0,\"reference_format\":\"kg\",\"previous_unit_price\":null,\"increment_bunch_amount\":1.0},\"unavailable_weekdays\":[]},{\"id\":\"84916\",\"slug\":\"8-medias-noches-bolsa\",\"limit\":999,\"badges\":{\"is_water\":false,\"requires_age_check\":false},\"packaging\":\"Bolsa\",\"published\":true,\"share_url\":\"https://tienda.mercadona.es/product/84916/8-medias-noches-bolsa\",\"thumbnail\":\"https://prod-mercadona.imgix.net/images/bea1b1a9c9ce190ebd36b2a78dc8597c.jpg?fit=crop&h=300&w=300\",\"categories\":[{\"id\":5,\"name\":\"Panadería y pastelería\",\"level\":0,\"order\":512}],\"display_name\":\"8 Medias noches\",\"unavailable_from\":null,\"price_instructions\":{\"iva\":10,\"is_new\":false,\"is_pack\":false,\"pack_size\":null,\"unit_name\":\"ud.\",\"unit_size\":0.22,\"bulk_price\":\"9.09\",\"unit_price\":\"2.00\",\"approx_size\":false,\"size_format\":\"kg\",\"total_units\":8,\"unit_selector\":true,\"bunch_selector\":false,\"drained_weight\":null,\"selling_method\":0,\"price_decreased\":false,\"reference_price\":\"9.091\",\"min_bunch_amount\":1.0,\"reference_format\":\"kg\",\"previous_unit_price\":null,\"increment_bunch_amount\":1.0},\"unavailable_weekdays\":[]},{\"id\":\"84754\",\"slug\":\"muffin-chocolate-3-pieza\",\"limit\":999,\"badges\":{\"is_water\":false,\"requires_age_check\":false},\"packaging\":\"Pieza\",\"published\":true,\"share_url\":\"https://tienda.mercadona.es/product/84754/muffin-chocolate-3-pieza\",\"thumbnail\":\"https://prod-mercadona.imgix.net/images/739b95e71ae0c947caf01bb66e862d75.jpg?fit=crop&h=300&w=300\",\"categories\":[{\"id\":5,\"name\":\"Panadería y pastelería\",\"level\":0,\"order\":512}],\"display_name\":\"Muffin chocolate 3%\",\"unavailable_from\":null,\"price_instructions\":{\"iva\":10,\"is_new\":false,\"is_pack\":false,\"pack_size\":null,\"unit_name\":null,\"unit_size\":0.12,\"bulk_price\":\"9.17\",\"unit_price\":\"1.10\",\"approx_size\":false,\"size_format\":\"kg\",\"total_units\":null,\"unit_selector\":true,\"bunch_selector\":false,\"drained_weight\":null,\"selling_method\":0,\"price_decreased\":false,\"reference_price\":\"9.167\",\"min_bunch_amount\":1.0,\"reference_format\":\"kg\",\"previous_unit_price\":null,\"increment_bunch_amount\":1.0},\"unavailable_weekdays\":[]},{\"id\":\"84582\",\"slug\":\"xuxu-relleno-crema-49-pieza\",\"limit\":999,\"badges\":{\"is_water\":false,\"requires_age_check\":false},\"packaging\":\"Pieza\",\"published\":true,\"share_url\":\"https://tienda.mercadona.es/product/84582/xuxu-relleno-crema-49-pieza\",\"thumbnail\":\"https://prod-mercadona.imgix.net/images/c00e20cdad737319637ec3a819359c0b.jpg?fit=crop&h=300&w=300\",\"categories\":[{\"id\":5,\"name\":\"Panadería y pastelería\",\"level\":0,\"order\":512}],\"display_name\":\"Xuxu relleno de crema 49%\",\"unavailable_from\":null,\"price_instructions\":{\"iva\":10,\"is_new\":false,\"is_pack\":false,\"pack_size\":null,\"unit_name\":null,\"unit_size\":0.051,\"bulk_price\":\"9.80\",\"unit_price\":\"0.50\",\"approx_size\":false,\"size_format\":\"kg\",\"total_units\":null,\"unit_selector\":true,\"bunch_selector\":false,\"drained_weight\":null,\"selling_method\":0,\"price_decreased\":false,\"reference_price\":\"9.804\",\"min_bunch_amount\":1.0,\"reference_format\":\"kg\",\"previous_unit_price\":null,\"increment_bunch_amount\":1.0},\"unavailable_weekdays\":[]},{\"id\":\"84736\",\"slug\":\"bizcocho-chocolate-sin-gluten-sin-lactosa-paquete\",\"limit\":999,\"badges\":{\"is_water\":false,\"requires_age_check\":false},\"packaging\":\"Paquete\",\"published\":true,\"share_url\":\"https://tienda.mercadona.es/product/84736/bizcocho-chocolate-sin-gluten-sin-lactosa-paquete\",\"thumbnail\":\"https://prod-mercadona.imgix.net/images/02b79d3001a4cb2023b6b01c55e2ddae.jpg?fit=crop&h=300&w=300\",\"categories\":[{\"id\":5,\"name\":\"Panadería y pastelería\",\"level\":0,\"order\":512}],\"display_name\":\"Bizcocho de chocolate sin gluten y sin lactosa\",\"unavailable_from\":null,\"price_instructions\":{\"iva\":10,\"is_new\":false,\"is_pack\":false,\"pack_size\":null,\"unit_name\":null,\"unit_size\":0.3,\"bulk_price\":\"10.33\",\"unit_price\":\"3.10\",\"approx_size\":false,\"size_format\":\"kg\",\"total_units\":null,\"unit_selector\":true,\"bunch_selector\":false,\"drained_weight\":null,\"selling_method\":0,\"price_decreased\":false,\"reference_price\":\"10.334\",\"min_bunch_amount\":1.0,\"reference_format\":\"kg\",\"previous_unit_price\":null,\"increment_bunch_amount\":1.0},\"unavailable_weekdays\":[]},{\"id\":\"84937\",\"slug\":\"surtido-croissants-rellenos-crema-cacao-crema-con-leche-sabor-chocolate-blanco-bandeja\",\"limit\":999,\"badges\":{\"is_water\":false,\"requires_age_check\":false},\"packaging\":\"Bandeja\",\"published\":true,\"share_url\":\"https://tienda.mercadona.es/product/84937/surtido-croissants-rellenos-crema-cacao-crema-con-leche-sabor-chocolate-blanco-bandeja\",\"thumbnail\":\"https://prod-mercadona.imgix.net/images/36b47261ef60bb181f8356cd72103704.jpg?fit=crop&h=300&w=300\",\"categories\":[{\"id\":5,\"name\":\"Panadería y pastelería\",\"level\":0,\"order\":512}],\"display_name\":\"Surtido croissants rellenos de crema de cacao y crema con leche sabor a chocolate blanco\",\"unavailable_from\":null,\"price_instructions\":{\"iva\":10,\"is_new\":false,\"is_pack\":false,\"pack_size\":null,\"unit_name\":\"ud.\",\"unit_size\":0.3,\"bulk_price\":\"8.50\",\"unit_price\":\"2.55\",\"approx_size\":false,\"size_format\":\"kg\",\"total_units\":8,\"unit_selector\":true,\"bunch_selector\":false,\"drained_weight\":null,\"selling_method\":0,\"price_decreased\":false,\"reference_price\":\"8.500\",\"min_bunch_amount\":1.0,\"reference_format\":\"kg\",\"previous_unit_price\":null,\"increment_bunch_amount\":1.0},\"unavailable_weekdays\":[]},{\"id\":\"83995\",\"slug\":\"bizcocho-yogur-hacendado-paquete\",\"limit\":999,\"badges\":{\"is_water\":false,\"requires_age_check\":false},\"packaging\":\"Paquete\",\"published\":true,\"share_url\":\"https://tienda.mercadona.es/product/83995/bizcocho-yogur-hacendado-paquete\",\"thumbnail\":\"https://prod-mercadona.imgix.net/images/b138c80048e8609c3e3fe24f091b74a3.jpg?fit=crop&h=300&w=300\",\"categories\":[{\"id\":5,\"name\":\"Panadería y pastelería\",\"level\":0,\"order\":512}],\"display_name\":\"Bizcocho de yogur Hacendado\",\"unavailable_from\":null,\"price_instructions\":{\"iva\":10,\"is_new\":false,\"is_pack\":false,\"pack_size\":null,\"unit_name\":null,\"unit_size\":0.8,\"bulk_price\":\"4.19\",\"unit_price\":\"3.35\",\"approx_size\":false,\"size_format\":\"kg\",\"total_units\":null,\"unit_selector\":true,\"bunch_selector\":false,\"drained_weight\":null,\"selling_method\":0,\"price_decreased\":false,\"reference_price\":\"4.188\",\"min_bunch_amount\":1.0,\"reference_format\":\"kg\",\"previous_unit_price\":null,\"increment_bunch_amount\":1.0},\"unavailable_weekdays\":[]},{\"id\":\"8548\",\"slug\":\"berlina-con-cobertura-caramelo-cacao-rellena-crema-avellana-2-pieza\",\"limit\":999,\"badges\":{\"is_water\":false,\"requires_age_check\":false},\"packaging\":\"Pieza\",\"published\":true,\"share_url\":\"https://tienda.mercadona.es/product/8548/berlina-con-cobertura-caramelo-cacao-rellena-crema-avellana-2-pieza\",\"thumbnail\":\"https://prod-mercadona.imgix.net/images/f613714abbcbf575f3907ea08b34d0f6.jpg?fit=crop&h=300&w=300\",\"categories\":[{\"id\":5,\"name\":\"Panadería y pastelería\",\"level\":0,\"order\":512}],\"display_name\":\"Berlina con cobertura de caramelo y cacao rellena de crema avellana 2%\",\"unavailable_from\":null,\"price_instructions\":{\"iva\":10,\"is_new\":false,\"is_pack\":false,\"pack_size\":null,\"unit_name\":null,\"unit_size\":0.08,\"bulk_price\":\"15.63\",\"unit_price\":\"1.25\",\"approx_size\":false,\"size_format\":\"kg\",\"total_units\":null,\"unit_selector\":true,\"bunch_selector\":false,\"drained_weight\":null,\"selling_method\":0,\"price_decreased\":false,\"reference_price\":\"15.625\",\"min_bunch_amount\":1.0,\"reference_format\":\"kg\",\"previous_unit_price\":null,\"increment_bunch_amount\":1.0},\"unavailable_weekdays\":[]}],\"published\":true,\"is_extended\":false},{\"id\":331,\"name\":\"Bollería salada\",\"order\":512,\"layout\":2,\"products\":[{\"id\":\"84940\",\"slug\":\"napolitana-mixta-pieza\",\"limit\":999,\"badges\":{\"is_water\":false,\"requires_age_check\":false},\"packaging\":\"Pieza\",\"published\":true,\"share_url\":\"https://tienda.mercadona.es/product/84940/napolitana-mixta-pieza\",\"thumbnail\":\"https://prod-mercadona.imgix.net/images/90d4f6fb5da7898e851b8a8608eacb14.jpg?fit=crop&h=300&w=300\",\"categories\":[{\"id\":5,\"name\":\"Panadería y pastelería\",\"level\":0,\"order\":512}],\"display_name\":\"Napolitana mixta\",\"unavailable_from\":null,\"price_instructions\":{\"iva\":10,\"is_new\":false,\"is_pack\":false,\"pack_size\":null,\"unit_name\":null,\"unit_size\":0.13,\"bulk_price\":\"6.92\",\"unit_price\":\"0.90\",\"approx_size\":false,\"size_format\":\"kg\",\"total_units\":null,\"unit_selector\":true,\"bunch_selector\":false,\"drained_weight\":null,\"selling_method\":0,\"price_decreased\":false,\"reference_price\":\"6.924\",\"min_bunch_amount\":1.0,\"reference_format\":\"kg\",\"previous_unit_price\":null,\"increment_bunch_amount\":1.0},\"unavailable_weekdays\":[]},{\"id\":\"84284\",\"slug\":\"empanada-atun-pieza\",\"limit\":999,\"badges\":{\"is_water\":false,\"requires_age_check\":false},\"packaging\":\"Pieza\",\"published\":true,\"share_url\":\"https://tienda.mercadona.es/product/84284/empanada-atun-pieza\",\"thumbnail\":\"https://prod-mercadona.imgix.net/images/af643679aebe19a4769c91976f9585b1.jpg?fit=crop&h=300&w=300\",\"categories\":[{\"id\":5,\"name\":\"Panadería y pastelería\",\"level\":0,\"order\":512}],\"display_name\":\"Empanada de atún\",\"unavailable_from\":null,\"price_instructions\":{\"iva\":10,\"is_new\":false,\"is_pack\":false,\"pack_size\":null,\"unit_name\":null,\"unit_size\":0.5,\"bulk_price\":\"7.40\",\"unit_price\":\"3.70\",\"approx_size\":false,\"size_format\":\"kg\",\"total_units\":null,\"unit_selector\":true,\"bunch_selector\":false,\"drained_weight\":null,\"selling_method\":0,\"price_decreased\":false,\"reference_price\":\"7.400\",\"min_bunch_amount\":1.0,\"reference_format\":\"kg\",\"previous_unit_price\":null,\"increment_bunch_amount\":1.0},\"unavailable_weekdays\":[]},{\"id\":\"84287\",\"slug\":\"empanada-atun-grande-pieza\",\"limit\":999,\"badges\":{\"is_water\":false,\"requires_age_check\":false},\"packaging\":\"Pieza\",\"published\":true,\"share_url\":\"https://tienda.mercadona.es/product/84287/empanada-atun-grande-pieza\",\"thumbnail\":\"https://prod-mercadona.imgix.net/images/7db27ca0b22ffa3d9ebf1db18bf2392e.jpg?fit=crop&h=300&w=300\",\"categories\":[{\"id\":5,\"name\":\"Panadería y pastelería\",\"level\":0,\"order\":512}],\"display_name\":\"Empanada de atún grande\",\"unavailable_from\":null,\"price_instructions\":{\"iva\":10,\"is_new\":false,\"is_pack\":false,\"pack_size\":null,\"unit_name\":null,\"unit_size\":1.12,\"bulk_price\":\"6.61\",\"unit_price\":\"7.40\",\"approx_size\":false,\"size_format\":\"kg\",\"total_units\":null,\"unit_selector\":true,\"bunch_selector\":false,\"drained_weight\":null,\"selling_method\":0,\"price_decreased\":false,\"reference_price\":\"6.608\",\"min_bunch_amount\":1.0,\"reference_format\":\"kg\",\"previous_unit_price\":null,\"increment_bunch_amount\":1.0},\"unavailable_weekdays\":[]},{\"id\":\"84597\",\"slug\":\"24-mini-saladas-bandeja\",\"limit\":999,\"badges\":{\"is_water\":false,\"requires_age_check\":false},\"packaging\":\"Bandeja\",\"published\":true,\"share_url\":\"https://tienda.mercadona.es/product/84597/24-mini-saladas-bandeja\",\"thumbnail\":\"https://prod-mercadona.imgix.net/images/d163b3b833ff456d919d0955a40eb7c3.jpg?fit=crop&h=300&w=300\",\"categories\":[{\"id\":5,\"name\":\"Panadería y pastelería\",\"level\":0,\"order\":512}],\"display_name\":\"24 Mini saladas\",\"unavailable_from\":null,\"price_instructions\":{\"iva\":10,\"is_new\":false,\"is_pack\":false,\"pack_size\":null,\"unit_name\":\"ud.\",\"unit_size\":0.39,\"bulk_price\":\"6.41\",\"unit_price\":\"2.50\",\"approx_size\":false,\"size_format\":\"kg\",\"total_units\":24,\"unit_selector\":true,\"bunch_selector\":false,\"drained_weight\":null,\"selling_method\":0,\"price_decreased\":false,\"reference_price\":\"6.411\",\"min_bunch_amount\":1.0,\"reference_format\":\"kg\",\"previous_unit_price\":null,\"increment_bunch_amount\":1.0},\"unavailable_weekdays\":[]},{\"id\":\"84638\",\"slug\":\"12-mini-saladas-bolsa\",\"limit\":999,\"badges\":{\"is_water\":false,\"requires_age_check\":false},\"packaging\":\"Bolsa\",\"published\":true,\"share_url\":\"https://tienda.mercadona.es/product/84638/12-mini-saladas-bolsa\",\"thumbnail\":\"https://prod-mercadona.imgix.net/images/fb6eb37fa6ad8e8beb21318ec2f9a757.jpg?fit=crop&h=300&w=300\",\"categories\":[{\"id\":5,\"name\":\"Panadería y pastelería\",\"level\":0,\"order\":512}],\"display_name\":\"12 Mini saladas\",\"unavailable_from\":null,\"price_instructions\":{\"iva\":10,\"is_new\":false,\"is_pack\":false,\"pack_size\":null,\"unit_name\":\"ud.\",\"unit_size\":0.2,\"bulk_price\":\"6.41\",\"unit_price\":\"1.25\",\"approx_size\":false,\"size_format\":\"kg\",\"total_units\":12,\"unit_selector\":true,\"bunch_selector\":false,\"drained_weight\":null,\"selling_method\":0,\"price_decreased\":false,\"reference_price\":\"6.411\",\"min_bunch_amount\":1.0,\"reference_format\":\"kg\",\"previous_unit_price\":null,\"increment_bunch_amount\":1.0},\"unavailable_weekdays\":[]},{\"id\":\"84503\",\"slug\":\"empanadilla-tomate-22-pieza\",\"limit\":999,\"badges\":{\"is_water\":false,\"requires_age_check\":false},\"packaging\":\"Pieza\",\"published\":true,\"share_url\":\"https://tienda.mercadona.es/product/84503/empanadilla-tomate-22-pieza\",\"thumbnail\":\"https://prod-mercadona.imgix.net/images/0a429e0cad20c2d95c8e0a423e4a627f.jpg?fit=crop&h=300&w=300\",\"categories\":[{\"id\":5,\"name\":\"Panadería y pastelería\",\"level\":0,\"order\":512}],\"display_name\":\"Empanadilla de tomate 22%\",\"unavailable_from\":null,\"price_instructions\":{\"iva\":10,\"is_new\":false,\"is_pack\":false,\"pack_size\":null,\"unit_name\":null,\"unit_size\":0.12,\"bulk_price\":\"10.83\",\"unit_price\":\"1.30\",\"approx_size\":false,\"size_format\":\"kg\",\"total_units\":null,\"unit_selector\":true,\"bunch_selector\":false,\"drained_weight\":null,\"selling_method\":0,\"price_decreased\":false,\"reference_price\":\"10.834\",\"min_bunch_amount\":1.0,\"reference_format\":\"kg\",\"previous_unit_price\":null,\"increment_bunch_amount\":1.0},\"unavailable_weekdays\":[]},{\"id\":\"84676\",\"slug\":\"6-mini-empanadillas-pisto-bolsa\",\"limit\":999,\"badges\":{\"is_water\":false,\"requires_age_check\":false},\"packaging\":\"Bolsa\",\"published\":true,\"share_url\":\"https://tienda.mercadona.es/product/84676/6-mini-empanadillas-pisto-bolsa\",\"thumbnail\":\"https://prod-mercadona.imgix.net/images/c2ab3a63c992f486e2b4b232053f9014.jpg?fit=crop&h=300&w=300\",\"categories\":[{\"id\":5,\"name\":\"Panadería y pastelería\",\"level\":0,\"order\":512}],\"display_name\":\"6 Mini empanadillas de pisto\",\"unavailable_from\":null,\"price_instructions\":{\"iva\":10,\"is_new\":false,\"is_pack\":false,\"pack_size\":null,\"unit_name\":\"ud.\",\"unit_size\":0.2,\"bulk_price\":\"8.59\",\"unit_price\":\"1.70\",\"approx_size\":false,\"size_format\":\"kg\",\"total_units\":6,\"unit_selector\":true,\"bunch_selector\":false,\"drained_weight\":null,\"selling_method\":0,\"price_decreased\":false,\"reference_price\":\"8.586\",\"min_bunch_amount\":1.0,\"reference_format\":\"kg\",\"previous_unit_price\":null,\"increment_bunch_amount\":1.0},\"unavailable_weekdays\":[]},{\"id\":\"84706\",\"slug\":\"empanadilla-espinacas-26-pieza\",\"limit\":999,\"badges\":{\"is_water\":false,\"requires_age_check\":false},\"packaging\":\"Pieza\",\"published\":true,\"share_url\":\"https://tienda.mercadona.es/product/84706/empanadilla-espinacas-26-pieza\",\"thumbnail\":\"https://prod-mercadona.imgix.net/images/99f3d90d9603c0a61a009346dd6b74e6.jpg?fit=crop&h=300&w=300\",\"categories\":[{\"id\":5,\"name\":\"Panadería y pastelería\",\"level\":0,\"order\":512}],\"display_name\":\"Empanadilla de espinacas 26%\",\"unavailable_from\":null,\"price_instructions\":{\"iva\":10,\"is_new\":false,\"is_pack\":false,\"pack_size\":null,\"unit_name\":null,\"unit_size\":0.12,\"bulk_price\":\"10.83\",\"unit_price\":\"1.30\",\"approx_size\":false,\"size_format\":\"kg\",\"total_units\":null,\"unit_selector\":true,\"bunch_selector\":false,\"drained_weight\":null,\"selling_method\":0,\"price_decreased\":false,\"reference_price\":\"10.834\",\"min_bunch_amount\":1.0,\"reference_format\":\"kg\",\"previous_unit_price\":null,\"increment_bunch_amount\":1.0},\"unavailable_weekdays\":[]},{\"id\":\"84622\",\"slug\":\"empanadilla-guisantes-13-pieza\",\"limit\":999,\"badges\":{\"is_water\":false,\"requires_age_check\":false},\"packaging\":\"Pieza\",\"published\":true,\"share_url\":\"https://tienda.mercadona.es/product/84622/empanadilla-guisantes-13-pieza\",\"thumbnail\":\"https://prod-mercadona.imgix.net/images/2db8cafbcf78d90b6a32bd01cca018d6.jpg?fit=crop&h=300&w=300\",\"categories\":[{\"id\":5,\"name\":\"Panadería y pastelería\",\"level\":0,\"order\":512}],\"display_name\":\"Empanadilla de guisantes 13%\",\"unavailable_from\":null,\"price_instructions\":{\"iva\":10,\"is_new\":false,\"is_pack\":false,\"pack_size\":null,\"unit_name\":null,\"unit_size\":0.1,\"bulk_price\":\"13.00\",\"unit_price\":\"1.30\",\"approx_size\":false,\"size_format\":\"kg\",\"total_units\":null,\"unit_selector\":true,\"bunch_selector\":false,\"drained_weight\":null,\"selling_method\":0,\"price_decreased\":false,\"reference_price\":\"13.000\",\"min_bunch_amount\":1.0,\"reference_format\":\"kg\",\"previous_unit_price\":null,\"increment_bunch_amount\":1.0},\"unavailable_weekdays\":[]},{\"id\":\"84289\",\"slug\":\"empanada-rellena-pollo-setas-con-crema-queso-pieza\",\"limit\":999,\"badges\":{\"is_water\":false,\"requires_age_check\":false},\"packaging\":\"Pieza\",\"published\":true,\"share_url\":\"https://tienda.mercadona.es/product/84289/empanada-rellena-pollo-setas-con-crema-queso-pieza\",\"thumbnail\":\"https://prod-mercadona.imgix.net/images/3b6756b29b84650a8b4aec8743143e3c.jpg?fit=crop&h=300&w=300\",\"categories\":[{\"id\":5,\"name\":\"Panadería y pastelería\",\"level\":0,\"order\":512}],\"display_name\":\"Empanada rellena de pollo y setas con crema de queso\",\"unavailable_from\":null,\"price_instructions\":{\"iva\":10,\"is_new\":false,\"is_pack\":false,\"pack_size\":null,\"unit_name\":null,\"unit_size\":0.5,\"bulk_price\":\"7.40\",\"unit_price\":\"3.70\",\"approx_size\":false,\"size_format\":\"kg\",\"total_units\":null,\"unit_selector\":true,\"bunch_selector\":false,\"drained_weight\":null,\"selling_method\":0,\"price_decreased\":false,\"reference_price\":\"7.400\",\"min_bunch_amount\":1.0,\"reference_format\":\"kg\",\"previous_unit_price\":null,\"increment_bunch_amount\":1.0},\"unavailable_weekdays\":[]},{\"id\":\"4912\",\"slug\":\"empanadilla-pollo-10-bechamel-pieza\",\"limit\":999,\"badges\":{\"is_water\":false,\"requires_age_check\":false},\"packaging\":\"Pieza\",\"published\":true,\"share_url\":\"https://tienda.mercadona.es/product/4912/empanadilla-pollo-10-bechamel-pieza\",\"thumbnail\":\"https://prod-mercadona.imgix.net/images/35aff547ed89be75431d667dda12ec9b.jpg?fit=crop&h=300&w=300\",\"categories\":[{\"id\":5,\"name\":\"Panadería y pastelería\",\"level\":0,\"order\":512}],\"display_name\":\"Empanadilla de pollo 10% y bechamel\",\"unavailable_from\":null,\"price_instructions\":{\"iva\":10,\"is_new\":false,\"is_pack\":false,\"pack_size\":null,\"unit_name\":null,\"unit_size\":0.098,\"bulk_price\":\"13.27\",\"unit_price\":\"1.30\",\"approx_size\":false,\"size_format\":\"kg\",\"total_units\":null,\"unit_selector\":true,\"bunch_selector\":false,\"drained_weight\":null,\"selling_method\":0,\"price_decreased\":false,\"reference_price\":\"13.266\",\"min_bunch_amount\":1.0,\"reference_format\":\"kg\",\"previous_unit_price\":null,\"increment_bunch_amount\":1.0},\"unavailable_weekdays\":[]},{\"id\":\"4911\",\"slug\":\"empanadilla-atun-16-pieza\",\"limit\":999,\"badges\":{\"is_water\":false,\"requires_age_check\":false},\"packaging\":\"Pieza\",\"published\":true,\"share_url\":\"https://tienda.mercadona.es/product/4911/empanadilla-atun-16-pieza\",\"thumbnail\":\"https://prod-mercadona.imgix.net/images/df93e5f4e1f61db9074b0d5287479c70.jpg?fit=crop&h=300&w=300\",\"categories\":[{\"id\":5,\"name\":\"Panadería y pastelería\",\"level\":0,\"order\":512}],\"display_name\":\"Empanadilla de atún 16%\",\"unavailable_from\":null,\"price_instructions\":{\"iva\":10,\"is_new\":false,\"is_pack\":false,\"pack_size\":null,\"unit_name\":null,\"unit_size\":0.125,\"bulk_price\":\"10.40\",\"unit_price\":\"1.30\",\"approx_size\":false,\"size_format\":\"kg\",\"total_units\":null,\"unit_selector\":true,\"bunch_selector\":false,\"drained_weight\":null,\"selling_method\":0,\"price_decreased\":false,\"reference_price\":\"10.400\",\"min_bunch_amount\":1.0,\"reference_format\":\"kg\",\"previous_unit_price\":null,\"increment_bunch_amount\":1.0},\"unavailable_weekdays\":[]}],\"published\":true,\"is_extended\":false}],\"is_extended\":false}'"
            ],
            "application/vnd.google.colaboratory.intrinsic+json": {
              "type": "string"
            }
          },
          "metadata": {}
        }
      ],
      "source": [
        "r_url = req.get(url)\n",
        "display(r_url.text)"
      ]
    },
    {
      "cell_type": "code",
      "execution_count": 237,
      "metadata": {
        "id": "_cYCSLNNqfaK"
      },
      "outputs": [],
      "source": [
        "cat=r_cat.json()\n",
        "url=r_url.json()\n",
        "#prod =req.get(productos).json()"
      ]
    },
    {
      "cell_type": "code",
      "execution_count": 238,
      "metadata": {
        "id": "Th1eS_LUvjDg"
      },
      "outputs": [],
      "source": [
        "df_cat=pd.json_normalize(cat)\n",
        "df_url=pd.json_normalize(url)"
      ]
    },
    {
      "cell_type": "code",
      "execution_count": 239,
      "metadata": {
        "id": "WuiDT9eo8cVv"
      },
      "outputs": [],
      "source": [
        "df_cat = pd.DataFrame(columns=['ID_cat', 'Nombre_categoria'])\n",
        "df_pro = pd.DataFrame(columns=['ID_cat','subcategoria','ID_subcat','categoria_producto','ID_pro', 'Nombre', 'Precio'])\n",
        "lista_subcategorias=[]"
      ]
    },
    {
      "cell_type": "code",
      "execution_count": 240,
      "metadata": {
        "id": "59qRqr908UsU"
      },
      "outputs": [],
      "source": [
        "url = 'https://tienda.mercadona.es/api/categories/'\n",
        "response = req.get(url)\n",
        "lista_categorias = []\n",
        "if response.status_code == 200:\n",
        "    categorias = response.json()\n",
        "    if 'results' in categorias:\n",
        "        for categoria in categorias['results']:\n",
        "            #print(f\"ID {categoria['id']}: {categoria['name']}\")\n",
        "            cat=categoria['id']\n",
        "            #OBTENEMOS EL LISTA DE  TODAS LAS CATEGORIAS PARA OBTENER LOS PRODUCTOS\n",
        "            lista_categorias.append(cat)\n",
        "            #Guardamos nuestra lista de productos con el id para poder concatenar en un futuro con los productos\n",
        "            id=categoria['id']\n",
        "            name_cat=categoria['name']\n",
        "            catego = {'ID_cat': [id], 'Nombre_categoria': [name_cat]}\n",
        "            df_2 = pd.DataFrame(catego)\n",
        "            df_cat = pd.concat([df_cat,df_2])"
      ]
    },
    {
      "cell_type": "code",
      "source": [
        "df_pro = pd.DataFrame()\n",
        "df=pd.DataFrame()"
      ],
      "metadata": {
        "id": "n3gjJE5xO4zK"
      },
      "execution_count": 241,
      "outputs": []
    },
    {
      "cell_type": "code",
      "source": [
        "url = 'https://tienda.mercadona.es/api/categories/'\n",
        "response = req.get(url)\n",
        "lista_subcategorias = []\n",
        "\n",
        "if response.status_code == 200:\n",
        "    subcategorias = response.json()\n",
        "    if 'results' in subcategorias:\n",
        "        for categoria in subcategorias['results']:\n",
        "            if 'categories' in categoria:\n",
        "                for subcategoria in categoria['categories']:\n",
        "                    id_sub = subcategoria['id']\n",
        "                    name_subcat = subcategoria['name']\n",
        "                    catego = {'ID_subcat': id_sub, 'subcategoria': name_subcat}\n",
        "                    lista_subcategorias.append(id_sub)\n",
        "\n",
        "# Crear DataFrame de las subcategorías\n",
        "df_subcat = pd.DataFrame(lista_subcategorias)"
      ],
      "metadata": {
        "id": "VkZSq89dP8O9"
      },
      "execution_count": 242,
      "outputs": []
    },
    {
      "cell_type": "code",
      "execution_count": 243,
      "metadata": {
        "id": "pFlaLl_6kNwl"
      },
      "outputs": [],
      "source": [
        "for i in lista_subcategorias:\n",
        "  url = \"https://tienda.mercadona.es/api/categories/{}/\"\n",
        "  url=url.format(i)\n",
        "  response = req.get(url)\n",
        "  if response.status_code == 200:\n",
        "      categoria = response.json()\n",
        "      if 'categories' in categoria:\n",
        "          for cat_info in categoria['categories']:\n",
        "              if 'products' in cat_info:\n",
        "                  for product in cat_info['products']:\n",
        "                      product_id = product['id']\n",
        "                      product_name = product['display_name']\n",
        "                      product_price = product['price_instructions']['unit_price']\n",
        "                      precio_KG_L = product['price_instructions']['bulk_price']\n",
        "                      i = categoria['id']\n",
        "                      c = categoria['name']\n",
        "                      id_2=cat_info['id']\n",
        "                      pro=cat_info['name']\n",
        "                      datos = {'ID_cat': [i], 'subcategoria': [c], 'ID_subcat':[id_2],'categoria_producto':[pro],'ID_pro': [product_id],'Nombre':[product_name],'Precio':[product_price],'Precio_KG/L':[precio_KG_L]}\n",
        "                      df = pd.DataFrame(datos)\n",
        "                      df_pro = pd.concat([df_pro,df])\n"
      ]
    },
    {
      "cell_type": "code",
      "execution_count": 244,
      "metadata": {
        "id": "DK_qTARTkwPH"
      },
      "outputs": [],
      "source": [
        "df = df_pro.reset_index(drop=True)"
      ]
    },
    {
      "cell_type": "code",
      "execution_count": 245,
      "metadata": {
        "id": "X5M7TWWvjTIn",
        "colab": {
          "base_uri": "https://localhost:8080/",
          "height": 424
        },
        "outputId": "a1491f66-a832-4168-d229-e34cff23a643"
      },
      "outputs": [
        {
          "output_type": "execute_result",
          "data": {
            "text/plain": [
              "      ID_cat            subcategoria  ID_subcat categoria_producto ID_pro  \\\n",
              "0        112   Aceite, vinagre y sal        420    Aceite de oliva   4240   \n",
              "1        112   Aceite, vinagre y sal        420    Aceite de oliva   4717   \n",
              "2        112   Aceite, vinagre y sal        420    Aceite de oliva   4740   \n",
              "3        112   Aceite, vinagre y sal        420    Aceite de oliva   4706   \n",
              "4        112   Aceite, vinagre y sal        420    Aceite de oliva   4640   \n",
              "...      ...                     ...        ...                ...    ...   \n",
              "5117      98  Tomate y otros sabores        101      Otros sabores  39643   \n",
              "5118      98  Tomate y otros sabores        101      Otros sabores  60588   \n",
              "5119      98  Tomate y otros sabores        101      Otros sabores  39604   \n",
              "5120      98  Tomate y otros sabores        101      Otros sabores  39922   \n",
              "5121      98  Tomate y otros sabores        101      Otros sabores  39280   \n",
              "\n",
              "                                                 Nombre Precio Precio_KG/L  \\\n",
              "0                        Aceite de oliva 0,4º Hacendado   8.95        8.95   \n",
              "1                Aceite de oliva virgen extra Hacendado  29.55        9.85   \n",
              "2                Aceite de oliva virgen extra Hacendado   9.90        9.90   \n",
              "3     Aceite de oliva virgen extra Hacendado Gran Se...   8.10       10.80   \n",
              "4                          Aceite de oliva 1º Hacendado   8.95        8.95   \n",
              "...                                                 ...    ...         ...   \n",
              "5117  Néctar de maracuyá Hacendado fruta de la pasió...   1.30        1.30   \n",
              "5118    Bebida de mango Hacendado sin azúcares añadidos   1.25        1.25   \n",
              "5119   Bebida de pomelo Hacendado sin azúcares añadidos   1.25        1.25   \n",
              "5120                Zumo de manzana selección Hacendado   1.50        1.50   \n",
              "5121                        Néctar de guayaba Hacendado   1.30        1.30   \n",
              "\n",
              "     Fecha_actual  \n",
              "0      2024-05-07  \n",
              "1      2024-05-07  \n",
              "2      2024-05-07  \n",
              "3      2024-05-07  \n",
              "4      2024-05-07  \n",
              "...           ...  \n",
              "5117   2024-05-07  \n",
              "5118   2024-05-07  \n",
              "5119   2024-05-07  \n",
              "5120   2024-05-07  \n",
              "5121   2024-05-07  \n",
              "\n",
              "[5122 rows x 9 columns]"
            ],
            "text/html": [
              "\n",
              "  <div id=\"df-d5af55e8-6f64-4b69-a266-6d79e6eae4bf\" class=\"colab-df-container\">\n",
              "    <div>\n",
              "<style scoped>\n",
              "    .dataframe tbody tr th:only-of-type {\n",
              "        vertical-align: middle;\n",
              "    }\n",
              "\n",
              "    .dataframe tbody tr th {\n",
              "        vertical-align: top;\n",
              "    }\n",
              "\n",
              "    .dataframe thead th {\n",
              "        text-align: right;\n",
              "    }\n",
              "</style>\n",
              "<table border=\"1\" class=\"dataframe\">\n",
              "  <thead>\n",
              "    <tr style=\"text-align: right;\">\n",
              "      <th></th>\n",
              "      <th>ID_cat</th>\n",
              "      <th>subcategoria</th>\n",
              "      <th>ID_subcat</th>\n",
              "      <th>categoria_producto</th>\n",
              "      <th>ID_pro</th>\n",
              "      <th>Nombre</th>\n",
              "      <th>Precio</th>\n",
              "      <th>Precio_KG/L</th>\n",
              "      <th>Fecha_actual</th>\n",
              "    </tr>\n",
              "  </thead>\n",
              "  <tbody>\n",
              "    <tr>\n",
              "      <th>0</th>\n",
              "      <td>112</td>\n",
              "      <td>Aceite, vinagre y sal</td>\n",
              "      <td>420</td>\n",
              "      <td>Aceite de oliva</td>\n",
              "      <td>4240</td>\n",
              "      <td>Aceite de oliva 0,4º Hacendado</td>\n",
              "      <td>8.95</td>\n",
              "      <td>8.95</td>\n",
              "      <td>2024-05-07</td>\n",
              "    </tr>\n",
              "    <tr>\n",
              "      <th>1</th>\n",
              "      <td>112</td>\n",
              "      <td>Aceite, vinagre y sal</td>\n",
              "      <td>420</td>\n",
              "      <td>Aceite de oliva</td>\n",
              "      <td>4717</td>\n",
              "      <td>Aceite de oliva virgen extra Hacendado</td>\n",
              "      <td>29.55</td>\n",
              "      <td>9.85</td>\n",
              "      <td>2024-05-07</td>\n",
              "    </tr>\n",
              "    <tr>\n",
              "      <th>2</th>\n",
              "      <td>112</td>\n",
              "      <td>Aceite, vinagre y sal</td>\n",
              "      <td>420</td>\n",
              "      <td>Aceite de oliva</td>\n",
              "      <td>4740</td>\n",
              "      <td>Aceite de oliva virgen extra Hacendado</td>\n",
              "      <td>9.90</td>\n",
              "      <td>9.90</td>\n",
              "      <td>2024-05-07</td>\n",
              "    </tr>\n",
              "    <tr>\n",
              "      <th>3</th>\n",
              "      <td>112</td>\n",
              "      <td>Aceite, vinagre y sal</td>\n",
              "      <td>420</td>\n",
              "      <td>Aceite de oliva</td>\n",
              "      <td>4706</td>\n",
              "      <td>Aceite de oliva virgen extra Hacendado Gran Se...</td>\n",
              "      <td>8.10</td>\n",
              "      <td>10.80</td>\n",
              "      <td>2024-05-07</td>\n",
              "    </tr>\n",
              "    <tr>\n",
              "      <th>4</th>\n",
              "      <td>112</td>\n",
              "      <td>Aceite, vinagre y sal</td>\n",
              "      <td>420</td>\n",
              "      <td>Aceite de oliva</td>\n",
              "      <td>4640</td>\n",
              "      <td>Aceite de oliva 1º Hacendado</td>\n",
              "      <td>8.95</td>\n",
              "      <td>8.95</td>\n",
              "      <td>2024-05-07</td>\n",
              "    </tr>\n",
              "    <tr>\n",
              "      <th>...</th>\n",
              "      <td>...</td>\n",
              "      <td>...</td>\n",
              "      <td>...</td>\n",
              "      <td>...</td>\n",
              "      <td>...</td>\n",
              "      <td>...</td>\n",
              "      <td>...</td>\n",
              "      <td>...</td>\n",
              "      <td>...</td>\n",
              "    </tr>\n",
              "    <tr>\n",
              "      <th>5117</th>\n",
              "      <td>98</td>\n",
              "      <td>Tomate y otros sabores</td>\n",
              "      <td>101</td>\n",
              "      <td>Otros sabores</td>\n",
              "      <td>39643</td>\n",
              "      <td>Néctar de maracuyá Hacendado fruta de la pasió...</td>\n",
              "      <td>1.30</td>\n",
              "      <td>1.30</td>\n",
              "      <td>2024-05-07</td>\n",
              "    </tr>\n",
              "    <tr>\n",
              "      <th>5118</th>\n",
              "      <td>98</td>\n",
              "      <td>Tomate y otros sabores</td>\n",
              "      <td>101</td>\n",
              "      <td>Otros sabores</td>\n",
              "      <td>60588</td>\n",
              "      <td>Bebida de mango Hacendado sin azúcares añadidos</td>\n",
              "      <td>1.25</td>\n",
              "      <td>1.25</td>\n",
              "      <td>2024-05-07</td>\n",
              "    </tr>\n",
              "    <tr>\n",
              "      <th>5119</th>\n",
              "      <td>98</td>\n",
              "      <td>Tomate y otros sabores</td>\n",
              "      <td>101</td>\n",
              "      <td>Otros sabores</td>\n",
              "      <td>39604</td>\n",
              "      <td>Bebida de pomelo Hacendado sin azúcares añadidos</td>\n",
              "      <td>1.25</td>\n",
              "      <td>1.25</td>\n",
              "      <td>2024-05-07</td>\n",
              "    </tr>\n",
              "    <tr>\n",
              "      <th>5120</th>\n",
              "      <td>98</td>\n",
              "      <td>Tomate y otros sabores</td>\n",
              "      <td>101</td>\n",
              "      <td>Otros sabores</td>\n",
              "      <td>39922</td>\n",
              "      <td>Zumo de manzana selección Hacendado</td>\n",
              "      <td>1.50</td>\n",
              "      <td>1.50</td>\n",
              "      <td>2024-05-07</td>\n",
              "    </tr>\n",
              "    <tr>\n",
              "      <th>5121</th>\n",
              "      <td>98</td>\n",
              "      <td>Tomate y otros sabores</td>\n",
              "      <td>101</td>\n",
              "      <td>Otros sabores</td>\n",
              "      <td>39280</td>\n",
              "      <td>Néctar de guayaba Hacendado</td>\n",
              "      <td>1.30</td>\n",
              "      <td>1.30</td>\n",
              "      <td>2024-05-07</td>\n",
              "    </tr>\n",
              "  </tbody>\n",
              "</table>\n",
              "<p>5122 rows × 9 columns</p>\n",
              "</div>\n",
              "    <div class=\"colab-df-buttons\">\n",
              "\n",
              "  <div class=\"colab-df-container\">\n",
              "    <button class=\"colab-df-convert\" onclick=\"convertToInteractive('df-d5af55e8-6f64-4b69-a266-6d79e6eae4bf')\"\n",
              "            title=\"Convert this dataframe to an interactive table.\"\n",
              "            style=\"display:none;\">\n",
              "\n",
              "  <svg xmlns=\"http://www.w3.org/2000/svg\" height=\"24px\" viewBox=\"0 -960 960 960\">\n",
              "    <path d=\"M120-120v-720h720v720H120Zm60-500h600v-160H180v160Zm220 220h160v-160H400v160Zm0 220h160v-160H400v160ZM180-400h160v-160H180v160Zm440 0h160v-160H620v160ZM180-180h160v-160H180v160Zm440 0h160v-160H620v160Z\"/>\n",
              "  </svg>\n",
              "    </button>\n",
              "\n",
              "  <style>\n",
              "    .colab-df-container {\n",
              "      display:flex;\n",
              "      gap: 12px;\n",
              "    }\n",
              "\n",
              "    .colab-df-convert {\n",
              "      background-color: #E8F0FE;\n",
              "      border: none;\n",
              "      border-radius: 50%;\n",
              "      cursor: pointer;\n",
              "      display: none;\n",
              "      fill: #1967D2;\n",
              "      height: 32px;\n",
              "      padding: 0 0 0 0;\n",
              "      width: 32px;\n",
              "    }\n",
              "\n",
              "    .colab-df-convert:hover {\n",
              "      background-color: #E2EBFA;\n",
              "      box-shadow: 0px 1px 2px rgba(60, 64, 67, 0.3), 0px 1px 3px 1px rgba(60, 64, 67, 0.15);\n",
              "      fill: #174EA6;\n",
              "    }\n",
              "\n",
              "    .colab-df-buttons div {\n",
              "      margin-bottom: 4px;\n",
              "    }\n",
              "\n",
              "    [theme=dark] .colab-df-convert {\n",
              "      background-color: #3B4455;\n",
              "      fill: #D2E3FC;\n",
              "    }\n",
              "\n",
              "    [theme=dark] .colab-df-convert:hover {\n",
              "      background-color: #434B5C;\n",
              "      box-shadow: 0px 1px 3px 1px rgba(0, 0, 0, 0.15);\n",
              "      filter: drop-shadow(0px 1px 2px rgba(0, 0, 0, 0.3));\n",
              "      fill: #FFFFFF;\n",
              "    }\n",
              "  </style>\n",
              "\n",
              "    <script>\n",
              "      const buttonEl =\n",
              "        document.querySelector('#df-d5af55e8-6f64-4b69-a266-6d79e6eae4bf button.colab-df-convert');\n",
              "      buttonEl.style.display =\n",
              "        google.colab.kernel.accessAllowed ? 'block' : 'none';\n",
              "\n",
              "      async function convertToInteractive(key) {\n",
              "        const element = document.querySelector('#df-d5af55e8-6f64-4b69-a266-6d79e6eae4bf');\n",
              "        const dataTable =\n",
              "          await google.colab.kernel.invokeFunction('convertToInteractive',\n",
              "                                                    [key], {});\n",
              "        if (!dataTable) return;\n",
              "\n",
              "        const docLinkHtml = 'Like what you see? Visit the ' +\n",
              "          '<a target=\"_blank\" href=https://colab.research.google.com/notebooks/data_table.ipynb>data table notebook</a>'\n",
              "          + ' to learn more about interactive tables.';\n",
              "        element.innerHTML = '';\n",
              "        dataTable['output_type'] = 'display_data';\n",
              "        await google.colab.output.renderOutput(dataTable, element);\n",
              "        const docLink = document.createElement('div');\n",
              "        docLink.innerHTML = docLinkHtml;\n",
              "        element.appendChild(docLink);\n",
              "      }\n",
              "    </script>\n",
              "  </div>\n",
              "\n",
              "\n",
              "<div id=\"df-2f2a87c4-6bbb-4735-89da-c040dad7612b\">\n",
              "  <button class=\"colab-df-quickchart\" onclick=\"quickchart('df-2f2a87c4-6bbb-4735-89da-c040dad7612b')\"\n",
              "            title=\"Suggest charts\"\n",
              "            style=\"display:none;\">\n",
              "\n",
              "<svg xmlns=\"http://www.w3.org/2000/svg\" height=\"24px\"viewBox=\"0 0 24 24\"\n",
              "     width=\"24px\">\n",
              "    <g>\n",
              "        <path d=\"M19 3H5c-1.1 0-2 .9-2 2v14c0 1.1.9 2 2 2h14c1.1 0 2-.9 2-2V5c0-1.1-.9-2-2-2zM9 17H7v-7h2v7zm4 0h-2V7h2v10zm4 0h-2v-4h2v4z\"/>\n",
              "    </g>\n",
              "</svg>\n",
              "  </button>\n",
              "\n",
              "<style>\n",
              "  .colab-df-quickchart {\n",
              "      --bg-color: #E8F0FE;\n",
              "      --fill-color: #1967D2;\n",
              "      --hover-bg-color: #E2EBFA;\n",
              "      --hover-fill-color: #174EA6;\n",
              "      --disabled-fill-color: #AAA;\n",
              "      --disabled-bg-color: #DDD;\n",
              "  }\n",
              "\n",
              "  [theme=dark] .colab-df-quickchart {\n",
              "      --bg-color: #3B4455;\n",
              "      --fill-color: #D2E3FC;\n",
              "      --hover-bg-color: #434B5C;\n",
              "      --hover-fill-color: #FFFFFF;\n",
              "      --disabled-bg-color: #3B4455;\n",
              "      --disabled-fill-color: #666;\n",
              "  }\n",
              "\n",
              "  .colab-df-quickchart {\n",
              "    background-color: var(--bg-color);\n",
              "    border: none;\n",
              "    border-radius: 50%;\n",
              "    cursor: pointer;\n",
              "    display: none;\n",
              "    fill: var(--fill-color);\n",
              "    height: 32px;\n",
              "    padding: 0;\n",
              "    width: 32px;\n",
              "  }\n",
              "\n",
              "  .colab-df-quickchart:hover {\n",
              "    background-color: var(--hover-bg-color);\n",
              "    box-shadow: 0 1px 2px rgba(60, 64, 67, 0.3), 0 1px 3px 1px rgba(60, 64, 67, 0.15);\n",
              "    fill: var(--button-hover-fill-color);\n",
              "  }\n",
              "\n",
              "  .colab-df-quickchart-complete:disabled,\n",
              "  .colab-df-quickchart-complete:disabled:hover {\n",
              "    background-color: var(--disabled-bg-color);\n",
              "    fill: var(--disabled-fill-color);\n",
              "    box-shadow: none;\n",
              "  }\n",
              "\n",
              "  .colab-df-spinner {\n",
              "    border: 2px solid var(--fill-color);\n",
              "    border-color: transparent;\n",
              "    border-bottom-color: var(--fill-color);\n",
              "    animation:\n",
              "      spin 1s steps(1) infinite;\n",
              "  }\n",
              "\n",
              "  @keyframes spin {\n",
              "    0% {\n",
              "      border-color: transparent;\n",
              "      border-bottom-color: var(--fill-color);\n",
              "      border-left-color: var(--fill-color);\n",
              "    }\n",
              "    20% {\n",
              "      border-color: transparent;\n",
              "      border-left-color: var(--fill-color);\n",
              "      border-top-color: var(--fill-color);\n",
              "    }\n",
              "    30% {\n",
              "      border-color: transparent;\n",
              "      border-left-color: var(--fill-color);\n",
              "      border-top-color: var(--fill-color);\n",
              "      border-right-color: var(--fill-color);\n",
              "    }\n",
              "    40% {\n",
              "      border-color: transparent;\n",
              "      border-right-color: var(--fill-color);\n",
              "      border-top-color: var(--fill-color);\n",
              "    }\n",
              "    60% {\n",
              "      border-color: transparent;\n",
              "      border-right-color: var(--fill-color);\n",
              "    }\n",
              "    80% {\n",
              "      border-color: transparent;\n",
              "      border-right-color: var(--fill-color);\n",
              "      border-bottom-color: var(--fill-color);\n",
              "    }\n",
              "    90% {\n",
              "      border-color: transparent;\n",
              "      border-bottom-color: var(--fill-color);\n",
              "    }\n",
              "  }\n",
              "</style>\n",
              "\n",
              "  <script>\n",
              "    async function quickchart(key) {\n",
              "      const quickchartButtonEl =\n",
              "        document.querySelector('#' + key + ' button');\n",
              "      quickchartButtonEl.disabled = true;  // To prevent multiple clicks.\n",
              "      quickchartButtonEl.classList.add('colab-df-spinner');\n",
              "      try {\n",
              "        const charts = await google.colab.kernel.invokeFunction(\n",
              "            'suggestCharts', [key], {});\n",
              "      } catch (error) {\n",
              "        console.error('Error during call to suggestCharts:', error);\n",
              "      }\n",
              "      quickchartButtonEl.classList.remove('colab-df-spinner');\n",
              "      quickchartButtonEl.classList.add('colab-df-quickchart-complete');\n",
              "    }\n",
              "    (() => {\n",
              "      let quickchartButtonEl =\n",
              "        document.querySelector('#df-2f2a87c4-6bbb-4735-89da-c040dad7612b button');\n",
              "      quickchartButtonEl.style.display =\n",
              "        google.colab.kernel.accessAllowed ? 'block' : 'none';\n",
              "    })();\n",
              "  </script>\n",
              "</div>\n",
              "    </div>\n",
              "  </div>\n"
            ],
            "application/vnd.google.colaboratory.intrinsic+json": {
              "type": "dataframe",
              "variable_name": "df",
              "summary": "{\n  \"name\": \"df\",\n  \"rows\": 5122,\n  \"fields\": [\n    {\n      \"column\": \"ID_cat\",\n      \"properties\": {\n        \"dtype\": \"number\",\n        \"std\": 101,\n        \"min\": 27,\n        \"max\": 897,\n        \"num_unique_values\": 152,\n        \"samples\": [\n          152,\n          107,\n          77\n        ],\n        \"semantic_type\": \"\",\n        \"description\": \"\"\n      }\n    },\n    {\n      \"column\": \"subcategoria\",\n      \"properties\": {\n        \"dtype\": \"category\",\n        \"num_unique_values\": 149,\n        \"samples\": [\n          \"Gazpacho y cremas\",\n          \"Chocolate\",\n          \"Pescado congelado\"\n        ],\n        \"semantic_type\": \"\",\n        \"description\": \"\"\n      }\n    },\n    {\n      \"column\": \"ID_subcat\",\n      \"properties\": {\n        \"dtype\": \"number\",\n        \"std\": 183,\n        \"min\": 101,\n        \"max\": 898,\n        \"num_unique_values\": 447,\n        \"samples\": [\n          347,\n          718,\n          367\n        ],\n        \"semantic_type\": \"\",\n        \"description\": \"\"\n      }\n    },\n    {\n      \"column\": \"categoria_producto\",\n      \"properties\": {\n        \"dtype\": \"category\",\n        \"num_unique_values\": 420,\n        \"samples\": [\n          \"Bac\\u00f3n\",\n          \"Pintalabios fijo\",\n          \"Base de pizza\"\n        ],\n        \"semantic_type\": \"\",\n        \"description\": \"\"\n      }\n    },\n    {\n      \"column\": \"ID_pro\",\n      \"properties\": {\n        \"dtype\": \"string\",\n        \"num_unique_values\": 4812,\n        \"samples\": [\n          \"21312\",\n          \"60624\",\n          \"9579\"\n        ],\n        \"semantic_type\": \"\",\n        \"description\": \"\"\n      }\n    },\n    {\n      \"column\": \"Nombre\",\n      \"properties\": {\n        \"dtype\": \"string\",\n        \"num_unique_values\": 4411,\n        \"samples\": [\n          \"Jab\\u00f3n de manos sandalwood & coconut Deliplus\",\n          \"Ensalada mil islas\",\n          \"Masa fresca Hacendado hojaldre con mantequilla\"\n        ],\n        \"semantic_type\": \"\",\n        \"description\": \"\"\n      }\n    },\n    {\n      \"column\": \"Precio\",\n      \"properties\": {\n        \"dtype\": \"category\",\n        \"num_unique_values\": 614,\n        \"samples\": [\n          \"6.12\",\n          \"3.15\",\n          \"2.71\"\n        ],\n        \"semantic_type\": \"\",\n        \"description\": \"\"\n      }\n    },\n    {\n      \"column\": \"Precio_KG/L\",\n      \"properties\": {\n        \"dtype\": \"category\",\n        \"num_unique_values\": 1224,\n        \"samples\": [\n          \"3.50\",\n          \"5.97\",\n          \"3.27\"\n        ],\n        \"semantic_type\": \"\",\n        \"description\": \"\"\n      }\n    },\n    {\n      \"column\": \"Fecha_actual\",\n      \"properties\": {\n        \"dtype\": \"object\",\n        \"num_unique_values\": 1,\n        \"samples\": [\n          \"2024-05-07\"\n        ],\n        \"semantic_type\": \"\",\n        \"description\": \"\"\n      }\n    }\n  ]\n}"
            }
          },
          "metadata": {},
          "execution_count": 245
        }
      ],
      "source": [
        "# Obtener la fecha actual\n",
        "fecha_actual = datetime.today().strftime('%Y-%m-%d')  # Formato YYYY-MM-DD\n",
        "\n",
        "# Agregar una nueva columna con la fecha actual al DataFrame\n",
        "df['Fecha_actual'] = fecha_actual\n",
        "df"
      ]
    },
    {
      "cell_type": "code",
      "source": [
        "nombre_buscado = 'Zumo de manzana selección Hacendado'\n",
        "\n",
        "fila = df.loc[df['Nombre'] == nombre_buscado]\n",
        "\n",
        "if not fila.empty:\n",
        "    print(\"Se encontró el nombre en el DataFrame:\")\n",
        "    print(fila)\n",
        "else:\n",
        "    print(\"El nombre no se encontró en el DataFrame.\")"
      ],
      "metadata": {
        "colab": {
          "base_uri": "https://localhost:8080/"
        },
        "id": "CxN3aJumc7y8",
        "outputId": "252e622d-a8e8-41de-ad83-666efe6ee4c2"
      },
      "execution_count": 246,
      "outputs": [
        {
          "output_type": "stream",
          "name": "stdout",
          "text": [
            "Se encontró el nombre en el DataFrame:\n",
            "      ID_cat            subcategoria  ID_subcat categoria_producto ID_pro  \\\n",
            "5120      98  Tomate y otros sabores        101      Otros sabores  39922   \n",
            "\n",
            "                                   Nombre Precio Precio_KG/L Fecha_actual  \n",
            "5120  Zumo de manzana selección Hacendado   1.50        1.50   2024-05-07  \n"
          ]
        }
      ]
    },
    {
      "cell_type": "code",
      "execution_count": 247,
      "metadata": {
        "id": "rWN52-lZkxmG"
      },
      "outputs": [],
      "source": [
        "df.to_csv(r\"Mercadona.csv\",index=False)"
      ]
    }
  ],
  "metadata": {
    "colab": {
      "provenance": [],
      "include_colab_link": true
    },
    "kernelspec": {
      "display_name": "Python 3",
      "name": "python3"
    },
    "language_info": {
      "name": "python"
    }
  },
  "nbformat": 4,
  "nbformat_minor": 0
}